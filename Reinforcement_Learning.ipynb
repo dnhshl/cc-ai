{
  "nbformat": 4,
  "nbformat_minor": 0,
  "metadata": {
    "kernelspec": {
      "display_name": "Python 3",
      "language": "python",
      "name": "python3"
    },
    "language_info": {
      "codemirror_mode": {
        "name": "ipython",
        "version": 3
      },
      "file_extension": ".py",
      "mimetype": "text/x-python",
      "name": "python",
      "nbconvert_exporter": "python",
      "pygments_lexer": "ipython3",
      "version": "3.7.4"
    },
    "colab": {
      "name": "5A_Reinforcement_Learning.ipynb",
      "provenance": [],
      "include_colab_link": true
    }
  },
  "cells": [
    {
      "cell_type": "markdown",
      "metadata": {
        "id": "view-in-github",
        "colab_type": "text"
      },
      "source": [
        "<a href=\"https://colab.research.google.com/github/dnhshl/cc-ai/blob/main/Reinforcement_Learning.ipynb\" target=\"_parent\"><img src=\"https://colab.research.google.com/assets/colab-badge.svg\" alt=\"Open In Colab\"/></a>"
      ]
    },
    {
      "cell_type": "markdown",
      "metadata": {
        "id": "T3Q_YoDvxvUn"
      },
      "source": [
        ""
      ]
    },
    {
      "cell_type": "markdown",
      "metadata": {
        "id": "TiWnkm97z0bS"
      },
      "source": [
        ""
      ]
    },
    {
      "cell_type": "markdown",
      "metadata": {
        "id": "vj8sw5EMxtpF"
      },
      "source": [
        "# Introduction to Reinforcement Learning (RL) in PyTorch"
      ]
    },
    {
      "cell_type": "markdown",
      "metadata": {
        "id": "D4-gtcRvxtpH"
      },
      "source": [
        "### Recap of Supervised Learning\n",
        "\n",
        "So far, we've primarily concerned ourselves with supervised learning problems (mostly classification).\n",
        "In supervised learning, we are given some sort of training data consisting of input/output pairs, with the goal being to be able to predict the output given some new inputs after learning the model.\n",
        "For example, we previously looked at a Convolutional Neural Network (CNN) classification model for MNIST; given a training set of 60000 digit images and corresponding digit labels (e.g. '5'), we learned a model that was capable of predicting the digit label of new MNIST images.\n",
        "In order words, something like (but not exactly) this:\n",
        "<img src=\"https://github.com/dnhshl/cc-ai/blob/main/Figures/mnist_cnn_ex.png?raw=1\" alt=\"mnist_cnn_ex\" style=\"width: 500px;\"/>\n",
        "\n",
        "What if we want to learn how to perform more complex behaviors, where data collection can be expensive? \n",
        "How do you teach a robot to walk? \n",
        "Self-driving cars? \n",
        "How do you defeat human champions in the game of Go? "
      ]
    },
    {
      "cell_type": "markdown",
      "metadata": {
        "id": "eGvNzhc3xtpJ"
      },
      "source": [
        "### Reinforcement Learning\n",
        "Enter Reinforcement Learning. \n",
        "In Reinforcement Learning, our model (commonly referred to as an *agent* in this context) interacts with an *environment* by taking *actions* $a$ and receives some sort of feedback from the environment in the form of a *reward* $r$. \n",
        "In this sense, reinforcement learning algorithms learn by experience.\n",
        "We call the trajectory of going from start to finish of a task an *episode*, and often our agent will learn by undergoing many episodes.\n",
        "<img src=\"https://github.com/dnhshl/cc-ai/blob/main/Figures/RL.PNG?raw=1\" alt=\"RL\" style=\"width: 300px;\"/>\n",
        "\n",
        "Many reinforcement learning algorithms are modeled as Markov Decision Processes (MDPs). \n",
        "In these settings, we have a concept of a *state* $s$, which encapsulates the situation of the agent (e.g. location, velocity).\n",
        "From each state $s_t$, the agent takes an action $a_t$, which results in a transition from one state $s_t$ to another $s_{t+1}$.\n",
        "In many settings, there is stochasticity in this transition, meaning that there's is a distribution over $s_{t+1}$ conditioned on $s_t$ and $a_t$.\n",
        "Often, several of these states are considered episode ending, after which the agent can no longer make any transitions or collect any more reward.\n",
        "These correspond to states such as reaching the final goal, a game concluding, or falling of a cliff.\n",
        "In the end, our goal is to learn a *policy* $\\pi$, or a mapping from states to actions.\n",
        "\n",
        "In an MDP, we assume that we can always tell which state $s_t$ our agents is in.\n",
        "However, this isn't always the case.\n",
        "Sometimes, all we have access to are observations $o_t$ that provide information the state $s_t$, but enough to precisely pinpoint the exact one.\n",
        "We call such settings Partially Observable Markov Decision Processes (POMDPs).\n",
        "Imagine for example a [Roomba](https://en.wikipedia.org/wiki/Roomba) being trained to navigate a living room with RL.\n",
        "From its infrared and mechanical \"bump\" sensors, it receives partial information ($o_t$) as to where it might be, but not a definitive location ($s_t$).\n",
        "Operating as a POMDP adds a whole layer of complexity to RL algorithms.\n",
        "For the rest of day though, we'll focus on MDPs, as their much simpler and easier to use to teach basic concepts.\n",
        "\n",
        "\n",
        "#### A simple MDP example\n",
        "\n",
        "<img src=\"https://github.com/dnhshl/cc-ai/blob/main/Figures/MDP.png?raw=1\" alt=\"MDP\" style=\"width: 400px;\"/>\n",
        "\n",
        "\n",
        "In the above example, we can see the 3 possible states for the agent as $s_0$, $s_1$, and $s_2$, with 2 actions $a_0$ and $a_1$ available from each state.\n",
        "We can see that the each action doesn't lead to a determinstic transition to the next state, as shown by multiple paths from each action. \n",
        "Note that each of the outcomes of an action are labeled with a small black number between 0 and 1.\n",
        "This denotes the probability of that outcome (which state we end up at) given the the action; as these are probabilites, the sum of the probabilities of arriving at each of the next states $s_{t+1}$ given a previous state $s_t$ and selected action $a_t$ is 1.\n",
        "\n",
        "#### Objective\n",
        "\n",
        "The goal of the agent is to maximize the total reward $R$ it can receive over some number of steps.\n",
        "It is important to ensure the reward actually captures the true goal we want the agent to achieve.\n",
        "The agent will dutifully attempt maximize the objective it is given, without any considerations to any implicit objectives that a human may desire.\n",
        "There are more than a few (amusing) anecdotes of RL agents learning undesirable behaviors by exploiting some aspect of the reward function.\n",
        "As such, defining this reward requires special care.\n",
        "\n",
        "One countermeasure commonly deployed by RL researchers is the concept of *discounted* rewards.\n",
        "This is done with a multiplicative term $\\gamma$: a reward $T$ steps in the future is discounted as $\\gamma^T r_T$.\n",
        "Using discounting encourages the agent to finish the task sooner rather than later, a common implicit criterion.\n",
        "With discounting then, the RL agent's goal is to maximize:\n",
        "\\begin{align*}\n",
        "\\mathbb{E}[\\sum_{t=0}^{\\infty} \\gamma^t r_t]\n",
        "\\end{align*}\n",
        "This is far from the complete solution to making our rewards accurately capture our desired objectives, but achieving higher rewards sooner rather than later is an almost universal preference, so we almost always add it.\n",
        "Designing a good reward function can be an art is highly dependent on the task.\n",
        "\n",
        "#### Reinforcement Learning as Supervised Learning?\n",
        "At first, this doesn't seem too different from the supervised methods we've looked at before, and some natural questions might arise:\n",
        "- Why can't we just treat RL as a supervised task? \n",
        "Why can't we use the reward (or rather, the negative of the reward) as our supervised loss?\n",
        "\n",
        "Unlike in supervised learning, in reinforcement learning, we often don't have a pre-apportioned dataset to learn from.\n",
        "In some problems set-ups, we may have examples of other agents (oftentimes humans) performing the desired task, but these aren't necessarily optimal examples of how to maximize the reward, which is what we want to learn.\n",
        "In most RL settings, we don't have any examples of state-action trajectories beyond what our agent experiences through trial-and-error, which are even more suboptimal.\n",
        "\n",
        "\n",
        "### Open AI Gym\n",
        "Before we dive any deeper into implementing reinforcement learning models, first we need an environment.\n",
        "Remember, the goal is to learn an agent that can interact with an environment in the way we want, so we need something that our agent can interact with and receive rewards from.\n",
        "In robotics, this is often the real world (or some set-up in the real world).\n",
        "However, it is oftentimes cheaper and quicker to first test our algorithms in simulated settings.\n",
        "There are a number of tasks that are popular benchmarks for the reinforcement learning community, such as [cart pole](https://en.wikipedia.org/wiki/Inverted_pendulum), [mountain car](https://en.wikipedia.org/wiki/Mountain_car_problem), or [Atari 2600 games](https://gym.openai.com/envs/#atari). \n",
        "In the spirit of accelerating progress and promoting openness in the research community, Open AI has very nicely coded up [Open AI Gym](https://gym.openai.com/), which has implementations of many of these environments for public use.\n",
        "We will be using these environments, as it allows us to focus on the algorithms themselves, instead of worrying about implementing each problem setting ourselves.\n",
        "\n",
        "To use it, we first need to download and install it. Make sure you're in your PyTorch environment first!\n",
        "\n",
        "```Shell\n",
        "# If you environment isn't currently active, activate it:\n",
        "# conda activate pytorch\n",
        "\n",
        "pip install gym\n",
        "```\n",
        "\n",
        "Once it's installed, we can import it like any other Python module:"
      ]
    },
    {
      "cell_type": "code",
      "metadata": {
        "id": "V2FtIojzxtpN"
      },
      "source": [
        "import gym"
      ],
      "execution_count": null,
      "outputs": []
    },
    {
      "cell_type": "markdown",
      "metadata": {
        "id": "nhM5zqsOxtpP"
      },
      "source": [
        "### FrozenLake (a Grid World)"
      ]
    },
    {
      "cell_type": "markdown",
      "metadata": {
        "id": "zumHRBp5xtpP"
      },
      "source": [
        "Let's start with a simple environment: FrozenLake.\n",
        "Here's the official description from OpenAI gym:\n",
        "\n",
        "> *Winter is here. You and your friends were tossing around a frisbee at the park when you made a wild throw that left the frisbee out in the middle of the lake. The water is mostly frozen, but there are a few holes where the ice has melted. If you step into one of those holes, you'll fall into the freezing water. At this time, there's an international frisbee shortage, so it's absolutely imperative that you navigate across the lake and retrieve the disc. However, the ice is slippery, so you won't always move in the direction you intend.*\n",
        "\n",
        "A visualization of FrozenLake as a grid world:\n",
        "\n",
        "<img src=\"https://github.com/dnhshl/cc-ai/blob/main/Figures/FrozenLake.PNG?raw=1\" alt=\"FrozenLake\" style=\"width: 400px;\"/>\n",
        "\n",
        "At the start of an episode, we begin in the upper left corner (S).\n",
        "Our goal is to move ourself to the lower right corner (G), avoiding falling into the holes (H).\n",
        "Icy water is cold.\n",
        "\n",
        "In reinforcement learning terms, each of the 16 locations on the grid are a state, and an action is attempting to move in one of four directions (left, down, right, up).\n",
        "Each move will result in the agent's state changing from $s_t$ to $s_{t+1}$ as it changes location, unless it attempts to move in the direction of a wall, which results in the agent's state not changing (the agent doesn't move).\n",
        "We receive a positive reward of \"+1\" for reaching the goal (G), discounted according to how long it took.\n",
        "While there is not a negative reward for falling into a hole (H), the agent still pays a penalty in the sense that falling into the hole is episode-ending and therefore prevents it from receiving any reward. \n",
        "We want to learn a policy $\\pi$ that takes us from our starting location (S) to the goal (G) in as few steps as possible.\n",
        "\n",
        "To really establish what we are trying to accomplish here, it's worth debunking a few common initial misconceptions:\n",
        "\n",
        "- **Knowledge of the states and transition probabilties:** From the top-down view, your first thought might be to plot out a path from the start to the finish, just as you would with a maze.\n",
        "However, this view is provided to us the algorithm designers so we can visualize the problem at hand.\n",
        "The agent learning the task does *not* get this prior knowledge; all we are about to tell it is that there are going to be 16 states and 4 possible actions from each state.\n",
        "A more proper analogy would be if I blindfolded you and dropped you in the middle of a frozen lake, and told you your state (location) every time you decided to take a step in one of four directions, then set off fireworks when you stepped on the frisbee.\n",
        "\n",
        "- **Knowledge of the goal (reward):** In OpenAI's official description of the environment, you (the agent) know what you're hoping to accomplish: You want to retrieve the frisbee, while avoiding falling through the ice.\n",
        "The agent does *not* know this.\n",
        "Rather, it learns the goal by experiencing rewards (or penalties), and the algorithm updates its policy such that it will be more (or less) likely to do those actions again.\n",
        "Note that this means that if an agent never experiences certain rewards, it won't know they exist.\n",
        "\n",
        "- **Prior knowledge of pathfinding, physics, etc.:** As a human, even if you haven't solved this task before, you still bring a tremondous amount of prior knowledge to this problem.\n",
        "For example, you know the shortest path to a destination is a line.\n",
        "You know that North, South, East, and West, are directions, and that going North and then South brings you back to where you already were.\n",
        "You know ice is slippery.\n",
        "You know icy water is cold.\n",
        "You know being in icy cold water is bad.\n",
        "It's important to keep in mind that our agent will begin knowing none of these things; it's initial policy is essentially picking actions completely at random.\n",
        "By the end of the training, it still won't know what abstract concepts like \"North/South,\" \"cold,\" or \"slippery\" mean, but it will have (hopefully) learned a good policy that allows it to complete the goal.\n",
        "\n",
        "#### Interacting with FrozenLake\n",
        "This example is simple enough that we could code the environment and its interface ourselves fairly easily, but OpenAI has already done it, and we'd like to focus on the algorithm of solving it as much as possible.\n",
        "We can create an instantiation of FrozenLake in a single line of code:"
      ]
    },
    {
      "cell_type": "code",
      "metadata": {
        "id": "QqtloydzxtpQ"
      },
      "source": [
        "env = gym.make('FrozenLake-v0')"
      ],
      "execution_count": null,
      "outputs": []
    },
    {
      "cell_type": "markdown",
      "metadata": {
        "id": "zGSpnJw4xtpQ"
      },
      "source": [
        "Open AI Gym environments provide a mechanism to observe the state of the environment, and since FrozenLake is an MDP (as opposed to POMDP), the observation is the state itself.\n",
        "For FrozenLake, there are 16 grid locations on the map, meaning we have 16 states.\n",
        "We can confirm this by looking at the size of the `observation_space` attribute for the environment we just created."
      ]
    },
    {
      "cell_type": "code",
      "metadata": {
        "id": "bXN0DaenxtpQ",
        "outputId": "a42ccaae-7f31-4c1a-ac38-07270b4a4a02"
      },
      "source": [
        "env.observation_space"
      ],
      "execution_count": null,
      "outputs": [
        {
          "output_type": "execute_result",
          "data": {
            "text/plain": [
              "Discrete(16)"
            ]
          },
          "metadata": {
            "tags": []
          },
          "execution_count": 3
        }
      ]
    },
    {
      "cell_type": "markdown",
      "metadata": {
        "id": "cobwR_2uxtpR"
      },
      "source": [
        "Our agent will interact with this environment causing its state to change.\n",
        "For FrozenLake, we have 4 options, each corresponding to attempting to step in a particular direction: `[Left, Down, Right, Up]`.\n",
        "We can confirm this by looking at the size of the `action_space` of our environment."
      ]
    },
    {
      "cell_type": "code",
      "metadata": {
        "id": "TH2lzDu6xtpS",
        "outputId": "969af3ef-02b2-4149-e0b6-412771a56820"
      },
      "source": [
        "env.action_space"
      ],
      "execution_count": null,
      "outputs": [
        {
          "output_type": "execute_result",
          "data": {
            "text/plain": [
              "Discrete(4)"
            ]
          },
          "metadata": {
            "tags": []
          },
          "execution_count": 4
        }
      ]
    },
    {
      "cell_type": "markdown",
      "metadata": {
        "id": "RKNMdEtextpS"
      },
      "source": [
        "Before interacting with the environment, we have to first reset it to initialize it. \n",
        "Resetting also returns an observation of the first state after resetting.\n",
        "In FrozenLake, we always start in the upper left corner, which corresponds to state 0.\n",
        "As such, we see the `reset()` command returning `0`."
      ]
    },
    {
      "cell_type": "code",
      "metadata": {
        "id": "u2MH2fKWxtpS",
        "outputId": "d0c4e34c-bdd2-4d42-dd60-96075c346249"
      },
      "source": [
        "env.reset()"
      ],
      "execution_count": null,
      "outputs": [
        {
          "output_type": "execute_result",
          "data": {
            "text/plain": [
              "0"
            ]
          },
          "metadata": {
            "tags": []
          },
          "execution_count": 5
        }
      ]
    },
    {
      "cell_type": "markdown",
      "metadata": {
        "id": "S8iWXfrExtpT"
      },
      "source": [
        "We can visualize the FrozenLake environment by calling `render()`. \n",
        "In more complex tasks this will actually add frames to a video showing our agent's progress, but for FrozenLake, it just prints out a text representation, with the highlighted character showing our agent's current location.\n",
        "We can see that we started in the upper-left corner, on the \"S,\" as promised."
      ]
    },
    {
      "cell_type": "code",
      "metadata": {
        "id": "ktoBL6iHxtpT",
        "outputId": "a022a3d7-516f-42cc-87f1-a86f5acda7a7"
      },
      "source": [
        "env.render()"
      ],
      "execution_count": null,
      "outputs": [
        {
          "output_type": "stream",
          "text": [
            "\n",
            "\u001b[41mS\u001b[0mFFF\n",
            "FHFH\n",
            "FFFH\n",
            "HFFG\n"
          ],
          "name": "stdout"
        }
      ]
    },
    {
      "cell_type": "markdown",
      "metadata": {
        "id": "VEzQbKCxxtpT"
      },
      "source": [
        "Now, let's try moving.\n",
        "On thing to keep in mind is that the original FrozenLake environment is \"slippery.\" \n",
        "Because of the ice, if you try to go in one direction, you end up with a 1/3 chance of going in the direction you meant and the two adjacent directions each. \n",
        "For example, if we try going right, we have equal probabilities of slipping and going up and down instead.\n",
        "This makes things a little more complicated, so for now, let's first turn off the stochasticity and make this a deterministic transition instead.\n",
        "We do this by registering a new type of environment, and then instantiating a copy of said environment, making sure to reset it first."
      ]
    },
    {
      "cell_type": "code",
      "metadata": {
        "id": "YeIRKfQQxtpU",
        "outputId": "ef1c039c-601b-4081-f7a2-e5f5ab520179"
      },
      "source": [
        "# Non-slippery version\n",
        "\n",
        "from gym.envs.registration import register\n",
        "register(\n",
        "    id='FrozenLakeNotSlippery-v0',\n",
        "    entry_point='gym.envs.toy_text:FrozenLakeEnv',\n",
        "    kwargs={'map_name' : '4x4', 'is_slippery': False},\n",
        ")\n",
        "env = gym.make('FrozenLakeNotSlippery-v0')\n",
        "env.reset()"
      ],
      "execution_count": null,
      "outputs": [
        {
          "output_type": "execute_result",
          "data": {
            "text/plain": [
              "0"
            ]
          },
          "metadata": {
            "tags": []
          },
          "execution_count": 7
        }
      ]
    },
    {
      "cell_type": "markdown",
      "metadata": {
        "id": "mBmHMsPQxtpU"
      },
      "source": [
        "We advance time in an OpenAI environment with the `step()` method, which takes as argument an `action`.\n",
        "Let's trying moving right, which corresponds to action `2`.\n",
        "Notice that the output is a tuple of four elements: the next observation (`object`), the reward (`float`), whether or not the episode is done (`boolean`), and a dictionary of information (`dict`) that may be useful for debugging (this dict shouldn't be used in the final algorithm itself)."
      ]
    },
    {
      "cell_type": "code",
      "metadata": {
        "id": "xux3PZInxtpV",
        "outputId": "a5ad4f98-1c5c-4ce3-e229-18405beafc4a"
      },
      "source": [
        "env.step(2)"
      ],
      "execution_count": null,
      "outputs": [
        {
          "output_type": "execute_result",
          "data": {
            "text/plain": [
              "(1, 0.0, False, {'prob': 1.0})"
            ]
          },
          "metadata": {
            "tags": []
          },
          "execution_count": 8
        }
      ]
    },
    {
      "cell_type": "markdown",
      "metadata": {
        "id": "6TKbXhkuxtpW"
      },
      "source": [
        "Next, let's `render()` to visualize what happened.\n",
        "Observe that this particular environment prints out the action we took in parentheses up top, in this case \"(Right)\", and then shows the result of that action.\n",
        "Notice that while most of the time, we succeed in going in the direction we want to, occasionally we slip on the ice and go in a direction we didn't intend."
      ]
    },
    {
      "cell_type": "code",
      "metadata": {
        "id": "fN7Ua_KvxtpW",
        "outputId": "d5e8bba7-791e-4222-cc49-c1af246f9176"
      },
      "source": [
        "env.render()"
      ],
      "execution_count": null,
      "outputs": [
        {
          "output_type": "stream",
          "text": [
            "  (Right)\n",
            "S\u001b[41mF\u001b[0mFF\n",
            "FHFH\n",
            "FFFH\n",
            "HFFG\n"
          ],
          "name": "stdout"
        }
      ]
    },
    {
      "cell_type": "markdown",
      "metadata": {
        "id": "COXHdmzgxtpX"
      },
      "source": [
        "We can keep doing this as many times as we want.\n",
        "Since we're in Jupyter, we can just keep running the same cell (making small edits to change our action).\n",
        "\n",
        "Notice that once we fall into a hole, the episode is over, and we can no longer do anything.\n",
        "The same is true after reaching the goal."
      ]
    },
    {
      "cell_type": "code",
      "metadata": {
        "scrolled": true,
        "id": "eIFgs4FuxtpX",
        "outputId": "5e8fd620-bb33-4f67-9ab0-5a871dedc1cc"
      },
      "source": [
        "env.step(0)\n",
        "env.render()"
      ],
      "execution_count": null,
      "outputs": [
        {
          "output_type": "stream",
          "text": [
            "  (Left)\n",
            "\u001b[41mS\u001b[0mFFF\n",
            "FHFH\n",
            "FFFH\n",
            "HFFG\n"
          ],
          "name": "stdout"
        }
      ]
    },
    {
      "cell_type": "markdown",
      "metadata": {
        "id": "vSediE4_xtpX"
      },
      "source": [
        "Before we get into any RL, let's see how random actions perform in this environment:"
      ]
    },
    {
      "cell_type": "code",
      "metadata": {
        "id": "0wbEHr1RxtpX",
        "outputId": "afe377d2-f25d-4f0e-ff69-80c31b6e0c2e"
      },
      "source": [
        "env.reset()\n",
        "done = False\n",
        "\n",
        "while not done:\n",
        "    env.render()\n",
        "    action = env.action_space.sample()\n",
        "    _, _, done, _ = env.step(action)"
      ],
      "execution_count": null,
      "outputs": [
        {
          "output_type": "stream",
          "text": [
            "\n",
            "\u001b[41mS\u001b[0mFFF\n",
            "FHFH\n",
            "FFFH\n",
            "HFFG\n",
            "  (Left)\n",
            "\u001b[41mS\u001b[0mFFF\n",
            "FHFH\n",
            "FFFH\n",
            "HFFG\n",
            "  (Right)\n",
            "S\u001b[41mF\u001b[0mFF\n",
            "FHFH\n",
            "FFFH\n",
            "HFFG\n",
            "  (Up)\n",
            "S\u001b[41mF\u001b[0mFF\n",
            "FHFH\n",
            "FFFH\n",
            "HFFG\n",
            "  (Up)\n",
            "S\u001b[41mF\u001b[0mFF\n",
            "FHFH\n",
            "FFFH\n",
            "HFFG\n"
          ],
          "name": "stdout"
        }
      ]
    },
    {
      "cell_type": "markdown",
      "metadata": {
        "id": "8fcbe6FuxtpY"
      },
      "source": [
        "Hm. \n",
        "Not great. \n",
        "Alright, so clearly picking random steps isn't very likely to take us to the goal.\n",
        "It's apparent just from looking at the map that there're much better policies that we can learn.\n",
        "How are we going to do so?\n",
        "\n",
        "#### Q-learning\n",
        "There are many algorithms that we can use, but let's choose Q-learning, which we covered earlier today.\n",
        "Remember, in Q-learning (and SARSA, it turns out), we're trying learn the Q values for the states in our system.\n",
        "\n",
        "The Q value for a policy $\\pi$ is a function of the state $s$ and action $a$ and is defined as the following:\n",
        "\\begin{equation}\n",
        "Q_\\pi (s,a) = \\mathbb{E}\\big[\\sum_{t=0}^{\\infty} \\gamma^t r_t \\big|\\pi, s_0 = s, a_0 = a\\big]\n",
        "\\end{equation}\n",
        "Intuitively, the Q value is the total reward (including discounting) that the agent will gain if it takes action $a$ from state $s$ and then follows policy $\\pi$ for the rest of the episode.\n",
        "As one might expect, if Q is known exactly, the agent will attain the highest reward from $s$ if the policy $\\pi$ is to pick the $a$ with the highest Q value.\n",
        "\n",
        "Okay, so if we know the Q values for the system, then we can trivially find the optimal policy.\n",
        "So what are the Q values of the system?\n",
        "Well, at the beginning, we don't know, but we can try to learn them through experience.\n",
        "This is where Q-learning comes in.\n",
        "Q-learning iteratively updates the Q values in the following way:\n",
        "\\begin{equation}\n",
        "Q_\\pi (s_t, a_t) \\leftarrow (1 - \\alpha) \\cdot Q_\\pi(s_t, a_t) + \\alpha \\cdot \\big(r_t + \\gamma \\max_a Q_\\pi(s_{t+1}, a)\\big)\n",
        "\\end{equation}\n",
        "Notice that Q-learning is an *off-policy* method, in the sense that you don't actually learn from the trajectory you actually took (otherwise it'd be SARSA).\n",
        "Instead, we learn from the *greedy* transition, i.e. the best action we know how to take.\n",
        "\n",
        "And that's it! \n",
        "We run our agent through many episodes, experiencing many $s_t \\rightarrow a_t \\rightarrow s_{t+1}$ transitions and rewards, and just like that, we eventually learn a good Q function (and thus a good policy).\n",
        "Now of course, there are a bunch of small details and tweaks to make this work in practice, but we'll get to those later.\n",
        "\n",
        "#### Q-learning in FrozenLake\n",
        "FrozenLake is a very simple setting, one that we would call a toy problem.\n",
        "With only 16 states and 4 actions, there are only 64 state-action pairs possible (16x4=64), less if we account for the goal and the holes being episode ending (for simplicity though, we won't). \n",
        "With this few state-action pairs, we can actually solve this problem tabularly.\n",
        "Let's set up a Q table, and initialize the Q-values for all state-action pairs to zeros.\n",
        "Note that while we could, we're actually not going to need PyTorch in this example; PyTorch's autograd and neural network libraries are unnecessary here, as we're only going to be modifying a table of numbers.\n",
        "Instead, we'll use a Numpy array to store the Q table."
      ]
    },
    {
      "cell_type": "code",
      "metadata": {
        "id": "hAuxrXQoxtpY"
      },
      "source": [
        "import numpy as np\n",
        "\n",
        "#Initialize table with all zeros to be uniform\n",
        "Q = np.zeros([env.observation_space.n, env.action_space.n])"
      ],
      "execution_count": null,
      "outputs": []
    },
    {
      "cell_type": "markdown",
      "metadata": {
        "id": "gsLlVkBgxtpY"
      },
      "source": [
        "A few hyperparameters we're going to set:\n",
        "- `alpha`: learning rate for the Q function\n",
        "- `gamma`: discount rate for future rewards\n",
        "- `num_episodes`: number of episodes (trajectories from start to goal/hole) our agent will learn from\n",
        "\n",
        "We're also going to store our rewards in an array called `rs`."
      ]
    },
    {
      "cell_type": "code",
      "metadata": {
        "id": "m9MRVzCLxtpZ"
      },
      "source": [
        "# Learning parameters\n",
        "alpha = 0.1\n",
        "gamma = 0.95\n",
        "num_episodes = 2000\n",
        "\n",
        "# array of reward for each episode\n",
        "rs = np.zeros([num_episodes])"
      ],
      "execution_count": null,
      "outputs": []
    },
    {
      "cell_type": "markdown",
      "metadata": {
        "id": "95kZBLorxtpZ"
      },
      "source": [
        "Now for the bulk of algorithm itself.\n",
        "Notice that we're going to loop through the process `num_episodes` times, resetting the environment each time.\n",
        "At each step, we take the action with the highest Q value for our current state, with some randomness added in (especially at the beginning) to encourage exploration.\n",
        "After each action, we update our Q table greedily based on the reward experienced and the next best action.\n",
        "We also make sure to update our state, rinse, and repeat. \n",
        "We continue taking actions in an episode until it is `done`, storing the final total reward for the episode."
      ]
    },
    {
      "cell_type": "code",
      "metadata": {
        "id": "aGrTTDxnxtpZ"
      },
      "source": [
        "for i in range(num_episodes):\n",
        "    # Set total reward and time to zero, done to False\n",
        "    r_sum_i = 0\n",
        "    t = 0\n",
        "    done = False\n",
        "    \n",
        "    #Reset environment and get first new observation\n",
        "    s = env.reset()\n",
        "    \n",
        "    while not done:\n",
        "        # Choose an action by greedily (with noise) from Q table\n",
        "        a = np.argmax(Q[s,:] + np.random.randn(1, env.action_space.n)*(1./(i/10+1)))\n",
        "        \n",
        "        # Get new state and reward from environment\n",
        "        s1, r, done, _ = env.step(a)\n",
        "        \n",
        "        # Update Q-Table with new knowledge\n",
        "        Q[s,a] = (1 - alpha)*Q[s,a] + alpha*(r + gamma*np.max(Q[s1,:]))\n",
        "        \n",
        "        # Add reward to episode total\n",
        "        r_sum_i += r*gamma**t\n",
        "        \n",
        "        # Update state and time\n",
        "        s = s1\n",
        "        t += 1\n",
        "    rs[i] = r_sum_i"
      ],
      "execution_count": null,
      "outputs": []
    },
    {
      "cell_type": "markdown",
      "metadata": {
        "id": "EGdEKkVoxtpZ"
      },
      "source": [
        "How did we do?\n",
        "Let's take a look at the rewards that we saved.\n",
        "We can plot the reward versus the episode number, and hopefully we'll see some sort of an increase over time.\n",
        "RL performance can be extremely noisy, so let's instead plot a moving average."
      ]
    },
    {
      "cell_type": "code",
      "metadata": {
        "id": "NbopkBISxtpZ",
        "outputId": "ea526855-0772-4b0d-e2d6-5902f7ec3697"
      },
      "source": [
        "## Plot reward vs episodes\n",
        "import matplotlib.pyplot as plt\n",
        "\n",
        "# Sliding window average\n",
        "r_cumsum = np.cumsum(np.insert(rs, 0, 0)) \n",
        "r_cumsum = (r_cumsum[50:] - r_cumsum[:-50]) / 50\n",
        "\n",
        "# Plot\n",
        "plt.plot(r_cumsum)\n",
        "plt.show()"
      ],
      "execution_count": null,
      "outputs": [
        {
          "output_type": "display_data",
          "data": {
            "image/png": "[encoded data removed]",
            "text/plain": [
              "<Figure size 432x288 with 1 Axes>"
            ]
          },
          "metadata": {
            "tags": [],
            "needs_background": "light"
          }
        }
      ]
    },
    {
      "cell_type": "markdown",
      "metadata": {
        "id": "6s7OIdt3xtpa"
      },
      "source": [
        "Pretty good.\n",
        "We might also be interested in how often our agent actually reached the goal.\n",
        "This won't account for how quickly the agent got there (which might also of interest), but let's ignore that for now.\n",
        "To prevent us from being overwhelmed by data points, let's bucket the values into 10 stages, printing out how many episodes of each stage resulted in finding the goal."
      ]
    },
    {
      "cell_type": "code",
      "metadata": {
        "id": "nntSJxAHxtpa",
        "outputId": "2c641613-1ae4-4615-8945-a80eee5c891b"
      },
      "source": [
        "# Print number of times the goal was reached\n",
        "N = len(rs)//10\n",
        "num_Gs = np.zeros(10)\n",
        "\n",
        "for i in range(10):\n",
        "    num_Gs[i] = np.sum(rs[i*N:(i+1)*N] > 0)\n",
        "    \n",
        "print(\"Rewards: {0}\".format(num_Gs))"
      ],
      "execution_count": null,
      "outputs": [
        {
          "output_type": "stream",
          "text": [
            "Rewards: [  4. 132. 200. 200. 200. 200. 200. 200. 200. 200.]\n"
          ],
          "name": "stdout"
        }
      ]
    },
    {
      "cell_type": "markdown",
      "metadata": {
        "id": "fAko4mdhxtpa"
      },
      "source": [
        "Our RL agent does a really good job at navigating the FrozenLake when its moves are deterministic, but after all, this is\n",
        "supposed to be *Frozen*Lake, so where's the fun without the slipperiness?\n",
        "Let's go back to the original environment and see how the agent does."
      ]
    },
    {
      "cell_type": "code",
      "metadata": {
        "id": "ciSJHTd9xtpa",
        "outputId": "5d3471d3-96c2-46f4-f5be-e932c485dcfb"
      },
      "source": [
        "env = gym.make('FrozenLake-v0')\n",
        "\n",
        "#Initialize table with all zeros to be uniform\n",
        "Q = np.zeros([env.observation_space.n, env.action_space.n])\n",
        "\n",
        "# Learning parameters\n",
        "alpha = 0.1\n",
        "gamma = 0.95\n",
        "num_episodes = 2000\n",
        "\n",
        "# array of reward for each episode\n",
        "rs = np.zeros([num_episodes])\n",
        "\n",
        "for i in range(num_episodes):\n",
        "    # Set total reward and time to zero, done to False\n",
        "    r_sum_i = 0\n",
        "    t = 0\n",
        "    done = False\n",
        "    \n",
        "    #Reset environment and get first new observation\n",
        "    s = env.reset()\n",
        "    \n",
        "    while not done:\n",
        "        # Choose an action by greedily (with noise) from Q table\n",
        "        a = np.argmax(Q[s,:] + np.random.randn(1, env.action_space.n)*(1./(i/10+1)))\n",
        "        \n",
        "        # Get new state and reward from environment\n",
        "        s1, r, done, _ = env.step(a)\n",
        "        \n",
        "        # Update Q-Table with new knowledge\n",
        "        Q[s,a] = (1 - alpha)*Q[s,a] + alpha*(r + gamma*np.max(Q[s1,:]))\n",
        "        \n",
        "        # Add reward to episode total\n",
        "        r_sum_i += r*gamma**t\n",
        "        \n",
        "        # Update state and time\n",
        "        s = s1\n",
        "        t += 1\n",
        "    rs[i] = r_sum_i\n",
        "\n",
        "## Plot reward vs episodes\n",
        "# Sliding window average\n",
        "r_cumsum = np.cumsum(np.insert(rs, 0, 0)) \n",
        "r_cumsum = (r_cumsum[50:] - r_cumsum[:-50]) / 50\n",
        "\n",
        "# Plot\n",
        "plt.plot(r_cumsum)\n",
        "plt.show()\n",
        "\n",
        "# Print number of times the goal was reached\n",
        "N = len(rs)//10\n",
        "num_Gs = np.zeros(10)\n",
        "\n",
        "for i in range(10):\n",
        "    num_Gs[i] = np.sum(rs[i*N:(i+1)*N] > 0)\n",
        "    \n",
        "print(\"Rewards: {0}\".format(num_Gs))"
      ],
      "execution_count": null,
      "outputs": [
        {
          "output_type": "display_data",
          "data": {
            "image/png": "[encoded data removed]",
            "text/plain": [
              "<Figure size 432x288 with 1 Axes>"
            ]
          },
          "metadata": {
            "tags": [],
            "needs_background": "light"
          }
        },
        {
          "output_type": "stream",
          "text": [
            "Rewards: [ 2.  2.  2. 14. 30. 37. 34. 36. 40. 38.]\n"
          ],
          "name": "stdout"
        }
      ]
    },
    {
      "cell_type": "markdown",
      "metadata": {
        "id": "T1nmNiY0xtpb"
      },
      "source": [
        "Much harder.\n",
        "However, we can see that the model does eventually learn something."
      ]
    },
    {
      "cell_type": "markdown",
      "metadata": {
        "id": "mEt834ZPxtpb"
      },
      "source": [
        "### PyTorch in RL\n",
        "Hey, not bad.\n",
        "However, while the previous example was fun and simple, it was noticeably lacking any hint of PyTorch.\n",
        "\n",
        "We could have used a PyTorch `Tensor` to store the Q table, but that's not any better than using a NumPy array.\n",
        "PyTorch's true utility comes from building neural networks and calculating/applying gradients automatically, which learning the Q table didn't need. \n",
        "\n",
        "#### Continuous domains\n",
        "In our previous example, we mentioned that with only 16 discrete states and 4 actions/state, the Q table only needed to hold 64 values, which is very manageable.\n",
        "However, what if the state or action space is continuous?\n",
        "You could discretize it, but then you have to pick a resolution, and your state-action space could explode exponentially.\n",
        "Treating these binned states or actions as completely different states is also ignoring that two consecutive bins are likely very similar in the needed policy.\n",
        "You can learn these relationships, but doing so is horriby sample inefficient.\n",
        "\n",
        "Instead of learning a Q table then, perhaps a Q function would be more appropriate.\n",
        "This function would take in a state and action as an input and return a Q value as an output.\n",
        "The Q function may be very complex, but as we've learned over the past few days, neural networks are very flexible and good for approximating arbitrary functions.\n",
        "[Deep Q Networks](https://deepmind.com/research/dqn/) take such an approach."
      ]
    },
    {
      "cell_type": "markdown",
      "metadata": {
        "id": "Q-2wjWr-xtpb"
      },
      "source": [
        "### Cart Pole"
      ]
    },
    {
      "cell_type": "markdown",
      "metadata": {
        "id": "aGHESFQxxtpb"
      },
      "source": [
        "Let's look at the cart pole problem next. \n",
        "In this setting, we have a pole attached to a hinge on a cart, with the goal being to keep the pole vertical as long as possible, without traveling too far along the rail.\n",
        "Because of gravity, the pole will fall unless the cart is exactly beneath the the pole's center of gravity.\n",
        "To prevent the pole from falling, the agent can apply a force of +1 or -1 to the cart to move it left and right along a track.\n",
        "The agent receives a reward of +1 for every timestamp the pole remains vertical; the game ends when the pole fall past 15 degrees from vertical or the cart moves more than 2.4 units away from the center.\n",
        "We're going to somewhat arbitrarily call \"success\" achieving a reward of +200; alternatively, the agent needs to avoid the aforementioned failure conditions for 200 ticks.\n",
        "\n",
        "<img src=\"https://github.com/dnhshl/cc-ai/blob/main/Figures/polebalance.gif?raw=1\" alt=\"polebalance\" style=\"width: 400px;\"/>\n",
        "\n",
        "First, let's create an instance of the cart pole environment:"
      ]
    },
    {
      "cell_type": "code",
      "metadata": {
        "id": "q-2WOBHUxtpb"
      },
      "source": [
        "env = gym.make('CartPole-v0')"
      ],
      "execution_count": null,
      "outputs": []
    },
    {
      "cell_type": "markdown",
      "metadata": {
        "id": "oDVqRBD2xtpb"
      },
      "source": [
        "Again, we can look at the `observation_space` for this environment.\n",
        "Also similar to FrozenLake, since this version of cart pole is an MDP (as opposed to POMDP), the observation is the state itself.\n",
        "We can see that the states for cart pole have 4 dimensions, which correspond to `[cart position, cart velocity, pole angle, pole angular velocity]`.\n",
        "Importantly, notice these states are *continuous* values."
      ]
    },
    {
      "cell_type": "code",
      "metadata": {
        "scrolled": true,
        "id": "HilweWrExtpc",
        "outputId": "62266988-ed9a-435d-a4db-ed6c4b482ff8"
      },
      "source": [
        "env.observation_space"
      ],
      "execution_count": null,
      "outputs": [
        {
          "output_type": "execute_result",
          "data": {
            "text/plain": [
              "Box(4,)"
            ]
          },
          "metadata": {
            "tags": []
          },
          "execution_count": 19
        }
      ]
    },
    {
      "cell_type": "markdown",
      "metadata": {
        "id": "bf0qx_wyxtpc"
      },
      "source": [
        "We can look at the `action_space` again too.\n",
        "In cart pole, there are two actions available to the agent: `[apply force left, apply force right]`.\n",
        "We can see this by examining the `action_space` attribute:"
      ]
    },
    {
      "cell_type": "code",
      "metadata": {
        "id": "nK6-CIuCxtpc",
        "outputId": "a2590e16-fc64-43ef-8538-9e8a207bfd36"
      },
      "source": [
        "env.action_space"
      ],
      "execution_count": null,
      "outputs": [
        {
          "output_type": "execute_result",
          "data": {
            "text/plain": [
              "Discrete(2)"
            ]
          },
          "metadata": {
            "tags": []
          },
          "execution_count": 20
        }
      ]
    },
    {
      "cell_type": "markdown",
      "metadata": {
        "id": "vf_mGgq7xtpc"
      },
      "source": [
        "Resetting the environment returns our first observations, which we can see has 4 values corresponding to the 4 previously mentioned state variables."
      ]
    },
    {
      "cell_type": "code",
      "metadata": {
        "id": "jfeO-5ZOxtpc",
        "outputId": "ef1ad667-ead1-4767-c777-b47733663b49"
      },
      "source": [
        "env.reset()"
      ],
      "execution_count": null,
      "outputs": [
        {
          "output_type": "execute_result",
          "data": {
            "text/plain": [
              "array([-0.0239603 , -0.03830238,  0.03206419,  0.03205805])"
            ]
          },
          "metadata": {
            "tags": []
          },
          "execution_count": 21
        }
      ]
    },
    {
      "cell_type": "markdown",
      "metadata": {
        "id": "aArS6kYmxtpd"
      },
      "source": [
        "Before we get into any reinforcement learning, let's see how we perform actions within the environment."
      ]
    },
    {
      "cell_type": "code",
      "metadata": {
        "scrolled": true,
        "id": "QAV6wpvIxtpd"
      },
      "source": [
        "done = False\n",
        "\n",
        "while not done:\n",
        "    env.render()\n",
        "    action = env.action_space.sample()\n",
        "    _, _, done, _ = env.step(action)"
      ],
      "execution_count": null,
      "outputs": []
    },
    {
      "cell_type": "markdown",
      "metadata": {
        "id": "7g8aMzYextpd"
      },
      "source": [
        "Okay, so clearly choosing a random action at every time step doesn't really achieve our goal of keeping the pole vertical.\n",
        "We're going to need something smarter.\n",
        "\n",
        "Let's close that rendering window.\n",
        "We do this with `close()`.\n",
        "Note that `gym` renderings can be a little finicky, especially on Windows; either `close()` or restarting your Jupyter kernel may be necessary to close the rendered window."
      ]
    },
    {
      "cell_type": "code",
      "metadata": {
        "id": "8Yolzv8_xtpd"
      },
      "source": [
        "env.close()"
      ],
      "execution_count": null,
      "outputs": []
    },
    {
      "cell_type": "markdown",
      "metadata": {
        "id": "7dHUKLaSxtpd"
      },
      "source": [
        "Cart pole is actually a fairly simple problem (it's very low dimensional), and so there are simpler ways to do this, but since we've been having so much fun with deep learning, let's use a neural network.\n",
        "Specifically, let's build a DQN that uses Q-learning to learn how to balance the pole.\n",
        "We're going to give our DQN agent 1000 episodes to try and reach the goal of 200 ticks.\n",
        "\n",
        "There are a lot of small details that go into making these models work well, so instead of going through it piece by piece, the full code:"
      ]
    },
    {
      "cell_type": "code",
      "metadata": {
        "scrolled": true,
        "id": "s0g_kQz9xtpd",
        "outputId": "e39243dc-1e22-4170-e157-34de323bf804"
      },
      "source": [
        "# Based on: https://gym.openai.com/evaluations/eval_EIcM1ZBnQW2LBaFN6FY65g/\n",
        "\n",
        "from collections import deque\n",
        "import random\n",
        "import math\n",
        "\n",
        "import gym\n",
        "import numpy as np\n",
        "import torch\n",
        "import torch.nn as nn\n",
        "import torch.nn.functional as F\n",
        "\n",
        "\n",
        "class DQN(nn.Module):\n",
        "    def __init__(self):\n",
        "        super().__init__()\n",
        "        self.fc1 = nn.Linear(4, 24)\n",
        "        self.fc2 = nn.Linear(24, 48)\n",
        "        self.fc3 = nn.Linear(48, 2)\n",
        "\n",
        "    def forward(self, x):        \n",
        "        x = self.fc1(x)\n",
        "        x = F.relu(x)\n",
        "        x = self.fc2(x)\n",
        "        x = F.relu(x)\n",
        "        x = self.fc3(x)\n",
        "        return x        \n",
        "    \n",
        "\n",
        "class DQNCartPoleSolver:\n",
        "    def __init__(self, n_episodes=1000, n_win_ticks=195, max_env_steps=None, gamma=1.0, epsilon=1.0, epsilon_min=0.01, epsilon_log_decay=0.995, alpha=0.01, alpha_decay=0.01, batch_size=64, monitor=False, quiet=False):\n",
        "        self.memory = deque(maxlen=100000)\n",
        "        self.env = gym.make('CartPole-v0')\n",
        "        if monitor: self.env = gym.wrappers.Monitor(self.env, '../data/cartpole-1', force=True)\n",
        "        self.gamma = gamma\n",
        "        self.epsilon = epsilon\n",
        "        self.epsilon_min = epsilon_min\n",
        "        self.epsilon_decay = epsilon_log_decay\n",
        "        self.alpha = alpha\n",
        "        self.alpha_decay = alpha_decay\n",
        "        self.n_episodes = n_episodes\n",
        "        self.n_win_ticks = n_win_ticks\n",
        "        self.batch_size = batch_size\n",
        "        self.quiet = quiet\n",
        "        if max_env_steps is not None: self.env._max_episode_steps = max_env_steps\n",
        "\n",
        "        # Init model\n",
        "        self.dqn = DQN()\n",
        "        self.criterion = torch.nn.MSELoss()\n",
        "        self.opt = torch.optim.Adam(self.dqn.parameters(), lr=0.01)\n",
        "\n",
        "    def get_epsilon(self, t):\n",
        "        return max(self.epsilon_min, min(self.epsilon, 1.0 - math.log10((t + 1) * self.epsilon_decay)))\n",
        "\n",
        "    def preprocess_state(self, state):\n",
        "        return torch.tensor(np.reshape(state, [1, 4]), dtype=torch.float32) \n",
        "    \n",
        "    def choose_action(self, state, epsilon):\n",
        "        if (np.random.random() <= epsilon):\n",
        "            return self.env.action_space.sample() \n",
        "        else:\n",
        "            with torch.no_grad():\n",
        "                return torch.argmax(self.dqn(state)).numpy()\n",
        "\n",
        "    def remember(self, state, action, reward, next_state, done):\n",
        "        reward = torch.tensor(reward)\n",
        "        self.memory.append((state, action, reward, next_state, done))\n",
        "    \n",
        "    def replay(self, batch_size):\n",
        "        y_batch, y_target_batch = [], []\n",
        "        minibatch = random.sample(self.memory, min(len(self.memory), batch_size))\n",
        "        for state, action, reward, next_state, done in minibatch:\n",
        "            y = self.dqn(state)\n",
        "            y_target = y.clone().detach()\n",
        "            with torch.no_grad():\n",
        "                y_target[0][action] = reward if done else reward + self.gamma * torch.max(self.dqn(next_state)[0])\n",
        "            y_batch.append(y[0])\n",
        "            y_target_batch.append(y_target[0])\n",
        "        \n",
        "        y_batch = torch.cat(y_batch)\n",
        "        y_target_batch = torch.cat(y_target_batch)\n",
        "        \n",
        "        self.opt.zero_grad()\n",
        "        loss = self.criterion(y_batch, y_target_batch)\n",
        "        loss.backward()\n",
        "        self.opt.step()        \n",
        "        \n",
        "        if self.epsilon > self.epsilon_min:\n",
        "            self.epsilon *= self.epsilon_decay\n",
        "\n",
        "    def run(self):\n",
        "        scores = deque(maxlen=100)\n",
        "\n",
        "        for e in range(self.n_episodes):\n",
        "            state = self.preprocess_state(self.env.reset())\n",
        "            done = False\n",
        "            i = 0\n",
        "            while not done:\n",
        "                if e % 100 == 0 and not self.quiet:\n",
        "                    self.env.render()\n",
        "                action = self.choose_action(state, self.get_epsilon(e))\n",
        "                next_state, reward, done, _ = self.env.step(action)\n",
        "                next_state = self.preprocess_state(next_state)\n",
        "                self.remember(state, action, reward, next_state, done)\n",
        "                state = next_state\n",
        "                i += 1\n",
        "\n",
        "            scores.append(i)\n",
        "            mean_score = np.mean(scores)\n",
        "            if mean_score >= self.n_win_ticks and e >= 100:\n",
        "                if not self.quiet: print('Ran {} episodes. Solved after {} trials ✔'.format(e, e - 100))\n",
        "                return e - 100\n",
        "            if e % 100 == 0 and not self.quiet:\n",
        "                print('[Episode {}] - Mean survival time over last 100 episodes was {} ticks.'.format(e, mean_score))\n",
        "\n",
        "            self.replay(self.batch_size)\n",
        "        \n",
        "        if not self.quiet: print('Did not solve after {} episodes 😞'.format(e))\n",
        "        return e\n",
        "\n",
        "if __name__ == '__main__':\n",
        "    agent = DQNCartPoleSolver()\n",
        "    agent.run()\n",
        "    agent.env.close()"
      ],
      "execution_count": null,
      "outputs": [
        {
          "output_type": "stream",
          "text": [
            "[Episode 0] - Mean survival time over last 100 episodes was 14.0 ticks.\n",
            "[Episode 100] - Mean survival time over last 100 episodes was 19.75 ticks.\n",
            "[Episode 200] - Mean survival time over last 100 episodes was 58.94 ticks.\n",
            "[Episode 300] - Mean survival time over last 100 episodes was 94.49 ticks.\n",
            "[Episode 400] - Mean survival time over last 100 episodes was 117.56 ticks.\n",
            "[Episode 500] - Mean survival time over last 100 episodes was 190.01 ticks.\n",
            "Ran 504 episodes. Solved after 404 trials ✔\n"
          ],
          "name": "stdout"
        }
      ]
    },
    {
      "cell_type": "markdown",
      "metadata": {
        "id": "_puaZFYTxtpe"
      },
      "source": [
        "Reinforcement learning can be kind of noisy.\n",
        "In some sense, it depends on your agent \"lucking\" into the right behavior so that it can learn from it, and occasionally one can get stuck in a bad rut.\n",
        "Even if your agent fails to \"solve\" the problem (i.e. reach 200 ticks), you should still see the mean survival time mostly climbing as the agent experiences more episodes.\n",
        "You may need to re-run learning a couple times for the agent to reach 200 ticks."
      ]
    },
    {
      "cell_type": "markdown",
      "metadata": {
        "id": "94FPDYVTxtpe"
      },
      "source": [
        "Want to take this farther and connect this with the convolutional neural networks we've previously learned about?\n",
        "See [here](https://pytorch.org/tutorials/intermediate/reinforcement_q_learning.html) for a version of Cartpole where instead of directly measuring the translation/rotational position/velocity, the agent only sees the rendered screen.\n",
        "This makes the problem much harder, as the agent needs to learn to infer translation/rotational position/velocity from images."
      ]
    },
    {
      "cell_type": "markdown",
      "metadata": {
        "id": "sTw7KZ_hxtpe"
      },
      "source": [
        "### Other materials:\n",
        "Reinforcement Learning can easily be a full course (or multiple) on its own at most universities, with or without deep learning.\n",
        "We only touch on a couple points here.\n",
        "If you're interested in *exploring* this field further, a few recommendations to get you started:\n",
        "\n",
        "- [The definitive textbook on Reinforcement Learning](http://incompleteideas.net/book/the-book-2nd.html)\n",
        "- [Video lectures by David Silver](https://www.youtube.com/playlist?list=PLqYmG7hTraZDM-OYHWgPebj2MfCFzFObQ)\n",
        "- [Deep Q-Networks (DQN) for Atari 2600 games](https://deepmind.com/research/dqn/) \n",
        "- [Popular blog post on using policy gradients to learn to play Pong from pixels](http://karpathy.github.io/2016/05/31/rl/)"
      ]
    }
  ]
}