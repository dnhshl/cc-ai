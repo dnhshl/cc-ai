{
  "nbformat": 4,
  "nbformat_minor": 0,
  "metadata": {
    "colab": {
      "name": "Untitled0.ipynb",
      "provenance": [],
      "collapsed_sections": [],
      "authorship_tag": "ABX9TyOvaD63ZxUQe50nzH51WE9w",
      "include_colab_link": true
    },
    "kernelspec": {
      "name": "python3",
      "display_name": "Python 3"
    }
  },
  "cells": [
    {
      "cell_type": "markdown",
      "metadata": {
        "id": "view-in-github",
        "colab_type": "text"
      },
      "source": [
        "<a href=\"https://colab.research.google.com/github/dnhshl/cc-ai/blob/main/simpleRobot.ipynb\" target=\"_parent\"><img src=\"https://colab.research.google.com/assets/colab-badge.svg\" alt=\"Open In Colab\"/></a>"
      ]
    },
    {
      "cell_type": "markdown",
      "metadata": {
        "id": "9boAgRMdmlVN"
      },
      "source": [
        "# Erstes Testnotebook\r\n"
      ]
    },
    {
      "cell_type": "code",
      "metadata": {
        "id": "7VG9_6c-mkKe"
      },
      "source": [
        "import numpy as np\r\n",
        "import tensorflow as tf\r\n",
        "from tensorflow import keras"
      ],
      "execution_count": 1,
      "outputs": []
    },
    {
      "cell_type": "markdown",
      "metadata": {
        "id": "tjCih-kdsqgV"
      },
      "source": [
        "# Daten"
      ]
    },
    {
      "cell_type": "code",
      "metadata": {
        "id": "iIbpicffnf5m"
      },
      "source": [
        "l1 = 1\r\n",
        "l2 = 1\r\n",
        "\r\n",
        "\r\n",
        "traindatasize = 200000\r\n",
        "dout = np.random.random_sample((traindatasize,2))*360\r\n",
        "\r\n",
        "din = np.array([l1 * np.cos(np.radians(dout[:,0])) + l2 * np.cos(np.radians(dout[:,1])), \r\n",
        "                l1 * np.sin(np.radians(dout[:,0])) + l2 * np.sin(np.radians(dout[:,1]))]) \r\n",
        "\r\n",
        "\r\n",
        "din = np.transpose(tin)\r\n",
        "\r\n",
        "\r\n",
        "testdatasize = 2000\r\n",
        "testout = np.random.random_sample((testdatasize,2))*360\r\n",
        "\r\n",
        "testin = np.array([l1 * np.cos(np.radians(testout[:,0])) + l2 * np.cos(np.radians(testout[:,1])), \r\n",
        "                l1 * np.sin(np.radians(testout[:,0])) + l2 * np.sin(np.radians(testout[:,1]))]) \r\n",
        "\r\n",
        "\r\n",
        "testin = np.transpose(testin)\r\n",
        "\r\n",
        "\r\n",
        "\r\n",
        "#print(tout)\r\n",
        "#print(tin)\r\n",
        "\r\n"
      ],
      "execution_count": 61,
      "outputs": []
    },
    {
      "cell_type": "code",
      "metadata": {
        "colab": {
          "base_uri": "https://localhost:8080/"
        },
        "id": "4eCN_8bjuzwX",
        "outputId": "d2dc51e9-aa46-40e0-c8f2-f6b0572a2572"
      },
      "source": [
        "inputs = keras.Input(shape= (2))\r\n",
        "\r\n",
        "from tensorflow.keras import layers\r\n",
        "\r\n",
        "x = layers.Dense(200, activation='sigmoid')(inputs)\r\n",
        "\r\n",
        "x = layers.Dense(200, activation='sigmoid')(x)\r\n",
        "\r\n",
        "outputs = layers.Dense(2)(x)\r\n",
        "\r\n",
        "model = keras.Model(inputs=inputs, outputs=outputs)\r\n",
        "\r\n",
        "model.summary()\r\n",
        "\r\n"
      ],
      "execution_count": 56,
      "outputs": [
        {
          "output_type": "stream",
          "text": [
            "Model: \"model_2\"\n",
            "_________________________________________________________________\n",
            "Layer (type)                 Output Shape              Param #   \n",
            "=================================================================\n",
            "input_6 (InputLayer)         [(None, 2)]               0         \n",
            "_________________________________________________________________\n",
            "dense_22 (Dense)             (None, 200)               600       \n",
            "_________________________________________________________________\n",
            "dense_23 (Dense)             (None, 200)               40200     \n",
            "_________________________________________________________________\n",
            "dense_24 (Dense)             (None, 2)                 402       \n",
            "=================================================================\n",
            "Total params: 41,202\n",
            "Trainable params: 41,202\n",
            "Non-trainable params: 0\n",
            "_________________________________________________________________\n"
          ],
          "name": "stdout"
        }
      ]
    },
    {
      "cell_type": "code",
      "metadata": {
        "colab": {
          "base_uri": "https://localhost:8080/"
        },
        "id": "iNvdZBUgw7Q9",
        "outputId": "8881b4b2-ca01-48cd-93ec-887567f39c59"
      },
      "source": [
        "\r\n",
        "processed_data = model(tin[:10])\r\n",
        "print(processed_data.shape)"
      ],
      "execution_count": 57,
      "outputs": [
        {
          "output_type": "stream",
          "text": [
            "(10, 2)\n"
          ],
          "name": "stdout"
        }
      ]
    },
    {
      "cell_type": "code",
      "metadata": {
        "id": "lOVYBhInxV-0"
      },
      "source": [
        "model.compile(optimizer='adam', loss='mean_squared_error')"
      ],
      "execution_count": 58,
      "outputs": []
    },
    {
      "cell_type": "code",
      "metadata": {
        "colab": {
          "base_uri": "https://localhost:8080/"
        },
        "id": "iKwfxq5HyCrt",
        "outputId": "de048081-9839-4dde-88b2-5162b9d771f0"
      },
      "source": [
        "history = model.fit(tdata_input, tdata_output,\r\n",
        "          batch_size=32, epochs=10)"
      ],
      "execution_count": 37,
      "outputs": [
        {
          "output_type": "stream",
          "text": [
            "Epoch 1/10\n",
            "625/625 [==============================] - 1s 1ms/step - loss: 3.8060\n",
            "Epoch 2/10\n",
            "625/625 [==============================] - 1s 2ms/step - loss: 2.2899\n",
            "Epoch 3/10\n",
            "625/625 [==============================] - 1s 1ms/step - loss: 2.2456\n",
            "Epoch 4/10\n",
            "625/625 [==============================] - 1s 1ms/step - loss: 2.2054\n",
            "Epoch 5/10\n",
            "625/625 [==============================] - 1s 1ms/step - loss: 2.2310\n",
            "Epoch 6/10\n",
            "625/625 [==============================] - 1s 2ms/step - loss: 2.1762\n",
            "Epoch 7/10\n",
            "625/625 [==============================] - 1s 2ms/step - loss: 2.1783\n",
            "Epoch 8/10\n",
            "625/625 [==============================] - 1s 2ms/step - loss: 2.1498\n",
            "Epoch 9/10\n",
            "625/625 [==============================] - 1s 2ms/step - loss: 2.1255\n",
            "Epoch 10/10\n",
            "625/625 [==============================] - 1s 2ms/step - loss: 2.1019\n"
          ],
          "name": "stdout"
        }
      ]
    },
    {
      "cell_type": "code",
      "metadata": {
        "id": "rwHLa9qCzjET"
      },
      "source": [
        "vdatasize = 200\r\n",
        "vdata_output = np.random.random_sample((vdatasize,2))\r\n",
        "\r\n",
        "vdata_input = np.array([datapoint(d) for d in vdata_output])\r\n",
        "\r\n"
      ],
      "execution_count": 38,
      "outputs": []
    },
    {
      "cell_type": "code",
      "metadata": {
        "colab": {
          "base_uri": "https://localhost:8080/"
        },
        "id": "mFPR7JOlztnr",
        "outputId": "fc4000d2-629c-4bd4-c074-f9559c146a10"
      },
      "source": [
        "model.evaluate(vdata_input,vdata_output,verbose=1)"
      ],
      "execution_count": 39,
      "outputs": [
        {
          "output_type": "stream",
          "text": [
            "7/7 [==============================] - 0s 2ms/step - loss: 1.2429\n"
          ],
          "name": "stdout"
        },
        {
          "output_type": "execute_result",
          "data": {
            "text/plain": [
              "1.2428808212280273"
            ]
          },
          "metadata": {
            "tags": []
          },
          "execution_count": 39
        }
      ]
    },
    {
      "cell_type": "code",
      "metadata": {
        "colab": {
          "base_uri": "https://localhost:8080/"
        },
        "id": "DOrEnj_b0UhR",
        "outputId": "8058c214-a6cd-43ed-c4b4-534a037c4ecc"
      },
      "source": [
        "predictions = model.predict(vdata_input)\r\n",
        "\r\n",
        "\r\n",
        "for i in range(5):\r\n",
        "  print(predictions[i], vdata_output[i])"
      ],
      "execution_count": 40,
      "outputs": [
        {
          "output_type": "stream",
          "text": [
            "[2.6576722 2.8358974] [0.08201006 0.09270152]\n",
            "[0.5478339 0.665392 ] [0.88999259 0.7016841 ]\n",
            "[1.3563654 1.4762149] [0.12649582 0.68528626]\n",
            "[1.8427658 1.9866296] [0.47227339 0.06442855]\n",
            "[0.5293668 0.6385452] [0.71822814 0.99853874]\n"
          ],
          "name": "stdout"
        }
      ]
    },
    {
      "cell_type": "code",
      "metadata": {
        "id": "GII8QiiH4XFA"
      },
      "source": [
        "def build_and_compile_model():\r\n",
        "  model = keras.Sequential([\r\n",
        "      layers.Dense(64, input_shape=[2,], activation='relu'),\r\n",
        "      layers.Dense(64, activation='relu'),\r\n",
        "      layers.Dense(2)\r\n",
        "  ])\r\n",
        "\r\n",
        "  model.compile(loss='mean_absolute_error',\r\n",
        "                optimizer=tf.keras.optimizers.Adam(0.001))\r\n",
        "  return model"
      ],
      "execution_count": 62,
      "outputs": []
    },
    {
      "cell_type": "code",
      "metadata": {
        "colab": {
          "base_uri": "https://localhost:8080/"
        },
        "id": "KKATI0b-4i2r",
        "outputId": "f63eb631-a15b-443f-b4db-706e3abec68c"
      },
      "source": [
        "newmodel = build_and_compile_model()\r\n",
        "newmodel.summary()"
      ],
      "execution_count": 63,
      "outputs": [
        {
          "output_type": "stream",
          "text": [
            "Model: \"sequential_5\"\n",
            "_________________________________________________________________\n",
            "Layer (type)                 Output Shape              Param #   \n",
            "=================================================================\n",
            "dense_28 (Dense)             (None, 64)                192       \n",
            "_________________________________________________________________\n",
            "dense_29 (Dense)             (None, 64)                4160      \n",
            "_________________________________________________________________\n",
            "dense_30 (Dense)             (None, 2)                 130       \n",
            "=================================================================\n",
            "Total params: 4,482\n",
            "Trainable params: 4,482\n",
            "Non-trainable params: 0\n",
            "_________________________________________________________________\n"
          ],
          "name": "stdout"
        }
      ]
    },
    {
      "cell_type": "code",
      "metadata": {
        "colab": {
          "base_uri": "https://localhost:8080/"
        },
        "id": "3NWGkpwh5yHV",
        "outputId": "40832ec7-576e-4e09-90a3-fce88e78e144"
      },
      "source": [
        "print(tin[:10])\r\n",
        "\r\n",
        "newmodel.predict(tin[:10])\r\n"
      ],
      "execution_count": 64,
      "outputs": [
        {
          "output_type": "stream",
          "text": [
            "[[-0.86311831 -1.44983729]\n",
            " [ 1.28447688  1.24319462]\n",
            " [ 0.97776434 -1.41305957]\n",
            " [-0.32946144 -0.11565085]\n",
            " [-0.65113004 -0.3090084 ]\n",
            " [-0.5152523   0.43708811]\n",
            " [ 0.90156003  1.59631292]\n",
            " [-0.16054073  1.78489014]\n",
            " [ 0.30281571 -0.78323589]\n",
            " [ 0.03220676  0.51416658]]\n",
            "WARNING:tensorflow:5 out of the last 52 calls to <function Model.make_predict_function.<locals>.predict_function at 0x7fc45a5e0560> triggered tf.function retracing. Tracing is expensive and the excessive number of tracings could be due to (1) creating @tf.function repeatedly in a loop, (2) passing tensors with different shapes, (3) passing Python objects instead of tensors. For (1), please define your @tf.function outside of the loop. For (2), @tf.function has experimental_relax_shapes=True option that relaxes argument shapes that can avoid unnecessary retracing. For (3), please refer to https://www.tensorflow.org/guide/function#controlling_retracing and https://www.tensorflow.org/api_docs/python/tf/function for  more details.\n"
          ],
          "name": "stdout"
        },
        {
          "output_type": "execute_result",
          "data": {
            "text/plain": [
              "array([[ 0.03437632,  0.0507341 ],\n",
              "       [-0.34251016, -0.08337753],\n",
              "       [ 0.02693238,  0.05308942],\n",
              "       [-0.00286568,  0.0184084 ],\n",
              "       [-0.00060647,  0.03231282],\n",
              "       [-0.07102709, -0.00327792],\n",
              "       [-0.4530377 , -0.09484571],\n",
              "       [-0.46734783, -0.0288842 ],\n",
              "       [ 0.01815152,  0.02662897],\n",
              "       [-0.14434338, -0.01463851]], dtype=float32)"
            ]
          },
          "metadata": {
            "tags": []
          },
          "execution_count": 64
        }
      ]
    },
    {
      "cell_type": "code",
      "metadata": {
        "colab": {
          "base_uri": "https://localhost:8080/"
        },
        "id": "jLeaznV4Agny",
        "outputId": "7ec2a25d-d97f-4672-9c80-69b98fca2e8c"
      },
      "source": [
        "history = newmodel.fit(\r\n",
        "    tin, tout, \r\n",
        "    epochs=10,\r\n",
        "    # suppress logging\r\n",
        "    verbose=1,\r\n",
        "    # Calculate validation results on 20% of the training data\r\n",
        "    validation_split = 0.2)"
      ],
      "execution_count": 65,
      "outputs": [
        {
          "output_type": "stream",
          "text": [
            "Epoch 1/10\n",
            "5000/5000 [==============================] - 7s 1ms/step - loss: 80.8119 - val_loss: 61.0746\n",
            "Epoch 2/10\n",
            "5000/5000 [==============================] - 7s 1ms/step - loss: 60.6881 - val_loss: 60.6264\n",
            "Epoch 3/10\n",
            "5000/5000 [==============================] - 7s 1ms/step - loss: 60.2788 - val_loss: 60.3804\n",
            "Epoch 4/10\n",
            "5000/5000 [==============================] - 7s 1ms/step - loss: 60.2917 - val_loss: 60.3379\n",
            "Epoch 5/10\n",
            "5000/5000 [==============================] - 7s 1ms/step - loss: 60.1111 - val_loss: 60.2765\n",
            "Epoch 6/10\n",
            "5000/5000 [==============================] - 7s 1ms/step - loss: 60.0592 - val_loss: 60.2770\n",
            "Epoch 7/10\n",
            "5000/5000 [==============================] - 7s 1ms/step - loss: 60.0284 - val_loss: 60.2650\n",
            "Epoch 8/10\n",
            "5000/5000 [==============================] - 7s 1ms/step - loss: 60.2656 - val_loss: 60.2998\n",
            "Epoch 9/10\n",
            "5000/5000 [==============================] - 7s 1ms/step - loss: 60.1527 - val_loss: 60.2455\n",
            "Epoch 10/10\n",
            "5000/5000 [==============================] - 7s 1ms/step - loss: 60.2181 - val_loss: 60.2841\n"
          ],
          "name": "stdout"
        }
      ]
    },
    {
      "cell_type": "code",
      "metadata": {
        "colab": {
          "base_uri": "https://localhost:8080/",
          "height": 283
        },
        "id": "-C1SzkvdA-tQ",
        "outputId": "315a411c-0a4f-495f-ee92-a05e7c71d097"
      },
      "source": [
        "import matplotlib.pyplot as plt\r\n",
        "\r\n",
        "def plot_loss(history):\r\n",
        "  plt.plot(history.history['loss'], label='loss')\r\n",
        "  plt.plot(history.history['val_loss'], label='val_loss')\r\n",
        "  plt.ylim([0, 100])\r\n",
        "  plt.xlabel('Epoch')\r\n",
        "  plt.ylabel('Error')\r\n",
        "  plt.legend()\r\n",
        "  plt.grid(True)\r\n",
        "\r\n",
        "plot_loss(history)"
      ],
      "execution_count": 69,
      "outputs": [
        {
          "output_type": "display_data",
          "data": {
            "image/png": "[encoded data removed]",
            "text/plain": [
              "<Figure size 432x288 with 1 Axes>"
            ]
          },
          "metadata": {
            "tags": [],
            "needs_background": "light"
          }
        }
      ]
    },
    {
      "cell_type": "code",
      "metadata": {
        "id": "VYwdmG6VCRhV"
      },
      "source": [
        ""
      ],
      "execution_count": null,
      "outputs": []
    }
  ]
}