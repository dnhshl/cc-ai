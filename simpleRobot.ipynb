{
  "nbformat": 4,
  "nbformat_minor": 0,
  "metadata": {
    "colab": {
      "name": "Untitled0.ipynb",
      "provenance": [],
      "collapsed_sections": [],
      "authorship_tag": "ABX9TyMx7ehMbkzW08Ww1Cm8eEZ3",
      "include_colab_link": true
    },
    "kernelspec": {
      "name": "python3",
      "display_name": "Python 3"
    }
  },
  "cells": [
    {
      "cell_type": "markdown",
      "metadata": {
        "id": "view-in-github",
        "colab_type": "text"
      },
      "source": [
        "<a href=\"https://colab.research.google.com/github/dnhshl/cc-ai/blob/main/simpleRobot.ipynb\" target=\"_parent\"><img src=\"https://colab.research.google.com/assets/colab-badge.svg\" alt=\"Open In Colab\"/></a>"
      ]
    },
    {
      "cell_type": "markdown",
      "metadata": {
        "id": "9boAgRMdmlVN"
      },
      "source": [
        "# simpleRobot\r\n",
        "Neuronales Netz zur Berechnung der inversen Kinematik eines (sehr einfachen) Roboters mit zwei Freiheitsgraden.\r\n",
        "\r\n",
        "\r\n",
        "\r\n"
      ]
    },
    {
      "cell_type": "code",
      "metadata": {
        "id": "7VG9_6c-mkKe"
      },
      "source": [
        "import numpy as np\r\n",
        "import tensorflow as tf\r\n",
        "from tensorflow import keras\r\n",
        "from keras import layers\r\n",
        "from keras import optimizers\r\n",
        "import matplotlib.pyplot as plt\r\n"
      ],
      "execution_count": 55,
      "outputs": []
    },
    {
      "cell_type": "markdown",
      "metadata": {
        "id": "tjCih-kdsqgV"
      },
      "source": [
        "# Daten\r\n",
        "\r\n",
        "Generiere Trainingsdaten. Das ist hier sehr einfach, da bei bekannten Winkeln `phi1` und `phi2` die `x` und `y` Position berechnet werden kann. \r\n",
        "\r\n",
        "Der Einfachheit halber (um auszuschließen, dass gleiche Positionen mit unterschiedlichen Winkelstellungen angefahren werden können) wird `phi1` auf 0 .. 90 Grad und `phi2` auf -90 .. 90 Grad eingeschränkt."
      ]
    },
    {
      "cell_type": "markdown",
      "metadata": {
        "id": "zM-xrVochQw3"
      },
      "source": [
        "## Vorab: Vektoren und Matrizen in numpy"
      ]
    },
    {
      "cell_type": "code",
      "metadata": {
        "id": "_wcxMqGdglzc",
        "outputId": "2c6ac717-7f86-4df6-d80d-0c409b424e63",
        "colab": {
          "base_uri": "https://localhost:8080/"
        }
      },
      "source": [
        "a = np.array([1,2,3]) # Zeilenvektor a\r\n",
        "b = np.array([4,5,6]) # Zeilenvektor b\r\n",
        "\r\n",
        "M = np.vstack((a, b)) # Zusammenfassen als 2x3 Matrix\r\n",
        "\r\n",
        "M = M.T # Transponieren -> 3x2 Matrix\r\n",
        "\r\n",
        "print(a, b)\r\n",
        "print(M)\r\n",
        "\r\n",
        "sum_a_b = M.sum(axis=1) # Summe der Spaltenvektoren\r\n",
        "print(sum_a_b)"
      ],
      "execution_count": 10,
      "outputs": [
        {
          "output_type": "stream",
          "text": [
            "[1 2 3] [4 5 6]\n",
            "[[1 4]\n",
            " [2 5]\n",
            " [3 6]]\n",
            "[5 7 9]\n"
          ],
          "name": "stdout"
        }
      ]
    },
    {
      "cell_type": "markdown",
      "metadata": {
        "id": "QGSqHT2jhu6L"
      },
      "source": [
        "## OK, jetzt also die Trainingsdaten"
      ]
    },
    {
      "cell_type": "code",
      "metadata": {
        "id": "iIbpicffnf5m",
        "colab": {
          "base_uri": "https://localhost:8080/"
        },
        "outputId": "19101d7f-4a3d-4b4d-e5af-551806c99c99"
      },
      "source": [
        "l1 = 1  # Länge des ersten Roboterarms\r\n",
        "l2 = 1  # Länge des zweiten Roboterarms\r\n",
        "\r\n",
        "\r\n",
        "traindatasize = 100000 # Wie viele Traingsdaten sollen generiert werden?\r\n",
        "\r\n",
        "# phi1 im Bereich von 0 .. 90 Grad \r\n",
        "phi1train = np.random.random_sample(traindatasize) * np.pi/2 \r\n",
        "\r\n",
        "# phi2 im Bereich von 0 .. -90 Grad \r\n",
        "phi2train = -np.random.random_sample(traindatasize) * np.pi/2\r\n",
        "\r\n",
        "# Kombiniere Vektoren als Matrix\r\n",
        "dout = np.vstack((phi1train, phi2train)).T\r\n",
        "\r\n",
        "# Berechne x und y\r\n",
        "din = np.array([l1 * np.cos(dout[:,0]) + l2 * np.cos(dout.sum(axis=1)), \r\n",
        "                l1 * np.sin(dout[:,0]) + l2 * np.sin(dout.sum(axis=1))]).T \r\n",
        "\r\n",
        "print(dout[:4])\r\n",
        "print(din[:4])\r\n",
        "\r\n",
        "\r\n"
      ],
      "execution_count": 50,
      "outputs": [
        {
          "output_type": "stream",
          "text": [
            "[[ 1.04365318 -0.80033387]\n",
            " [ 1.52140946 -1.09208328]\n",
            " [ 0.10460715 -0.80828792]\n",
            " [ 0.87875538 -1.42543218]]\n",
            "[[ 1.47360998  1.10517327]\n",
            " [ 0.95861323  1.41503895]\n",
            " [ 1.75699945 -0.54261205]\n",
            " [ 1.49236673  0.25009404]]\n"
          ],
          "name": "stdout"
        }
      ]
    },
    {
      "cell_type": "code",
      "metadata": {
        "id": "HSJjIKamvhV1"
      },
      "source": [
        "\r\n",
        "def plot_range():\r\n",
        "  plt.plot(history.history['loss'], label='loss')\r\n",
        "  plt.plot(history.history['val_loss'], label='val_loss')\r\n",
        "  plt.xlabel('Epoch')\r\n",
        "  plt.ylabel('Error')\r\n",
        "  plt.legend()\r\n",
        "  plt.grid(True)\r\n",
        "\r\n",
        "plot_loss(history)"
      ],
      "execution_count": null,
      "outputs": []
    },
    {
      "cell_type": "markdown",
      "metadata": {
        "id": "KcBfGA3EkHrY"
      },
      "source": [
        "# Konstruiere NN\r\n",
        "\r\n",
        "Zwei Fully Connected Layer, der erste Layer mit Aktivierungsfunktion.\r\n",
        "\r\n",
        "Als Fehlerfunktion wird der quadratische Fehler genutzt. Als Optimierungsfunktion stochastischer Gradientenabstieg."
      ]
    },
    {
      "cell_type": "code",
      "metadata": {
        "id": "2aiSNRJGkbEF"
      },
      "source": [
        "def build_and_compile_model():\r\n",
        "  model = keras.Sequential([\r\n",
        "      layers.Dense(100, input_shape=[2,], activation='tanh'),\r\n",
        "      layers.Dense(100, activation='tanh'),\r\n",
        "      layers.Dense(2)     ## output\r\n",
        "  ])\r\n",
        "\r\n",
        "  model.compile(loss='mean_squared_error',\r\n",
        "                optimizer=optimizers.SGD(learning_rate=0.01))\r\n",
        "  return model"
      ],
      "execution_count": 64,
      "outputs": []
    },
    {
      "cell_type": "code",
      "metadata": {
        "colab": {
          "base_uri": "https://localhost:8080/"
        },
        "id": "4eCN_8bjuzwX",
        "outputId": "3157294b-4aa7-4176-f2ab-cfbe86036936"
      },
      "source": [
        "mymodel = build_and_compile_model()\r\n",
        "mymodel.summary()\r\n"
      ],
      "execution_count": 68,
      "outputs": [
        {
          "output_type": "stream",
          "text": [
            "Model: \"sequential_9\"\n",
            "_________________________________________________________________\n",
            "Layer (type)                 Output Shape              Param #   \n",
            "=================================================================\n",
            "dense_27 (Dense)             (None, 100)               300       \n",
            "_________________________________________________________________\n",
            "dense_28 (Dense)             (None, 100)               10100     \n",
            "_________________________________________________________________\n",
            "dense_29 (Dense)             (None, 2)                 202       \n",
            "=================================================================\n",
            "Total params: 10,602\n",
            "Trainable params: 10,602\n",
            "Non-trainable params: 0\n",
            "_________________________________________________________________\n"
          ],
          "name": "stdout"
        }
      ]
    },
    {
      "cell_type": "markdown",
      "metadata": {
        "id": "GVz4ekGxmg8n"
      },
      "source": [
        "## Welche Vorhersage liefert das untrainierte Modell?"
      ]
    },
    {
      "cell_type": "code",
      "metadata": {
        "colab": {
          "base_uri": "https://localhost:8080/"
        },
        "id": "iNvdZBUgw7Q9",
        "outputId": "ed5773e5-9757-412d-a085-4559136b4202"
      },
      "source": [
        "\r\n",
        "predicted = mymodel.predict(din[:5])\r\n",
        "print(predicted)\r\n",
        "print(dout[:5])"
      ],
      "execution_count": 40,
      "outputs": [
        {
          "output_type": "stream",
          "text": [
            "[[-0.20692246 -0.43047446]\n",
            " [-0.27782518 -0.43620056]\n",
            " [-0.18686733 -0.35769653]\n",
            " [-0.24229693 -0.4443589 ]\n",
            " [-0.23147933 -0.16889742]]\n",
            "[[ 0.3430418   0.8998665 ]\n",
            " [ 1.10182333  0.59959618]\n",
            " [ 1.41400316 -1.3849327 ]\n",
            " [ 1.42996553 -0.69131346]\n",
            " [ 0.10173351 -1.2245569 ]]\n"
          ],
          "name": "stdout"
        }
      ]
    },
    {
      "cell_type": "markdown",
      "metadata": {
        "id": "eEdRTD2RnArc"
      },
      "source": [
        "## Trainiere Modell\r\n",
        "\r\n",
        "Nutze 20% der Testdaten als Validierungsdatensatz"
      ]
    },
    {
      "cell_type": "code",
      "metadata": {
        "colab": {
          "base_uri": "https://localhost:8080/"
        },
        "id": "iKwfxq5HyCrt",
        "outputId": "0577d401-2c80-4e91-b58e-46267610b17a"
      },
      "source": [
        "history = mymodel.fit(din, dout,\r\n",
        "          batch_size=32, epochs=10,\r\n",
        "          validation_split = 0.2)"
      ],
      "execution_count": 69,
      "outputs": [
        {
          "output_type": "stream",
          "text": [
            "Epoch 1/10\n",
            "2500/2500 [==============================] - 3s 1ms/step - loss: 0.1082 - val_loss: 0.0632\n",
            "Epoch 2/10\n",
            "2500/2500 [==============================] - 3s 1ms/step - loss: 0.0511 - val_loss: 0.0218\n",
            "Epoch 3/10\n",
            "2500/2500 [==============================] - 3s 1ms/step - loss: 0.0181 - val_loss: 0.0104\n",
            "Epoch 4/10\n",
            "2500/2500 [==============================] - 3s 1ms/step - loss: 0.0097 - val_loss: 0.0079\n",
            "Epoch 5/10\n",
            "2500/2500 [==============================] - 3s 1ms/step - loss: 0.0078 - val_loss: 0.0072\n",
            "Epoch 6/10\n",
            "2500/2500 [==============================] - 3s 1ms/step - loss: 0.0073 - val_loss: 0.0071\n",
            "Epoch 7/10\n",
            "2500/2500 [==============================] - 3s 1ms/step - loss: 0.0070 - val_loss: 0.0067\n",
            "Epoch 8/10\n",
            "2500/2500 [==============================] - 3s 1ms/step - loss: 0.0068 - val_loss: 0.0066\n",
            "Epoch 9/10\n",
            "2500/2500 [==============================] - 3s 1ms/step - loss: 0.0066 - val_loss: 0.0064\n",
            "Epoch 10/10\n",
            "2500/2500 [==============================] - 3s 1ms/step - loss: 0.0065 - val_loss: 0.0066\n"
          ],
          "name": "stdout"
        }
      ]
    },
    {
      "cell_type": "code",
      "metadata": {
        "colab": {
          "base_uri": "https://localhost:8080/",
          "height": 279
        },
        "id": "-C1SzkvdA-tQ",
        "outputId": "26abcfeb-a964-491e-92d9-0886dab72013"
      },
      "source": [
        "\r\n",
        "\r\n",
        "def plot_loss(history):\r\n",
        "  plt.plot(history.history['loss'], label='loss')\r\n",
        "  plt.plot(history.history['val_loss'], label='val_loss')\r\n",
        "  plt.xlabel('Epoch')\r\n",
        "  plt.ylabel('Error')\r\n",
        "  plt.legend()\r\n",
        "  plt.grid(True)\r\n",
        "\r\n",
        "plot_loss(history)"
      ],
      "execution_count": 70,
      "outputs": [
        {
          "output_type": "display_data",
          "data": {
            "image/png": "[encoded data removed]",
            "text/plain": [
              "<Figure size 432x288 with 1 Axes>"
            ]
          },
          "metadata": {
            "tags": [],
            "needs_background": "light"
          }
        }
      ]
    },
    {
      "cell_type": "code",
      "metadata": {
        "colab": {
          "base_uri": "https://localhost:8080/"
        },
        "id": "DOrEnj_b0UhR",
        "outputId": "fef30812-3ef1-4933-cc75-dd74a57eb19c"
      },
      "source": [
        "predictions = mymodel.predict(din)\r\n",
        "\r\n",
        "\r\n",
        "for i in range(10):\r\n",
        "  print(predictions[i], dout[i])"
      ],
      "execution_count": 71,
      "outputs": [
        {
          "output_type": "stream",
          "text": [
            "[ 1.002233   -0.70800805] [ 1.04365318 -0.80033387]\n",
            "[ 1.4930332 -1.0836202] [ 1.52140946 -1.09208328]\n",
            "[ 0.08824276 -0.79395926] [ 0.10460715 -0.80828792]\n",
            "[ 0.9314869 -1.5085565] [ 0.87875538 -1.42543218]\n",
            "[ 0.4996777 -1.0106618] [ 0.52356186 -1.07296112]\n",
            "[ 1.123345  -0.3690948] [ 1.06156696 -0.26294894]\n",
            "[ 1.4758186  -0.83249986] [ 1.52878743 -0.90085234]\n",
            "[ 1.4251401 -0.25895  ] [ 1.41711518 -0.25810921]\n",
            "[ 0.405667  -1.2314012] [ 0.4028859  -1.25412792]\n",
            "[ 0.2089364 -1.3887409] [ 0.20934054 -1.39315595]\n"
          ],
          "name": "stdout"
        }
      ]
    },
    {
      "cell_type": "code",
      "metadata": {
        "id": "XQ0PvbOguxZ1",
        "outputId": "1d6d2cf2-aab8-4535-bd46-707de55e0649",
        "colab": {
          "base_uri": "https://localhost:8080/"
        }
      },
      "source": [
        "print(np.min(din[:,0]), np.max(din[:,0]))\r\n",
        "print(np.min(din[:,1]), np.max(din[:,1]))"
      ],
      "execution_count": 75,
      "outputs": [
        {
          "output_type": "stream",
          "text": [
            "0.009748633683800075 1.9999750322553713\n",
            "-0.9994296940149731 1.999958213075958\n"
          ],
          "name": "stdout"
        }
      ]
    },
    {
      "cell_type": "code",
      "metadata": {
        "id": "VYwdmG6VCRhV",
        "colab": {
          "base_uri": "https://localhost:8080/"
        },
        "outputId": "7495de33-ab7d-499d-c6a7-0758a176f3b2"
      },
      "source": [
        "xtest = np.linspace(0.5,1.5)\r\n",
        "ytest = xtest\r\n",
        "\r\n",
        "tin = np.vstack((xtest, ytest)).T\r\n",
        "\r\n",
        "phiout = mymodel.predict(tin)\r\n",
        "\r\n",
        "print(phiout)"
      ],
      "execution_count": 72,
      "outputs": [
        {
          "output_type": "stream",
          "text": [
            "[[ 2.3065565  -3.4472103 ]\n",
            " [ 2.2894375  -3.3950264 ]\n",
            " [ 2.2712834  -3.3412263 ]\n",
            " [ 2.2521296  -3.2858765 ]\n",
            " [ 2.2320118  -3.2290437 ]\n",
            " [ 2.2109654  -3.1707923 ]\n",
            " [ 2.189026   -3.1111884 ]\n",
            " [ 2.166229   -3.0502954 ]\n",
            " [ 2.1426086  -2.9881775 ]\n",
            " [ 2.1181989  -2.9248993 ]\n",
            " [ 2.093033   -2.8605218 ]\n",
            " [ 2.0671446  -2.7951057 ]\n",
            " [ 2.0405662  -2.728712  ]\n",
            " [ 2.013329   -2.6613991 ]\n",
            " [ 1.9854637  -2.5932238 ]\n",
            " [ 1.957001   -2.524243  ]\n",
            " [ 1.9279704  -2.4545105 ]\n",
            " [ 1.8984005  -2.38408   ]\n",
            " [ 1.8683193  -2.313003  ]\n",
            " [ 1.8377547  -2.2413306 ]\n",
            " [ 1.8067327  -2.1691115 ]\n",
            " [ 1.7752795  -2.0963926 ]\n",
            " [ 1.7434199  -2.0232203 ]\n",
            " [ 1.7111785  -1.9496399 ]\n",
            " [ 1.6785793  -1.8756942 ]\n",
            " [ 1.6456454  -1.8014253 ]\n",
            " [ 1.6123993  -1.7268728 ]\n",
            " [ 1.5788622  -1.6520772 ]\n",
            " [ 1.5450556  -1.5770761 ]\n",
            " [ 1.5110008  -1.5019057 ]\n",
            " [ 1.4767165  -1.4266014 ]\n",
            " [ 1.4422226  -1.3511971 ]\n",
            " [ 1.4075379  -1.2757268 ]\n",
            " [ 1.3726809  -1.2002219 ]\n",
            " [ 1.3376689  -1.1247123 ]\n",
            " [ 1.3025191  -1.0492278 ]\n",
            " [ 1.267248   -0.9737973 ]\n",
            " [ 1.2318718  -0.89844775]\n",
            " [ 1.1964064  -0.8232056 ]\n",
            " [ 1.1608663  -0.7480953 ]\n",
            " [ 1.1252668  -0.67314243]\n",
            " [ 1.0896219  -0.59836996]\n",
            " [ 1.0539447  -0.5237999 ]\n",
            " [ 1.0182488  -0.44945335]\n",
            " [ 0.9825472  -0.3753522 ]\n",
            " [ 0.94685286 -0.3015149 ]\n",
            " [ 0.9111774  -0.22796169]\n",
            " [ 0.875532   -0.15470979]\n",
            " [ 0.83992803 -0.08177626]\n",
            " [ 0.80437636 -0.00917795]]\n"
          ],
          "name": "stdout"
        }
      ]
    }
  ]
}