{
  "nbformat": 4,
  "nbformat_minor": 0,
  "metadata": {
    "colab": {
      "name": "Untitled0.ipynb",
      "provenance": [],
      "collapsed_sections": [],
      "authorship_tag": "ABX9TyOq3WfylQu8N+oU9MlBqElR",
      "include_colab_link": true
    },
    "kernelspec": {
      "name": "python3",
      "display_name": "Python 3"
    },
    "accelerator": "GPU"
  },
  "cells": [
    {
      "cell_type": "markdown",
      "metadata": {
        "id": "view-in-github",
        "colab_type": "text"
      },
      "source": [
        "<a href=\"https://colab.research.google.com/github/dnhshl/cc-ai/blob/main/simpleRobot.ipynb\" target=\"_parent\"><img src=\"https://colab.research.google.com/assets/colab-badge.svg\" alt=\"Open In Colab\"/></a>"
      ]
    },
    {
      "cell_type": "markdown",
      "metadata": {
        "id": "9boAgRMdmlVN"
      },
      "source": [
        "# simpleRobot\r\n",
        "Neuronales Netz zur Berechnung der inversen Kinematik eines (sehr einfachen) Roboters mit zwei Freiheitsgraden.\r\n",
        "\r\n",
        "Wir simulieren die Freiheitsgrade eines Armes, der sich im Schultergelenk und im Ellenbogengelenk drehen kann.\r\n",
        "\r\n",
        "\r\n"
      ]
    },
    {
      "cell_type": "markdown",
      "metadata": {
        "id": "esJpRHxSf0Bj"
      },
      "source": [
        "<img src='https://drive.google.com/uc?id=1S1IWWhaMEyoHN1DaewgY17uzuHJaMivg' width=\"500\">\r\n",
        "\r\n",
        "\r\n"
      ]
    },
    {
      "cell_type": "markdown",
      "metadata": {
        "id": "hKzvE7Roi9RU"
      },
      "source": [
        "Die kartesischen Koordinaten $(x,y)$ berechnen sich aus den Winkeln $q_1, q_2$ der Roboterarme wie folgt (bitte einmal selbst nachvollziehen!)\r\n",
        "\r\n",
        "$$\r\n",
        "x = l_1 \\cos(q_1) + l_2 \\cos(q_1 + q_2)\\\\\r\n",
        "y = l_1 \\sin(q_1) + l_2 \\sin(q_1 + q_2)\r\n",
        "$$\r\n",
        "\r\n",
        "Die Berechnung der Endposition des Roboterarms bei bekannten Winkeln nennt man **Vorwärtskinematik**. Das ist einfach.\r\n",
        "\r\n",
        "Komplizierter, aber in der Anwendung natürlich wichtiger, ist die **Rückwärtskinematik**. Welche Winkel muss ich einstellen, um eine bestimmte vorgegebene Position erreichen zu können. Für eine geschlossene Lösung müsste man die obigen Gleichungen nach $q_1$ und $q_2$ auflösen. Das ist nicht ganz einfach möglich.\r\n",
        "\r\n",
        "Wir wollen daher ein neuronales Netz trainieren, dass diese Aufgabe für uns löst. Also\r\n",
        "\r\n",
        "  * Input $(x,y)$\r\n",
        "  * Output $(q_1, q_2)$.\r\n",
        "\r\n",
        "Das ist ein Regressionsproblem."
      ]
    },
    {
      "cell_type": "markdown",
      "metadata": {
        "id": "SIzhfha3lF_f"
      },
      "source": [
        "## Lade notwendige Libraries\r\n"
      ]
    },
    {
      "cell_type": "code",
      "metadata": {
        "id": "7VG9_6c-mkKe"
      },
      "source": [
        "import numpy as np\r\n",
        "import tensorflow as tf\r\n",
        "from tensorflow import keras\r\n",
        "from keras import layers\r\n",
        "from keras import optimizers\r\n",
        "from keras import losses\r\n",
        "import matplotlib.pyplot as plt\r\n",
        "\r\n",
        "import tensorflow.keras.backend as kb\r\n"
      ],
      "execution_count": null,
      "outputs": []
    },
    {
      "cell_type": "markdown",
      "metadata": {
        "id": "zM-xrVochQw3"
      },
      "source": [
        "# Vorab: Vektoren und Matrizen in numpy\r\n",
        "\r\n",
        "numpy ist eine Python Bibliothek, die insbesondere Rechnen mit Vektoren und Matrizen (np.array) unterstützt.\r\n",
        "\r\n",
        "In Tensorflow sind die Konzepte ähnlich, dort sind es dann nicht np.arrays, sondern Tensoren.\r\n",
        "\r\n"
      ]
    },
    {
      "cell_type": "code",
      "metadata": {
        "id": "_wcxMqGdglzc"
      },
      "source": [
        "a = np.array([1,2,3]) # Zeilenvektor a\r\n",
        "b = np.array([4,5,6]) # Zeilenvektor b\r\n",
        "\r\n",
        "M = np.vstack((a, b)) # Zusammenfassen als 2x3 Matrix\r\n",
        "\r\n",
        "M = M.T # Transponieren -> 3x2 Matrix\r\n",
        "\r\n",
        "print(a, b)\r\n",
        "\r\n",
        "print(M)\r\n",
        "\r\n",
        "sum_a_b = M.sum(axis=1) # Summe der Spaltenvektoren\r\n",
        "print(sum_a_b)"
      ],
      "execution_count": null,
      "outputs": []
    },
    {
      "cell_type": "markdown",
      "metadata": {
        "id": "tjCih-kdsqgV"
      },
      "source": [
        "# Daten\r\n",
        "\r\n",
        "Generiere Trainingsdaten. Das ist hier sehr einfach, da bei bekannten Winkeln `q1` und `q2` die `x` und `y` Position berechnet werden kann. \r\n",
        "\r\n",
        "Der Oberarm kann im Schultergelenk ca. um einen Winkel `q1` zwischen -110 .. 20 Grad  und `q2` im Ellenbogengelenk zwischen 0 .. 90 Grad bewegt werden. Der Einfachheit halber nehmen wir weiterhin an, dass die Oberarmlänge `l1 = 30 cm` und die Unterarmlänge `l2 = 30 cm` sind."
      ]
    },
    {
      "cell_type": "markdown",
      "metadata": {
        "id": "RB-L_gMxqx6D"
      },
      "source": [
        "## Hilfsfunktion zur Berechnung der Vorwärts-Kinematik"
      ]
    },
    {
      "cell_type": "code",
      "metadata": {
        "id": "b8QFXDit65h4"
      },
      "source": [
        "# Berechne die Vorwärtskinematik. \r\n",
        "# Input ist ein (m,2) Tensor mit den Winkeln\r\n",
        "# Output ist ein (m,2) Tensor mit den karthesischen Koordinaten\r\n",
        "\r\n",
        "def forward_kinematics(q):\r\n",
        "\r\n",
        "  x = l1*tf.cos(q[:,0]) +l2*tf.cos(tf.reduce_sum(q,1))\r\n",
        "  y = l1*tf.sin(q[:,0]) +l2*tf.sin(tf.reduce_sum(q,1))\r\n",
        "  return tf.stack((x, y), axis=1)\r\n"
      ],
      "execution_count": null,
      "outputs": []
    },
    {
      "cell_type": "markdown",
      "metadata": {
        "id": "QGSqHT2jhu6L"
      },
      "source": [
        "## OK, jetzt also die Trainingsdaten\r\n",
        "\r\n",
        "Wir generieren zufällige Trainingsdaten. \r\n",
        "Eine alternative Möglichkeit wäre, im (q1, q2) Koordinatensystem gleichmäßig zu samplen. Die Verteilung im karthesischen Koordinatensystem wäre dann aber nicht gleichmäßig."
      ]
    },
    {
      "cell_type": "code",
      "metadata": {
        "id": "iIbpicffnf5m"
      },
      "source": [
        "l1 = 0.3  # Länge des ersten Roboterarms\r\n",
        "l2 = 0.3  # Länge des zweiten Roboterarms\r\n",
        "\r\n",
        "traindatasize = 1000000 # Wie viele Traingsdaten sollen generiert werden?\r\n",
        "\r\n",
        "\r\n",
        "def gen_data(size):\r\n",
        "\r\n",
        "  # q1 im Bereich von -110 .. 20 Grad \r\n",
        "  q1 = (np.random.random_sample(size) * 130 - 110) / 180 * np.pi\r\n",
        "\r\n",
        "  # q2 im Bereich von 0 .. 90 Grad \r\n",
        "  q2 = (np.random.random_sample(size) * 90) / 180 * np.pi\r\n",
        "\r\n",
        "  # Kombiniere Vektoren als Matrix\r\n",
        "  #dout = tf.stack((q1, q2))\r\n",
        "  dout = np.vstack([q1,q2]).T\r\n",
        "\r\n",
        "  # Berechne x und y\r\n",
        "  din = forward_kinematics(dout)\r\n",
        "  # forward_kinematics gibt einen tf Tensor zurück, wir rechnen\r\n",
        "  # hier aber mit numpy arrays. Daher wieder zurückwandeln\r\n",
        "  din = din.numpy()\r\n",
        "\r\n",
        "  # Entferne nahe beieinander liegende Datenpunkte\r\n",
        "#  _, unique = np.unique(din.round(decimals=3), return_index=True, axis=0) \r\n",
        "\r\n",
        "#  return (din[unique], dout[unique])\r\n",
        "  return(din, dout)\r\n",
        "\r\n",
        "\r\n",
        "(din, dout) = gen_data(traindatasize)\r\n",
        "\r\n",
        "# Da einige Datenpunkte entfernt wurden: Wieviele Trainingsdaten haben wir?\r\n",
        "\r\n",
        "print(din.shape)\r\n",
        "\r\n",
        "# Wir geben ein paar der Trainingsdaten aus\r\n",
        "\r\n",
        "somedata = np.random.choice(dout.shape[0], 5)\r\n",
        "\r\n",
        "print(dout[somedata]*180/np.pi)\r\n",
        "print(din[somedata])\r\n",
        "\r\n",
        "\r\n",
        "\r\n"
      ],
      "execution_count": null,
      "outputs": []
    },
    {
      "cell_type": "markdown",
      "metadata": {
        "id": "kRzODsqJmVyB"
      },
      "source": [
        "## Welcher Bereich `(x, y)` kann vom Roboter erreicht werden?"
      ]
    },
    {
      "cell_type": "code",
      "metadata": {
        "id": "HSJjIKamvhV1"
      },
      "source": [
        "\r\n",
        "def plot_range():\r\n",
        "  plt.figure(1)\r\n",
        "  plt.scatter(din[:,0], din[:,1])\r\n",
        "  plt.xlabel('x')\r\n",
        "  plt.ylabel('y')\r\n",
        "  #plt.xlim(0,2.5)\r\n",
        "  plt.grid(True)\r\n",
        "  plt.gca().set_aspect(\"equal\")\r\n",
        "\r\n",
        "\r\n",
        "plot_range()"
      ],
      "execution_count": null,
      "outputs": []
    },
    {
      "cell_type": "markdown",
      "metadata": {
        "id": "KcBfGA3EkHrY"
      },
      "source": [
        "# NN\r\n",
        "\r\n",
        "Zwei Fully Connected Layer, der erste Layer mit Aktivierungsfunktion.\r\n",
        "\r\n",
        "Als Fehlerfunktion wird der quadratische Fehler genutzt. Sie können auch [andere Loss Functions](https://keras.io/api/losses/) ausprobieren.\r\n",
        "\r\n",
        "Testen Sie auch verschiedene [Optimizer](https://keras.io/api/optimizers/) ."
      ]
    },
    {
      "cell_type": "markdown",
      "metadata": {
        "id": "wGXx8H8NsP8T"
      },
      "source": [
        "## Netzwerkmodell"
      ]
    },
    {
      "cell_type": "code",
      "metadata": {
        "id": "58mIV_DGsTl1"
      },
      "source": [
        "# Netzwerkparameter\r\n",
        "\r\n",
        "layer1size = 30\r\n",
        "layer2size = 20\r\n",
        "\r\n"
      ],
      "execution_count": null,
      "outputs": []
    },
    {
      "cell_type": "code",
      "metadata": {
        "id": "djBRYYG_1sS8"
      },
      "source": [
        "mymodel = keras.Sequential([\r\n",
        "      layers.Dense(layer1size, input_shape=[2,], activation='tanh'), ## Input Layer\r\n",
        "      layers.Dense(layer2size, activation='tanh'),\r\n",
        "      layers.Dense(2)     ## output\r\n",
        "  ])\r\n",
        "\r\n",
        "mymodel.summary()"
      ],
      "execution_count": null,
      "outputs": []
    },
    {
      "cell_type": "markdown",
      "metadata": {
        "id": "bpAt8hAtymSJ"
      },
      "source": [
        "## Alternative eigendefinierte Loss Funktionen"
      ]
    },
    {
      "cell_type": "code",
      "metadata": {
        "id": "pvQRVk_nPoW4"
      },
      "source": [
        "def myloss1(y_true,y_pred):\r\n",
        "\r\n",
        "  in_true = forward_kinematics(y_true)\r\n",
        "  in_pred = forward_kinematics(y_pred)\r\n",
        "\r\n",
        "  return kb.mean(kb.square(in_true - in_pred))\r\n",
        "\r\n",
        "def myloss2(y_true,y_pred):\r\n",
        "\r\n",
        "  in_true = forward_kinematics(y_true)\r\n",
        "  in_pred = forward_kinematics(y_pred)\r\n",
        "\r\n",
        "  return kb.mean(kb.square(in_true - in_pred) + 0.01* kb.square(y_true - y_pred))\r\n"
      ],
      "execution_count": null,
      "outputs": []
    },
    {
      "cell_type": "markdown",
      "metadata": {
        "id": "PGUAL1Ve2Xav"
      },
      "source": [
        "## Trainingsparameter"
      ]
    },
    {
      "cell_type": "code",
      "metadata": {
        "id": "ubfJespI2jr7"
      },
      "source": [
        "# Trainingsparameter\r\n",
        "\r\n",
        "learning_rate = 0.01\r\n",
        "batch_size = 50\r\n",
        "epochs = 10\r\n",
        "myloss = losses.mean_squared_error\r\n",
        "#myloss = myloss1\r\n",
        "#myloss = myloss2\r\n",
        "\r\n",
        "myoptimizer = optimizers.SGD  #\r\n",
        "#myoptimizer = optimizers.Adam  #\r\n"
      ],
      "execution_count": null,
      "outputs": []
    },
    {
      "cell_type": "code",
      "metadata": {
        "id": "s71a_8OZ3CZI"
      },
      "source": [
        " mymodel.compile(loss=myloss,\r\n",
        "                optimizer=myoptimizer(learning_rate=learning_rate))"
      ],
      "execution_count": null,
      "outputs": []
    },
    {
      "cell_type": "markdown",
      "metadata": {
        "id": "eEdRTD2RnArc"
      },
      "source": [
        "## Trainiere Modell\r\n",
        "\r\n",
        "Nutze 20% der Testdaten als Validierungsdatensatz"
      ]
    },
    {
      "cell_type": "code",
      "metadata": {
        "id": "iKwfxq5HyCrt"
      },
      "source": [
        "history = mymodel.fit(din, dout,\r\n",
        "          batch_size=batch_size, epochs=epochs,\r\n",
        "          validation_split = 0.2)"
      ],
      "execution_count": null,
      "outputs": []
    },
    {
      "cell_type": "code",
      "metadata": {
        "id": "-C1SzkvdA-tQ"
      },
      "source": [
        "\r\n",
        "\r\n",
        "def plot_loss(history):\r\n",
        "  plt.plot(history.history['loss'], label='loss')\r\n",
        "  plt.plot(history.history['val_loss'], label='val_loss')\r\n",
        "  plt.xlabel('Epoch')\r\n",
        "  plt.ylabel('Error')\r\n",
        "  plt.legend()\r\n",
        "  plt.grid(True)\r\n",
        "\r\n",
        "plot_loss(history)"
      ],
      "execution_count": null,
      "outputs": []
    },
    {
      "cell_type": "markdown",
      "metadata": {
        "id": "4-sNaAdYt9en"
      },
      "source": [
        "## Teste trainiertes Modell"
      ]
    },
    {
      "cell_type": "code",
      "metadata": {
        "id": "DOrEnj_b0UhR"
      },
      "source": [
        "testdatasize = 10000\r\n",
        "\r\n",
        "(testdata_in, testdata_out) = gen_data(testdatasize)\r\n",
        "\r\n",
        "print(testdata_in.shape)\r\n",
        "\r\n",
        "predictions = mymodel.predict(testdata_in)\r\n",
        "\r\n",
        "somedata = np.random.choice(predictions.shape[0], 5)\r\n",
        "\r\n",
        "for d in somedata:\r\n",
        "  print(predictions[d]*180/np.pi, testdata_out[d]*180/np.pi)\r\n",
        "\r\n",
        "tf.print(forward_kinematics(predictions[somedata]))\r\n",
        "\r\n",
        "tf.print(forward_kinematics(testdata_out[somedata]))\r\n",
        "\r\n",
        "error = mymodel.evaluate(testdata_in, testdata_out, verbose=0)\r\n",
        "print(error)"
      ],
      "execution_count": null,
      "outputs": []
    },
    {
      "cell_type": "markdown",
      "metadata": {
        "id": "Di_LHbu5yxPL"
      },
      "source": [
        "## Teste verschiedene Trajektorien"
      ]
    },
    {
      "cell_type": "markdown",
      "metadata": {
        "id": "9z9JDtMeH5jK"
      },
      "source": [
        "### Hilfsfunktionen"
      ]
    },
    {
      "cell_type": "code",
      "metadata": {
        "id": "VYwdmG6VCRhV"
      },
      "source": [
        "# Gerade\r\n",
        "\r\n",
        "def gerade(x1, y1, x2, y2):\r\n",
        "  t = np.linspace(0,1)\r\n",
        "  x = x1 + t*(x2-x1)\r\n",
        "  y = y1 + t*(y2-y1)\r\n",
        "\r\n",
        "  return (x, y)\r\n",
        "\r\n",
        "\r\n",
        "def kreis(x0, y0, R):\r\n",
        "  t = np.linspace(0, 2*np.pi)\r\n",
        "  x = x0 + R*np.sin(t)\r\n",
        "  y = y0 + R*np.cos(t)\r\n",
        "\r\n",
        "  return (x,y)\r\n",
        "\r\n",
        "def parabelbogen(x1,y1,x2,y2):\r\n",
        "  t = np.linspace(0,1)\r\n",
        "  x = x1 + (x2-x1) * t\r\n",
        "  y = y1 + (y2-y1) * t*t \r\n",
        "\r\n",
        "  return (x,y)\r\n",
        "\r\n",
        "def plot_trajectory(t, figure=100, zoom=True):\r\n",
        "  (x, y) = t\r\n",
        "  plt.figure(figure)\r\n",
        "  plt.plot(x,y, label='soll')\r\n",
        "  phipred = mymodel.predict(np.vstack((x, y)).T)\r\n",
        "\r\n",
        "  # Berechne x und y\r\n",
        "  xpred = l1 * np.cos(phipred[:,0]) + l2 * np.cos(phipred.sum(axis=1))\r\n",
        "  ypred = l1 * np.sin(phipred[:,0]) + l2 * np.sin(phipred.sum(axis=1))\r\n",
        "\r\n",
        "  pred = forward_kinematics(mymodel.predict(np.vstack((x, y)).T))\r\n",
        "\r\n",
        "  plt.plot(pred[:,0], pred[:,1], label='ist')\r\n",
        "  plt.grid(True)\r\n",
        "  plt.legend()\r\n",
        "  plt.gca().set_aspect(\"equal\")\r\n",
        "  dx = np.max(x) - np.min(x)\r\n",
        "  dy = np.max(y) - np.min(y)\r\n",
        "  if zoom:\r\n",
        "    plt.xlim(np.min(x)-0.1*dx, np.max(x)+0.1*dx)\r\n",
        "    plt.ylim(np.min(y)-0.1*dy, np.max(y)+0.1*dy)\r\n",
        "  else: \r\n",
        "    plt.xlim(-0.2, 0.6)\r\n",
        "    plt.ylim(-0.6, 0.4) \r\n",
        "\r\n",
        "\r\n",
        "\r\n"
      ],
      "execution_count": null,
      "outputs": []
    },
    {
      "cell_type": "markdown",
      "metadata": {
        "id": "n7Mk3M_QIEIb"
      },
      "source": [
        "### Plot"
      ]
    },
    {
      "cell_type": "code",
      "metadata": {
        "id": "G2HaVpGqHo3f"
      },
      "source": [
        "# Alle in einen Plot\r\n",
        "plot_trajectory(gerade(0.4,-0.2, 0.5, -0.2), zoom=False)\r\n",
        "plot_trajectory(kreis(0.5, 0.1, 0.05), zoom=False)\r\n",
        "plot_trajectory(parabelbogen(0.2,-0.5, 0.5, 0.2), zoom=False)\r\n",
        "\r\n",
        "\r\n",
        "# Einzelplots gezoomt\r\n",
        "plot_trajectory(gerade(0.4,-0.2, 0.5, -0.2), figure=2)\r\n",
        "plot_trajectory(kreis(0.5, 0.1, 0.05), figure=3)\r\n",
        "plot_trajectory(parabelbogen(0.2,-0.5, 0.5, 0.2), figure=4)\r\n"
      ],
      "execution_count": null,
      "outputs": []
    }
  ]
}