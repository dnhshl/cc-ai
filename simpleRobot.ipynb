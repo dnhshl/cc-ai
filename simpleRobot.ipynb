{
  "nbformat": 4,
  "nbformat_minor": 0,
  "metadata": {
    "colab": {
      "name": "Untitled0.ipynb",
      "provenance": [],
      "collapsed_sections": [],
      "toc_visible": true,
      "authorship_tag": "ABX9TyNcov5PdrPirAhju4z3VOZ+",
      "include_colab_link": true
    },
    "kernelspec": {
      "name": "python3",
      "display_name": "Python 3"
    },
    "accelerator": "GPU"
  },
  "cells": [
    {
      "cell_type": "markdown",
      "metadata": {
        "id": "view-in-github",
        "colab_type": "text"
      },
      "source": [
        "<a href=\"https://colab.research.google.com/github/dnhshl/cc-ai/blob/main/simpleRobot.ipynb\" target=\"_parent\"><img src=\"https://colab.research.google.com/assets/colab-badge.svg\" alt=\"Open In Colab\"/></a>"
      ]
    },
    {
      "cell_type": "markdown",
      "metadata": {
        "id": "9boAgRMdmlVN"
      },
      "source": [
        "# simpleRobot\r\n",
        "Neuronales Netz zur Berechnung der inversen Kinematik eines (sehr einfachen) Roboters mit zwei Freiheitsgraden.\r\n",
        "\r\n",
        "\r\n",
        "\r\n"
      ]
    },
    {
      "cell_type": "markdown",
      "metadata": {
        "id": "SIzhfha3lF_f"
      },
      "source": [
        "## Lade notwendige Libraries\r\n"
      ]
    },
    {
      "cell_type": "code",
      "metadata": {
        "id": "7VG9_6c-mkKe"
      },
      "source": [
        "#!pip install keras_sequential_ascii\r\n",
        "\r\n",
        "import numpy as np\r\n",
        "import tensorflow as tf\r\n",
        "from tensorflow import keras\r\n",
        "from keras import layers\r\n",
        "from keras import optimizers\r\n",
        "import matplotlib.pyplot as plt\r\n",
        "\r\n",
        "import tensorflow.keras.backend as kb\r\n",
        "\r\n",
        "#from keras_sequential_ascii import keras2ascii\r\n",
        "\r\n"
      ],
      "execution_count": 4,
      "outputs": []
    },
    {
      "cell_type": "markdown",
      "metadata": {
        "id": "tjCih-kdsqgV"
      },
      "source": [
        "# Daten\r\n",
        "\r\n",
        "Generiere Trainingsdaten. Das ist hier sehr einfach, da bei bekannten Winkeln `phi1` und `phi2` die `x` und `y` Position berechnet werden kann. \r\n",
        "\r\n",
        "Der Einfachheit halber (um auszuschließen, dass gleiche Positionen mit unterschiedlichen Winkelstellungen angefahren werden können) wird `phi1` auf 0 .. 90 Grad und `phi2` auf -90 .. 0 Grad eingeschränkt."
      ]
    },
    {
      "cell_type": "markdown",
      "metadata": {
        "id": "zM-xrVochQw3"
      },
      "source": [
        "## Vorab: Vektoren und Matrizen in numpy"
      ]
    },
    {
      "cell_type": "code",
      "metadata": {
        "colab": {
          "base_uri": "https://localhost:8080/"
        },
        "id": "_wcxMqGdglzc",
        "outputId": "2c6ac717-7f86-4df6-d80d-0c409b424e63"
      },
      "source": [
        "a = np.array([1,2,3]) # Zeilenvektor a\r\n",
        "b = np.array([4,5,6]) # Zeilenvektor b\r\n",
        "\r\n",
        "M = np.vstack((a, b)) # Zusammenfassen als 2x3 Matrix\r\n",
        "\r\n",
        "M = M.T # Transponieren -> 3x2 Matrix\r\n",
        "\r\n",
        "print(a, b)\r\n",
        "print(M)\r\n",
        "\r\n",
        "sum_a_b = M.sum(axis=1) # Summe der Spaltenvektoren\r\n",
        "print(sum_a_b)"
      ],
      "execution_count": null,
      "outputs": [
        {
          "output_type": "stream",
          "text": [
            "[1 2 3] [4 5 6]\n",
            "[[1 4]\n",
            " [2 5]\n",
            " [3 6]]\n",
            "[5 7 9]\n"
          ],
          "name": "stdout"
        }
      ]
    },
    {
      "cell_type": "markdown",
      "metadata": {
        "id": "QGSqHT2jhu6L"
      },
      "source": [
        "## OK, jetzt also die Trainingsdaten"
      ]
    },
    {
      "cell_type": "code",
      "metadata": {
        "id": "iIbpicffnf5m",
        "colab": {
          "base_uri": "https://localhost:8080/"
        },
        "outputId": "53299a94-fe21-4b4d-bd66-59b509f47315"
      },
      "source": [
        "l1 = 0.3  # Länge des ersten Roboterarms\r\n",
        "l2 = 0.3  # Länge des zweiten Roboterarms\r\n",
        "\r\n",
        "traindatasize = 1000000 # Wie viele Traingsdaten sollen generiert werden?\r\n",
        "\r\n",
        "\r\n",
        "def gen_data(size):\r\n",
        "\r\n",
        "  # phi1 im Bereich von -90 .. 0 Grad \r\n",
        "  q1 = -np.random.random_sample(size) * np.pi/2\r\n",
        "\r\n",
        "  # phi2 im Bereich von 0 .. 90 Grad \r\n",
        "  q2 = np.random.random_sample(size) * np.pi/2\r\n",
        "\r\n",
        "  # Kombiniere Vektoren als Matrix\r\n",
        "  dout = np.vstack((q1, q2)).T\r\n",
        "\r\n",
        "  # Berechne x und y\r\n",
        "  din = np.array([l1 * np.cos(dout[:,0]) + l2 * np.cos(dout.sum(axis=1)), \r\n",
        "                  l1 * np.sin(dout[:,0]) + l2 * np.sin(dout.sum(axis=1))]).T \r\n",
        "\r\n",
        "  _, unique = np.unique(din.round(decimals=3), return_index=True, axis=0) \r\n",
        "  #print(unique)\r\n",
        "\r\n",
        "  #print(din.round(decimals=3))\r\n",
        "\r\n",
        "\r\n",
        "  return (din[unique], dout[unique])\r\n",
        "\r\n",
        "\r\n",
        "\r\n",
        "(din, dout) = gen_data(traindatasize)\r\n",
        "#print(din)\r\n",
        "\r\n",
        "print(din.shape)\r\n",
        "\r\n",
        "somedata = np.random.choice(dout.shape[0], 5)\r\n",
        "\r\n",
        "print(dout[somedata]*180/np.pi)\r\n",
        "print(din[somedata])\r\n",
        "\r\n",
        "\r\n",
        "\r\n"
      ],
      "execution_count": 5,
      "outputs": [
        {
          "output_type": "stream",
          "text": [
            "(141712, 2)\n",
            "[[-75.51202422  46.00778583]\n",
            " [-34.53319206  27.24960736]\n",
            " [-84.17994141  66.00896582]\n",
            " [-17.44298162  75.34486317]\n",
            " [-15.03990424  55.66501816]]\n",
            "[[ 0.33614883 -0.43820643]\n",
            " [ 0.54471862 -0.2080992 ]\n",
            " [ 0.31546042 -0.39200968]\n",
            " [ 0.44561595  0.16421485]\n",
            " [ 0.5174194   0.11748457]]\n"
          ],
          "name": "stdout"
        }
      ]
    },
    {
      "cell_type": "markdown",
      "metadata": {
        "id": "kRzODsqJmVyB"
      },
      "source": [
        "## Welcher Bereich `(x, y)` kann vom Roboter erreicht werden?"
      ]
    },
    {
      "cell_type": "code",
      "metadata": {
        "colab": {
          "base_uri": "https://localhost:8080/",
          "height": 279
        },
        "id": "HSJjIKamvhV1",
        "outputId": "4d4a06d4-b081-4e62-f47a-5791fa43f8f4"
      },
      "source": [
        "\r\n",
        "def plot_range():\r\n",
        "  plt.scatter(din[:,0], din[:,1])\r\n",
        "  plt.xlabel('x')\r\n",
        "  plt.ylabel('y')\r\n",
        "  #plt.xlim(0,2.5)\r\n",
        "  plt.grid(True)\r\n",
        "  plt.gca().set_aspect(\"equal\")\r\n",
        "\r\n",
        "\r\n",
        "plot_range()"
      ],
      "execution_count": 6,
      "outputs": [
        {
          "output_type": "display_data",
          "data": {
            "image/png": "[encoded data removed]",
            "text/plain": [
              "<Figure size 432x288 with 1 Axes>"
            ]
          },
          "metadata": {
            "tags": [],
            "needs_background": "light"
          }
        }
      ]
    },
    {
      "cell_type": "markdown",
      "metadata": {
        "id": "KcBfGA3EkHrY"
      },
      "source": [
        "# NN\r\n",
        "\r\n",
        "Zwei Fully Connected Layer, der erste Layer mit Aktivierungsfunktion.\r\n",
        "\r\n",
        "Als Fehlerfunktion wird der quadratische Fehler genutzt. Sie können auch [andere Loss Functions](https://keras.io/api/losses/) ausprobieren.\r\n",
        "\r\n",
        "Testen Sie auch verschiedene [Optimizer](https://keras.io/api/optimizers/) ."
      ]
    },
    {
      "cell_type": "markdown",
      "metadata": {
        "id": "wGXx8H8NsP8T"
      },
      "source": [
        "## Hyperparameter"
      ]
    },
    {
      "cell_type": "code",
      "metadata": {
        "id": "58mIV_DGsTl1"
      },
      "source": [
        "# Netzwerkparameter\r\n",
        "\r\n",
        "layer1size = 30\r\n",
        "layer2size = 20\r\n",
        "\r\n",
        "# Trainingsparameter\r\n",
        "\r\n",
        "myoptimizer = optimizers.Adam\r\n",
        "learning_rate = 0.001\r\n",
        "batch_size = 50\r\n",
        "epochs = 10"
      ],
      "execution_count": 7,
      "outputs": []
    },
    {
      "cell_type": "code",
      "metadata": {
        "id": "pvQRVk_nPoW4"
      },
      "source": [
        "def mylossfunction(expected, predicted):\r\n",
        "  #inexp = np.array([l1 * np.cos(expected[:,0]) + l2 * np.cos(expected.sum(axis=1)), \r\n",
        "   #               l1 * np.sin(expected[:,0]) + l2 * np.sin(expected.sum(axis=1))]).T\r\n",
        "  #inpred = np.array([l1 * np.cos(predicted[:,0]) + l2 * np.cos(predicted.sum(axis=1)), \r\n",
        "    #              l1 * np.sin(predicted[:,0]) + l2 * np.sin(predicted.sum(axis=1))]).T\r\n",
        "  return kb.mean(kb.sum(kb.square(expected-predicted)))\r\n",
        "\r\n",
        "\r\n",
        "\r\n",
        "def q2x(q):\r\n",
        "\r\n",
        "    l1 = 1\r\n",
        "    l2 = 1\r\n",
        "\r\n",
        "    q = tf.convert_to_tensor(q)\r\n",
        "    print(q.shape)\r\n",
        "\r\n",
        "    x = l1*kb.cos(q[:,0]) +l2*kb.cos(tf.reduce_sum(q,1))\r\n",
        "    y = l1*kb.sin(q[:,0]) +l2*kb.sin(tf.reduce_sum(q,1))\r\n",
        "\r\n",
        "    tf.print('x: ', x)\r\n",
        "    tf.print('y: ', y)\r\n",
        " \r\n",
        "    return tf.stack([x,y], axis=0)\r\n",
        "\r\n",
        "\r\n",
        "def custom_loss2(y_true,y_pred):\r\n",
        "\r\n",
        "    y_true = tf.convert_to_tensor(y_true)\r\n",
        "    y_pred = tf.convert_to_tensor(y_pred)\r\n",
        "\r\n",
        "\r\n",
        "    x_in = l1*kb.cos(y_true[:,0]) +l2*kb.cos(tf.reduce_sum(y_true,0))\r\n",
        "    y_in = l1*kb.sin(y_true[:,0]) +l2*kb.sin(tf.reduce_sum(y_true,0))\r\n",
        "    coord_true = tf.convert_to_tensor([x_in, y_in])\r\n",
        "\r\n",
        " \r\n",
        "    r = tf.random.uniform(shape=(), minval=1, maxval=1000, dtype=tf.int32)\r\n",
        "    r = 5\r\n",
        "    if r == 5: tf.print('coord_true', coord_true)\r\n",
        "\r\n",
        "    x_out = l1*kb.cos(y_pred[:,0]) +l2*kb.cos(tf.reduce_sum(y_pred,0))\r\n",
        "    y_out = l1*kb.sin(y_pred[:,0]) +l2*kb.sin(tf.reduce_sum(y_pred,0))\r\n",
        "    coord_pred = tf.convert_to_tensor([x_out, y_out])\r\n",
        "\r\n",
        "\r\n",
        "    \r\n",
        "    if r == 5: tf.print('coord_pred', coord_pred)\r\n",
        "\r\n",
        "    return kb.mean(kb.square(coord_true - coord_pred))\r\n",
        "\r\n",
        "\r\n",
        "def custom_loss(y_true,y_pred):\r\n",
        "\r\n",
        "    y_true = tf.convert_to_tensor(y_true)\r\n",
        "    y_pred = tf.convert_to_tensor(y_pred)\r\n",
        "\r\n",
        "\r\n",
        "    r = tf.random.uniform(shape=(), minval=1, maxval=2000, dtype=tf.int32)\r\n",
        "    if r == 5: tf.print('\\nytrue_true', y_true)\r\n",
        "   \r\n",
        "    if r == 5: tf.print('\\ny_pred', y_pred)\r\n",
        "\r\n",
        "    if r == 5: tf.print('\\nreturn', kb.square(y_true - y_pred))\r\n",
        "\r\n",
        "    return kb.mean(kb.square(y_true - y_pred))    "
      ],
      "execution_count": 64,
      "outputs": []
    },
    {
      "cell_type": "code",
      "metadata": {
        "id": "HOWo3l1dl_f5",
        "outputId": "f1412b59-d9c3-4e0f-adf0-6c1d136228d5",
        "colab": {
          "base_uri": "https://localhost:8080/"
        }
      },
      "source": [
        "y_true = [[0, 0.], [np.pi/4, 0.]]\r\n",
        "y_pred = [[np.pi/2, 0.], [0, 0] ]\r\n",
        "# Using 'auto'/'sum_over_batch_size' reduction type.  \r\n",
        "#mse = tf.keras.losses.MeanSquaredError()\r\n",
        "#mse(y_true, y_pred).numpy()\r\n",
        "#custom_loss2(y_true, y_pred).numpy()\r\n",
        "\r\n",
        "\r\n",
        "q =  tf.convert_to_tensor([[np.pi, np.pi/2], [0,np.pi]])\r\n",
        "tf.print(q)\r\n",
        "\r\n",
        "tf.print(q[:,0])\r\n",
        "tf.print(tf.reduce_sum(q,1))\r\n",
        "\r\n",
        "tf.print(q2x(q))"
      ],
      "execution_count": 65,
      "outputs": [
        {
          "output_type": "stream",
          "text": [
            "[[3.14159274 1.57079637]\n",
            " [0 3.14159274]]\n",
            "[3.14159274 0]\n",
            "[4.71238899 3.14159274]\n",
            "(2, 2)\n",
            "x:  [-1 0]\n",
            "y:  [-1.00000012 -8.74227766e-08]\n",
            "[[-1 0]\n",
            " [-1.00000012 -8.74227766e-08]]\n"
          ],
          "name": "stdout"
        }
      ]
    },
    {
      "cell_type": "markdown",
      "metadata": {
        "id": "edNkRU_JtHHG"
      },
      "source": [
        "## Konstruiere NN"
      ]
    },
    {
      "cell_type": "code",
      "metadata": {
        "id": "2aiSNRJGkbEF"
      },
      "source": [
        "def build_and_compile_model():\r\n",
        "  model = keras.Sequential([\r\n",
        "      layers.Dense(layer1size, input_shape=[2,], activation='tanh', kernel_initializer='he_uniform'),\r\n",
        "      layers.Dense(layer2size, activation='tanh',  kernel_initializer='he_uniform'),\r\n",
        "      #layers.Dense(layer2size, activation='relu',  kernel_initializer='he_uniform'),\r\n",
        "      layers.Dense(2, kernel_initializer='he_uniform')     ## output\r\n",
        "  ])\r\n",
        "\r\n",
        "  model.compile(loss=custom_loss,\r\n",
        "                optimizer=myoptimizer(learning_rate=0.01))\r\n",
        "  return model"
      ],
      "execution_count": 18,
      "outputs": []
    },
    {
      "cell_type": "code",
      "metadata": {
        "colab": {
          "base_uri": "https://localhost:8080/"
        },
        "id": "4eCN_8bjuzwX",
        "outputId": "f47480a6-2b0e-42c0-df23-ee08ac95ab8a"
      },
      "source": [
        "mymodel = build_and_compile_model()\r\n",
        "mymodel.summary()\r\n",
        "\r\n",
        "print()\r\n",
        "print('________________________')\r\n",
        "print('NN Struktur in Ascii Art')\r\n",
        "print('________________________')\r\n",
        "print()\r\n",
        "\r\n",
        "#keras2ascii(mymodel)\r\n"
      ],
      "execution_count": 19,
      "outputs": [
        {
          "output_type": "stream",
          "text": [
            "Model: \"sequential_2\"\n",
            "_________________________________________________________________\n",
            "Layer (type)                 Output Shape              Param #   \n",
            "=================================================================\n",
            "dense_6 (Dense)              (None, 30)                90        \n",
            "_________________________________________________________________\n",
            "dense_7 (Dense)              (None, 20)                620       \n",
            "_________________________________________________________________\n",
            "dense_8 (Dense)              (None, 2)                 42        \n",
            "=================================================================\n",
            "Total params: 752\n",
            "Trainable params: 752\n",
            "Non-trainable params: 0\n",
            "_________________________________________________________________\n",
            "\n",
            "________________________\n",
            "NN Struktur in Ascii Art\n",
            "________________________\n",
            "\n"
          ],
          "name": "stdout"
        }
      ]
    },
    {
      "cell_type": "markdown",
      "metadata": {
        "id": "eEdRTD2RnArc"
      },
      "source": [
        "## Trainiere Modell\r\n",
        "\r\n",
        "Nutze 20% der Testdaten als Validierungsdatensatz"
      ]
    },
    {
      "cell_type": "code",
      "metadata": {
        "colab": {
          "base_uri": "https://localhost:8080/"
        },
        "id": "iKwfxq5HyCrt",
        "outputId": "e47f5788-f6ce-42d1-8dd8-276ecf3b106c"
      },
      "source": [
        "\r\n",
        "\r\n",
        "history = mymodel.fit(din, dout,\r\n",
        "          batch_size=4, epochs=1,\r\n",
        "          validation_split = 0.2)"
      ],
      "execution_count": 20,
      "outputs": [
        {
          "output_type": "stream",
          "text": [
            " 6723/28343 [======>.......................] - ETA: 39s - loss: 0.0246\n",
            "ytrue_true [[-1.156672 0.264125049]\n",
            " [-0.942017376 0.472767055]\n",
            " [-1.13557 1.25166798]\n",
            " [-0.231660157 0.958096683]]\n",
            "\n",
            "y_pred [[-1.17890549 0.384334564]\n",
            " [-0.880074084 0.418080747]\n",
            " [-1.10233927 1.24233639]\n",
            " [-0.198656917 0.916369915]]\n",
            "\n",
            "return [[0.00049432792 0.0144503275]\n",
            " [0.00383697147 0.00299059227]\n",
            " [0.00110428489 8.7078457e-05]\n",
            " [0.00108921388 0.00174112315]]\n",
            "13279/28343 [=============>................] - ETA: 27s - loss: 0.0158\n",
            "ytrue_true [[-0.798643172 0.81865406]\n",
            " [-1.49636626 0.724826813]\n",
            " [-0.641281 1.49560082]\n",
            " [-1.10654604 0.493783772]]\n",
            "\n",
            "y_pred [[-0.758946598 0.786583066]\n",
            " [-1.43655372 0.699048638]\n",
            " [-0.58057344 1.46582985]\n",
            " [-1.06139112 0.496069908]]\n",
            "\n",
            "return [[0.00157581805 0.00102854869]\n",
            " [0.00357754063 0.000664514257]\n",
            " [0.00368540897 0.000886310649]\n",
            " [0.00203896756 5.22641858e-06]]\n",
            "14885/28343 [==============>...............] - ETA: 24s - loss: 0.0147\n",
            "ytrue_true [[-0.888638377 0.809348106]\n",
            " [-0.707623661 1.39348698]\n",
            " [-0.966193 1.16070402]\n",
            " [-0.85780704 1.24113309]]\n",
            "\n",
            "y_pred [[-0.871166706 0.800139666]\n",
            " [-0.712718785 1.41669929]\n",
            " [-0.956581593 1.18795097]\n",
            " [-0.854307711 1.26327264]]\n",
            "\n",
            "return [[0.00030525928 8.47953852e-05]\n",
            " [2.59602912e-05 0.000538811495]\n",
            " [9.23795451e-05 0.000742396398]\n",
            " [1.22453039e-05 0.000490159669]]\n",
            "14995/28343 [==============>...............] - ETA: 24s - loss: 0.0146\n",
            "ytrue_true [[-0.840998173 1.01630664]\n",
            " [-1.53686917 0.311550349]\n",
            " [-1.01382685 1.15189588]\n",
            " [-0.858755469 0.950172961]]\n",
            "\n",
            "y_pred [[-0.809577286 0.944648623]\n",
            " [-1.56150818 0.307819724]\n",
            " [-0.984205425 1.1035949]\n",
            " [-0.831283033 0.878658652]]\n",
            "\n",
            "return [[0.000987272128 0.00513487123]\n",
            " [0.000607080816 1.39175627e-05]\n",
            " [0.000877428683 0.0023329847]\n",
            " [0.000754734792 0.00511429645]]\n",
            "19633/28343 [===================>..........] - ETA: 15s - loss: 0.0123\n",
            "ytrue_true [[-0.365752488 1.03127134]\n",
            " [-1.07635069 0.290269315]\n",
            " [-1.0885514 0.969629228]\n",
            " [-1.50278687 0.605832398]]\n",
            "\n",
            "y_pred [[-0.362042964 0.998147488]\n",
            " [-1.05656087 0.286514044]\n",
            " [-1.05872 0.942971349]\n",
            " [-1.50469649 0.612511754]]\n",
            "\n",
            "return [[1.37605748e-05 0.0010971895]\n",
            " [0.000391636771 1.41020637e-05]\n",
            " [0.000889913 0.000710642547]\n",
            " [3.64662424e-06 4.46137965e-05]]\n",
            "22443/28343 [======================>.......] - ETA: 10s - loss: 0.0113\n",
            "ytrue_true [[-1.03672767 1.37365103]\n",
            " [-1.40954614 0.261698693]\n",
            " [-0.299721241 1.21479714]\n",
            " [-0.220044583 1.06509805]]\n",
            "\n",
            "y_pred [[-1.15558243 1.32396173]\n",
            " [-1.47758532 0.313522279]\n",
            " [-0.327543706 1.20092]\n",
            " [-0.247164175 1.05682838]]\n",
            "\n",
            "return [[0.0141264545 0.00246902579]\n",
            " [0.00462933 0.00268568401]\n",
            " [0.000774089538 0.00019257539]\n",
            " [0.000735472247 6.83874e-05]]\n",
            "24967/28343 [=========================>....] - ETA: 6s - loss: 0.0106\n",
            "ytrue_true [[-1.53679347 1.11165524]\n",
            " [-1.41319346 0.823277593]\n",
            " [-1.08239698 1.08210194]\n",
            " [-0.196878091 1.18745351]]\n",
            "\n",
            "y_pred [[-1.47969961 1.12702203]\n",
            " [-1.39365864 0.880039394]\n",
            " [-1.06780958 1.08093274]\n",
            " [-0.117539644 1.0323391]]\n",
            "\n",
            "return [[0.00325970864 0.000236138323]\n",
            " [0.000381609425 0.00322190206]\n",
            " [0.000212792307 1.36703966e-06]\n",
            " [0.00629458902 0.0240604803]]\n",
            "27920/28343 [============================>.] - ETA: 0s - loss: 0.0099\n",
            "ytrue_true [[-1.40636587 0.930598497]\n",
            " [-0.277666628 1.0385263]\n",
            " [-1.0785228 0.86416018]\n",
            " [-0.727403402 0.998884857]]\n",
            "\n",
            "y_pred [[-1.42936039 0.968612909]\n",
            " [-0.324250221 1.05463517]\n",
            " [-1.08307993 0.888574362]\n",
            " [-0.736396968 1.01471353]]\n",
            "\n",
            "return [[0.000528747856 0.00144509552]\n",
            " [0.00217003119 0.000259495719]\n",
            " [2.07674584e-05 0.000596052269]\n",
            " [8.08842306e-05 0.000250546756]]\n",
            "28057/28343 [============================>.] - ETA: 0s - loss: 0.0099\n",
            "ytrue_true [[-0.971950471 1.42399895]\n",
            " [-0.0704822 0.98784852]\n",
            " [-1.02451658 1.05798256]\n",
            " [-0.186917275 1.35074246]]\n",
            "\n",
            "y_pred [[-0.992974639 1.36884964]\n",
            " [-0.0915647 0.969180465]\n",
            " [-1.02522755 1.00374031]\n",
            " [-0.185955197 1.28796875]]\n",
            "\n",
            "return [[0.000442015618 0.00304144714]\n",
            " [0.00044447172 0.000348496309]\n",
            " [5.05470098e-07 0.00294222194]\n",
            " [9.25595202e-07 0.00394053804]]\n",
            "28163/28343 [============================>.] - ETA: 0s - loss: 0.0098\n",
            "ytrue_true [[-1.08898962 0.194015607]\n",
            " [-1.28816032 1.04706502]\n",
            " [-1.05576754 1.37588704]\n",
            " [-1.06381571 0.344020098]]\n",
            "\n",
            "y_pred [[-1.10482538 0.18705374]\n",
            " [-1.25175405 0.957021296]\n",
            " [-1.04032743 1.34701753]\n",
            " [-1.05134404 0.276614636]]\n",
            "\n",
            "return [[0.000250771351 4.84675948e-05]\n",
            " [0.00132541708 0.00810787175]\n",
            " [0.000238396882 0.000833448605]\n",
            " [0.000155542701 0.0045434963]]\n",
            "28325/28343 [============================>.] - ETA: 0s - loss: 0.0098\n",
            "ytrue_true [[-0.320412189 0.983455658]\n",
            " [-0.317344159 0.981042624]\n",
            " [-0.316680342 0.983746409]\n",
            " [-0.314974368 0.98268348]]\n",
            "\n",
            "y_pred [[-0.428152084 1.077371]\n",
            " [-0.425769597 1.07554734]\n",
            " [-0.424728602 1.07760918]\n",
            " [-0.423358291 1.07680476]]\n",
            "\n",
            "return [[0.0116078854 0.00882009137]\n",
            " [0.0117560755 0.00893114135]\n",
            " [0.0116744265 0.00881022]\n",
            " [0.0117470752 0.00885881484]]\n",
            "\n",
            "ytrue_true [[-0.566578031 0.780216157]\n",
            " [-0.566371083 0.785681486]\n",
            " [-0.567568362 0.789903343]\n",
            " [-0.56638658 0.790502548]]\n",
            "\n",
            "y_pred [[-0.690857947 0.922838509]\n",
            " [-0.689793527 0.925962627]\n",
            " [-0.690215707 0.928212821]\n",
            " [-0.689038157 0.928714097]]\n",
            "\n",
            "return [[0.0154454978 0.0203411356]\n",
            " [0.0152330995 0.0196787976]\n",
            " [0.0150423711 0.0191295128]\n",
            " [0.0150434095 0.0191024318]]\n",
            "\n",
            "ytrue_true [[-0.382059485 0.827272177]\n",
            " [-0.380346894 0.827344954]\n",
            " [-0.380838215 0.829140246]\n",
            " [-0.377091646 0.828837574]]\n",
            "\n",
            "y_pred [[-0.512517929 0.971443474]\n",
            " [-0.51093173 0.971630871]\n",
            " [-0.511028886 0.972605646]\n",
            " [-0.507651925 0.972748101]]\n",
            "\n",
            "return [[0.017019406 0.0207853634]\n",
            " [0.017052399 0.0208184253]\n",
            " [0.0169496108 0.0205823202]\n",
            " [0.0170459859 0.0207102392]]\n",
            "28343/28343 [==============================] - 62s 2ms/step - loss: 0.0098 - val_loss: 0.0550\n"
          ],
          "name": "stdout"
        }
      ]
    },
    {
      "cell_type": "code",
      "metadata": {
        "colab": {
          "base_uri": "https://localhost:8080/",
          "height": 279
        },
        "id": "-C1SzkvdA-tQ",
        "outputId": "220be2ce-33ac-44f1-e3e8-478a6b7126df"
      },
      "source": [
        "\r\n",
        "\r\n",
        "def plot_loss(history):\r\n",
        "  plt.plot(history.history['loss'], label='loss')\r\n",
        "  plt.plot(history.history['val_loss'], label='val_loss')\r\n",
        "  plt.xlabel('Epoch')\r\n",
        "  plt.ylabel('Error')\r\n",
        "  plt.legend()\r\n",
        "  plt.grid(True)\r\n",
        "\r\n",
        "plot_loss(history)"
      ],
      "execution_count": 142,
      "outputs": [
        {
          "output_type": "display_data",
          "data": {
            "image/png": "[encoded data removed]",
            "text/plain": [
              "<Figure size 432x288 with 1 Axes>"
            ]
          },
          "metadata": {
            "tags": [],
            "needs_background": "light"
          }
        }
      ]
    },
    {
      "cell_type": "markdown",
      "metadata": {
        "id": "4-sNaAdYt9en"
      },
      "source": [
        "## Teste trainiertes Modell"
      ]
    },
    {
      "cell_type": "code",
      "metadata": {
        "colab": {
          "base_uri": "https://localhost:8080/"
        },
        "id": "DOrEnj_b0UhR",
        "outputId": "92e4d194-ba56-4074-a6b1-47e51405e123"
      },
      "source": [
        "testdatasize = 10000\r\n",
        "\r\n",
        "(testdata_in, testdata_out) = gen_data(testdatasize)\r\n",
        "\r\n",
        "print(testdata_in.shape)\r\n",
        "\r\n",
        "predictions = mymodel.predict(testdata_in)\r\n",
        "\r\n",
        "somedata = np.random.choice(predictions.shape[0], 5)\r\n",
        "\r\n",
        "for d in somedata:\r\n",
        "  print(predictions[d]*180/np.pi, testdata_out[d]*180/np.pi)\r\n",
        "\r\n",
        "error = mymodel.evaluate(testdata_in, testdata_out, verbose=1)\r\n",
        "print(np.sqrt(error))"
      ],
      "execution_count": 143,
      "outputs": [
        {
          "output_type": "stream",
          "text": [
            "(9444, 2)\n",
            "[3196.916  2947.7793] [-72.33466503  55.88030846]\n",
            "[3196.916  2947.7793] [-84.64630635  83.47298536]\n",
            "[3196.916  2947.7793] [-26.16088368  66.08787288]\n",
            "[3196.916  2947.7793] [-84.14982315  40.04916389]\n",
            "[3196.916  2947.7793] [-73.41716136   5.39451899]\n",
            "296/296 [==============================] - 0s 1ms/step - loss: 0.1137\n",
            "0.3371712186981889\n"
          ],
          "name": "stdout"
        }
      ]
    },
    {
      "cell_type": "markdown",
      "metadata": {
        "id": "Di_LHbu5yxPL"
      },
      "source": [
        "## Teste verschiedene Trajektorien"
      ]
    },
    {
      "cell_type": "code",
      "metadata": {
        "id": "VYwdmG6VCRhV",
        "colab": {
          "base_uri": "https://localhost:8080/",
          "height": 513
        },
        "outputId": "ed644de8-a233-4208-f63f-60a91c183497"
      },
      "source": [
        "# Gerade\r\n",
        "\r\n",
        "xtest1 = np.linspace(0.4,0.5)\r\n",
        "ytest1 = (xtest1-0.4) -0.2\r\n",
        "\r\n",
        "# Parabel\r\n",
        "#xtest2 = np.linspace(1, 1.8)\r\n",
        "#ytest2 = -0.5*xtest2*xtest2 +2\r\n",
        "\r\n",
        "# Kreisbogen\r\n",
        "xtest3 = np.linspace(-0.05, 0.05)\r\n",
        "ytest3 = np.sqrt(0.05*0.05 - xtest3*xtest3)\r\n",
        "xtest3 = xtest3 + 0.5\r\n",
        "ytest3 = ytest3 \r\n",
        "\r\n",
        "\r\n",
        "def plot_trajectory(x, y):\r\n",
        "  plt.figure()\r\n",
        "  plt.plot(x,y, label='soll')\r\n",
        "  phipred = mymodel.predict(np.vstack((x, y)).T)\r\n",
        "\r\n",
        "  # Berechne x und y\r\n",
        "  xpred = l1 * np.cos(phipred[:,0]) + l2 * np.cos(phipred.sum(axis=1))\r\n",
        "  ypred = l1 * np.sin(phipred[:,0]) + l2 * np.sin(phipred.sum(axis=1))\r\n",
        "\r\n",
        "  plt.plot(xpred, ypred, label='ist')\r\n",
        "  plt.grid(True)\r\n",
        "  plt.legend()\r\n",
        "\r\n",
        "\r\n",
        "plot_trajectory(xtest1, ytest1)\r\n",
        "\r\n",
        "#plot_trajectory(xtest2, ytest2)\r\n",
        "\r\n",
        "plot_trajectory(xtest3, ytest3)\r\n",
        "\r\n"
      ],
      "execution_count": 109,
      "outputs": [
        {
          "output_type": "display_data",
          "data": {
            "image/png": "[encoded data removed]",
            "text/plain": [
              "<Figure size 432x288 with 1 Axes>"
            ]
          },
          "metadata": {
            "tags": [],
            "needs_background": "light"
          }
        },
        {
          "output_type": "display_data",
          "data": {
            "image/png": "[encoded data removed]",
            "text/plain": [
              "<Figure size 432x288 with 1 Axes>"
            ]
          },
          "metadata": {
            "tags": [],
            "needs_background": "light"
          }
        }
      ]
    }
  ]
}