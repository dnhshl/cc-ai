{
  "nbformat": 4,
  "nbformat_minor": 0,
  "metadata": {
    "colab": {
      "name": "Untitled0.ipynb",
      "provenance": [],
      "collapsed_sections": [],
      "toc_visible": true,
      "authorship_tag": "ABX9TyNRWuUu/KXe9XsnyL4WRyUV",
      "include_colab_link": true
    },
    "kernelspec": {
      "name": "python3",
      "display_name": "Python 3"
    },
    "accelerator": "GPU"
  },
  "cells": [
    {
      "cell_type": "markdown",
      "metadata": {
        "id": "view-in-github",
        "colab_type": "text"
      },
      "source": [
        "<a href=\"https://colab.research.google.com/github/dnhshl/cc-ai/blob/main/simpleRobot.ipynb\" target=\"_parent\"><img src=\"https://colab.research.google.com/assets/colab-badge.svg\" alt=\"Open In Colab\"/></a>"
      ]
    },
    {
      "cell_type": "markdown",
      "metadata": {
        "id": "9boAgRMdmlVN"
      },
      "source": [
        "# simpleRobot\r\n",
        "Neuronales Netz zur Berechnung der inversen Kinematik eines (sehr einfachen) Roboters mit zwei Freiheitsgraden.\r\n",
        "\r\n",
        "\r\n",
        "\r\n"
      ]
    },
    {
      "cell_type": "markdown",
      "metadata": {
        "id": "SIzhfha3lF_f"
      },
      "source": [
        "## Lade notwendige Libraries\r\n"
      ]
    },
    {
      "cell_type": "code",
      "metadata": {
        "id": "7VG9_6c-mkKe"
      },
      "source": [
        "#!pip install keras_sequential_ascii\r\n",
        "\r\n",
        "import numpy as np\r\n",
        "import tensorflow as tf\r\n",
        "from tensorflow import keras\r\n",
        "from keras import layers\r\n",
        "from keras import optimizers\r\n",
        "import matplotlib.pyplot as plt\r\n",
        "\r\n",
        "import tensorflow.keras.backend as kb\r\n",
        "\r\n",
        "#from keras_sequential_ascii import keras2ascii\r\n",
        "\r\n"
      ],
      "execution_count": 2,
      "outputs": []
    },
    {
      "cell_type": "markdown",
      "metadata": {
        "id": "tjCih-kdsqgV"
      },
      "source": [
        "# Daten\r\n",
        "\r\n",
        "Generiere Trainingsdaten. Das ist hier sehr einfach, da bei bekannten Winkeln `phi1` und `phi2` die `x` und `y` Position berechnet werden kann. \r\n",
        "\r\n",
        "Der Einfachheit halber (um auszuschließen, dass gleiche Positionen mit unterschiedlichen Winkelstellungen angefahren werden können) wird `phi1` auf 0 .. 90 Grad und `phi2` auf -90 .. 0 Grad eingeschränkt."
      ]
    },
    {
      "cell_type": "markdown",
      "metadata": {
        "id": "zM-xrVochQw3"
      },
      "source": [
        "## Vorab: Vektoren und Matrizen in numpy"
      ]
    },
    {
      "cell_type": "code",
      "metadata": {
        "colab": {
          "base_uri": "https://localhost:8080/"
        },
        "id": "_wcxMqGdglzc",
        "outputId": "2c6ac717-7f86-4df6-d80d-0c409b424e63"
      },
      "source": [
        "a = np.array([1,2,3]) # Zeilenvektor a\r\n",
        "b = np.array([4,5,6]) # Zeilenvektor b\r\n",
        "\r\n",
        "M = np.vstack((a, b)) # Zusammenfassen als 2x3 Matrix\r\n",
        "\r\n",
        "M = M.T # Transponieren -> 3x2 Matrix\r\n",
        "\r\n",
        "print(a, b)\r\n",
        "print(M)\r\n",
        "\r\n",
        "sum_a_b = M.sum(axis=1) # Summe der Spaltenvektoren\r\n",
        "print(sum_a_b)"
      ],
      "execution_count": null,
      "outputs": [
        {
          "output_type": "stream",
          "text": [
            "[1 2 3] [4 5 6]\n",
            "[[1 4]\n",
            " [2 5]\n",
            " [3 6]]\n",
            "[5 7 9]\n"
          ],
          "name": "stdout"
        }
      ]
    },
    {
      "cell_type": "markdown",
      "metadata": {
        "id": "QGSqHT2jhu6L"
      },
      "source": [
        "## OK, jetzt also die Trainingsdaten"
      ]
    },
    {
      "cell_type": "code",
      "metadata": {
        "id": "iIbpicffnf5m",
        "colab": {
          "base_uri": "https://localhost:8080/"
        },
        "outputId": "9cdd64a0-6220-4aed-b6c8-8bf35c1eeeb9"
      },
      "source": [
        "l1 = 0.3  # Länge des ersten Roboterarms\r\n",
        "l2 = 0.3  # Länge des zweiten Roboterarms\r\n",
        "\r\n",
        "traindatasize = 1000000 # Wie viele Traingsdaten sollen generiert werden?\r\n",
        "\r\n",
        "\r\n",
        "def gen_data(size):\r\n",
        "\r\n",
        "  # phi1 im Bereich von -90 .. 0 Grad \r\n",
        "  q1 = -np.random.random_sample(size) * np.pi/2\r\n",
        "\r\n",
        "  # phi2 im Bereich von 0 .. 90 Grad \r\n",
        "  q2 = np.random.random_sample(size) * np.pi/2\r\n",
        "\r\n",
        "  # Kombiniere Vektoren als Matrix\r\n",
        "  dout = np.vstack((q1, q2)).T\r\n",
        "\r\n",
        "  # Berechne x und y\r\n",
        "  din = np.array([l1 * np.cos(dout[:,0]) + l2 * np.cos(dout.sum(axis=1)), \r\n",
        "                  l1 * np.sin(dout[:,0]) + l2 * np.sin(dout.sum(axis=1))]).T \r\n",
        "\r\n",
        "  _, unique = np.unique(din.round(decimals=3), return_index=True, axis=0) \r\n",
        "  #print(unique)\r\n",
        "\r\n",
        "  #print(din.round(decimals=3))\r\n",
        "\r\n",
        "\r\n",
        "  return (din[unique], dout[unique])\r\n",
        "\r\n",
        "\r\n",
        "\r\n",
        "(din, dout) = gen_data(traindatasize)\r\n",
        "#print(din)\r\n",
        "\r\n",
        "print(din.shape)\r\n",
        "\r\n",
        "somedata = np.random.choice(dout.shape[0], 5)\r\n",
        "\r\n",
        "print(dout[somedata]*180/np.pi)\r\n",
        "print(din[somedata])\r\n",
        "\r\n",
        "\r\n",
        "\r\n"
      ],
      "execution_count": 36,
      "outputs": [
        {
          "output_type": "stream",
          "text": [
            "(141745, 2)\n",
            "[[-32.52823654  76.3644451 ]\n",
            " [-33.57433638  32.82768575]\n",
            " [-25.16004081  24.6528563 ]\n",
            " [-46.64602569  63.79204294]\n",
            " [-89.3549745   55.9767189 ]]\n",
            "[[ 0.46933477  0.04646519]\n",
            " [ 0.54992524 -0.16981487]\n",
            " [ 0.57152538 -0.13020002]\n",
            " [ 0.49261805 -0.12969555]\n",
            " [ 0.25389429 -0.46503015]]\n"
          ],
          "name": "stdout"
        }
      ]
    },
    {
      "cell_type": "markdown",
      "metadata": {
        "id": "kRzODsqJmVyB"
      },
      "source": [
        "## Welcher Bereich `(x, y)` kann vom Roboter erreicht werden?"
      ]
    },
    {
      "cell_type": "code",
      "metadata": {
        "colab": {
          "base_uri": "https://localhost:8080/",
          "height": 279
        },
        "id": "HSJjIKamvhV1",
        "outputId": "4d4a06d4-b081-4e62-f47a-5791fa43f8f4"
      },
      "source": [
        "\r\n",
        "def plot_range():\r\n",
        "  plt.scatter(din[:,0], din[:,1])\r\n",
        "  plt.xlabel('x')\r\n",
        "  plt.ylabel('y')\r\n",
        "  #plt.xlim(0,2.5)\r\n",
        "  plt.grid(True)\r\n",
        "  plt.gca().set_aspect(\"equal\")\r\n",
        "\r\n",
        "\r\n",
        "plot_range()"
      ],
      "execution_count": null,
      "outputs": [
        {
          "output_type": "display_data",
          "data": {
            "image/png": "[encoded data removed]",
            "text/plain": [
              "<Figure size 432x288 with 1 Axes>"
            ]
          },
          "metadata": {
            "tags": [],
            "needs_background": "light"
          }
        }
      ]
    },
    {
      "cell_type": "markdown",
      "metadata": {
        "id": "KcBfGA3EkHrY"
      },
      "source": [
        "# NN\r\n",
        "\r\n",
        "Zwei Fully Connected Layer, der erste Layer mit Aktivierungsfunktion.\r\n",
        "\r\n",
        "Als Fehlerfunktion wird der quadratische Fehler genutzt. Sie können auch [andere Loss Functions](https://keras.io/api/losses/) ausprobieren.\r\n",
        "\r\n",
        "Testen Sie auch verschiedene [Optimizer](https://keras.io/api/optimizers/) ."
      ]
    },
    {
      "cell_type": "markdown",
      "metadata": {
        "id": "wGXx8H8NsP8T"
      },
      "source": [
        "## Hyperparameter"
      ]
    },
    {
      "cell_type": "code",
      "metadata": {
        "id": "58mIV_DGsTl1"
      },
      "source": [
        "# Netzwerkparameter\r\n",
        "\r\n",
        "layer1size = 30\r\n",
        "layer2size = 20\r\n",
        "\r\n",
        "# Trainingsparameter\r\n",
        "\r\n",
        "myoptimizer = optimizers.Adam\r\n",
        "learning_rate = 0.001\r\n",
        "batch_size = 50\r\n",
        "epochs = 10"
      ],
      "execution_count": 57,
      "outputs": []
    },
    {
      "cell_type": "code",
      "metadata": {
        "id": "b8QFXDit65h4"
      },
      "source": [
        "def forward_kinematics(q):\r\n",
        "\r\n",
        "  x = l1*tf.cos(q[:,0]) +l2*tf.cos(tf.reduce_sum(q,1))\r\n",
        "  y = l1*tf.sin(q[:,0]) +l2*tf.sin(tf.reduce_sum(q,1))\r\n",
        "  return tf.stack((x, y), axis=1)\r\n"
      ],
      "execution_count": 47,
      "outputs": []
    },
    {
      "cell_type": "code",
      "metadata": {
        "id": "pvQRVk_nPoW4"
      },
      "source": [
        "def myloss(y_true,y_pred):\r\n",
        "\r\n",
        "  in_true = forward_kinematics(y_true)\r\n",
        "  in_pred = forward_kinematics(y_pred)\r\n",
        "\r\n",
        "  return kb.mean(kb.square(in_true - in_pred) + 0.1* kb.square(y_true - y_pred))\r\n"
      ],
      "execution_count": 77,
      "outputs": []
    },
    {
      "cell_type": "markdown",
      "metadata": {
        "id": "edNkRU_JtHHG"
      },
      "source": [
        "## Konstruiere NN"
      ]
    },
    {
      "cell_type": "code",
      "metadata": {
        "id": "2aiSNRJGkbEF"
      },
      "source": [
        "def build_and_compile_model():\r\n",
        "  model = keras.Sequential([\r\n",
        "      layers.Dense(layer1size, input_shape=[2,], activation='tanh', kernel_initializer='he_uniform'),\r\n",
        "      layers.Dense(layer2size, activation='tanh',  kernel_initializer='he_uniform'),\r\n",
        "      #layers.Dense(layer2size, activation='relu',  kernel_initializer='he_uniform'),\r\n",
        "      layers.Dense(2, kernel_initializer='he_uniform')     ## output\r\n",
        "  ])\r\n",
        "\r\n",
        "  model.compile(loss=myloss,\r\n",
        "                optimizer=myoptimizer(learning_rate=0.01))\r\n",
        "  return model"
      ],
      "execution_count": 78,
      "outputs": []
    },
    {
      "cell_type": "code",
      "metadata": {
        "colab": {
          "base_uri": "https://localhost:8080/"
        },
        "id": "4eCN_8bjuzwX",
        "outputId": "50455237-4799-44dd-ee0f-0e5940efc02c"
      },
      "source": [
        "mymodel = build_and_compile_model()\r\n",
        "mymodel.summary()\r\n",
        "\r\n",
        "print()\r\n",
        "print('________________________')\r\n",
        "print('NN Struktur in Ascii Art')\r\n",
        "print('________________________')\r\n",
        "print()\r\n",
        "\r\n",
        "#keras2ascii(mymodel)\r\n"
      ],
      "execution_count": 79,
      "outputs": [
        {
          "output_type": "stream",
          "text": [
            "Model: \"sequential_6\"\n",
            "_________________________________________________________________\n",
            "Layer (type)                 Output Shape              Param #   \n",
            "=================================================================\n",
            "dense_18 (Dense)             (None, 30)                90        \n",
            "_________________________________________________________________\n",
            "dense_19 (Dense)             (None, 20)                620       \n",
            "_________________________________________________________________\n",
            "dense_20 (Dense)             (None, 2)                 42        \n",
            "=================================================================\n",
            "Total params: 752\n",
            "Trainable params: 752\n",
            "Non-trainable params: 0\n",
            "_________________________________________________________________\n",
            "\n",
            "________________________\n",
            "NN Struktur in Ascii Art\n",
            "________________________\n",
            "\n"
          ],
          "name": "stdout"
        }
      ]
    },
    {
      "cell_type": "markdown",
      "metadata": {
        "id": "eEdRTD2RnArc"
      },
      "source": [
        "## Trainiere Modell\r\n",
        "\r\n",
        "Nutze 20% der Testdaten als Validierungsdatensatz"
      ]
    },
    {
      "cell_type": "code",
      "metadata": {
        "colab": {
          "base_uri": "https://localhost:8080/"
        },
        "id": "iKwfxq5HyCrt",
        "outputId": "5f22e171-794d-47d9-aa99-98271f21c2a9"
      },
      "source": [
        "\r\n",
        "\r\n",
        "history = mymodel.fit(din, dout,\r\n",
        "          batch_size=batch_size, epochs=epochs,\r\n",
        "          validation_split = 0.2)"
      ],
      "execution_count": 80,
      "outputs": [
        {
          "output_type": "stream",
          "text": [
            "Epoch 1/10\n",
            "2268/2268 [==============================] - 7s 3ms/step - loss: 0.0047 - val_loss: 0.0016\n",
            "Epoch 2/10\n",
            "2268/2268 [==============================] - 6s 3ms/step - loss: 1.2753e-04 - val_loss: 0.0011\n",
            "Epoch 3/10\n",
            "2268/2268 [==============================] - 6s 3ms/step - loss: 9.6866e-05 - val_loss: 0.0020\n",
            "Epoch 4/10\n",
            "2268/2268 [==============================] - 6s 3ms/step - loss: 8.7931e-05 - val_loss: 0.0014\n",
            "Epoch 5/10\n",
            "2268/2268 [==============================] - 6s 3ms/step - loss: 6.7273e-05 - val_loss: 0.0011\n",
            "Epoch 6/10\n",
            "2268/2268 [==============================] - 6s 3ms/step - loss: 6.1343e-05 - val_loss: 0.0014\n",
            "Epoch 7/10\n",
            "2268/2268 [==============================] - 6s 3ms/step - loss: 5.6350e-05 - val_loss: 0.0014\n",
            "Epoch 8/10\n",
            "2268/2268 [==============================] - 6s 3ms/step - loss: 4.3822e-05 - val_loss: 0.0011\n",
            "Epoch 9/10\n",
            "2268/2268 [==============================] - 6s 3ms/step - loss: 4.2921e-05 - val_loss: 0.0014\n",
            "Epoch 10/10\n",
            "2268/2268 [==============================] - 6s 3ms/step - loss: 3.8482e-05 - val_loss: 0.0015\n"
          ],
          "name": "stdout"
        }
      ]
    },
    {
      "cell_type": "code",
      "metadata": {
        "colab": {
          "base_uri": "https://localhost:8080/",
          "height": 279
        },
        "id": "-C1SzkvdA-tQ",
        "outputId": "28c04299-4fcf-42cd-d181-9fecf1126233"
      },
      "source": [
        "\r\n",
        "\r\n",
        "def plot_loss(history):\r\n",
        "  plt.plot(history.history['loss'], label='loss')\r\n",
        "  plt.plot(history.history['val_loss'], label='val_loss')\r\n",
        "  plt.xlabel('Epoch')\r\n",
        "  plt.ylabel('Error')\r\n",
        "  plt.legend()\r\n",
        "  plt.grid(True)\r\n",
        "\r\n",
        "plot_loss(history)"
      ],
      "execution_count": 81,
      "outputs": [
        {
          "output_type": "display_data",
          "data": {
            "image/png": "[encoded data removed]",
            "text/plain": [
              "<Figure size 432x288 with 1 Axes>"
            ]
          },
          "metadata": {
            "tags": [],
            "needs_background": "light"
          }
        }
      ]
    },
    {
      "cell_type": "markdown",
      "metadata": {
        "id": "4-sNaAdYt9en"
      },
      "source": [
        "## Teste trainiertes Modell"
      ]
    },
    {
      "cell_type": "code",
      "metadata": {
        "colab": {
          "base_uri": "https://localhost:8080/"
        },
        "id": "DOrEnj_b0UhR",
        "outputId": "b0b2e8ce-1685-455f-bf5b-7315adbca8a7"
      },
      "source": [
        "testdatasize = 10000\r\n",
        "\r\n",
        "(testdata_in, testdata_out) = gen_data(testdatasize)\r\n",
        "\r\n",
        "print(testdata_in.shape)\r\n",
        "\r\n",
        "predictions = mymodel.predict(testdata_in)\r\n",
        "\r\n",
        "somedata = np.random.choice(predictions.shape[0], 5)\r\n",
        "\r\n",
        "for d in somedata:\r\n",
        "  print(predictions[d]*180/np.pi, testdata_out[d]*180/np.pi)\r\n",
        "\r\n",
        "tf.print(forward_kinematics(predictions[somedata]))\r\n",
        "\r\n",
        "tf.print(forward_kinematics(testdata_out[somedata]))\r\n",
        "\r\n",
        "error = mymodel.evaluate(testdata_in, testdata_out, verbose=1)\r\n",
        "print(np.sqrt(error))"
      ],
      "execution_count": 82,
      "outputs": [
        {
          "output_type": "stream",
          "text": [
            "(9442, 2)\n",
            "[-83.347374  14.384424] [-83.23284203  14.80527832]\n",
            "[-31.401402  42.890305] [-29.44293409  39.68810063]\n",
            "[-61.98447  88.67522] [-62.09758687  89.53676757]\n",
            "[-20.43985  39.16921] [-14.85706238  28.2220551 ]\n",
            "[-84.22891   74.060776] [-83.5566789   74.26544467]\n",
            "[[0.142446309 -0.577984571]\n",
            " [0.550050437 -0.0965557396]\n",
            " [0.408946455 -0.130093694]\n",
            " [0.565225601 -0.00843767822]\n",
            " [0.325454473 -0.351440728]]\n",
            "[[0.14565359850383472 -0.57689600671826269]\n",
            " [0.55647042527138746 -0.094108776257704418]\n",
            " [0.40664025409356686 -0.12688173827076002]\n",
            " [0.58184573903817638 -0.0075765043400146947]\n",
            " [0.32973021389229445 -0.34654085774684751]]\n",
            "296/296 [==============================] - 0s 1ms/step - loss: 8.2743e-04\n",
            "0.028765097004130873\n"
          ],
          "name": "stdout"
        }
      ]
    },
    {
      "cell_type": "markdown",
      "metadata": {
        "id": "Di_LHbu5yxPL"
      },
      "source": [
        "## Teste verschiedene Trajektorien"
      ]
    },
    {
      "cell_type": "code",
      "metadata": {
        "id": "VYwdmG6VCRhV",
        "colab": {
          "base_uri": "https://localhost:8080/",
          "height": 513
        },
        "outputId": "0ff4a8bb-ea04-4004-abde-3e356afe74e2"
      },
      "source": [
        "# Gerade\r\n",
        "\r\n",
        "xtest1 = np.linspace(0.4,0.5)\r\n",
        "ytest1 = (xtest1-0.4) -0.2\r\n",
        "\r\n",
        "# Parabel\r\n",
        "#xtest2 = np.linspace(1, 1.8)\r\n",
        "#ytest2 = -0.5*xtest2*xtest2 +2\r\n",
        "\r\n",
        "# Kreisbogen\r\n",
        "xtest3 = np.linspace(-0.05, 0.05)\r\n",
        "ytest3 = np.sqrt(0.05*0.05 - xtest3*xtest3)\r\n",
        "xtest3 = xtest3 + 0.5\r\n",
        "ytest3 = ytest3 \r\n",
        "\r\n",
        "\r\n",
        "def plot_trajectory(x, y):\r\n",
        "  plt.figure()\r\n",
        "  plt.plot(x,y, label='soll')\r\n",
        "  phipred = mymodel.predict(np.vstack((x, y)).T)\r\n",
        "\r\n",
        "  # Berechne x und y\r\n",
        "  xpred = l1 * np.cos(phipred[:,0]) + l2 * np.cos(phipred.sum(axis=1))\r\n",
        "  ypred = l1 * np.sin(phipred[:,0]) + l2 * np.sin(phipred.sum(axis=1))\r\n",
        "\r\n",
        "  pred = forward_kinematics(mymodel.predict(np.vstack((x, y)).T))\r\n",
        "\r\n",
        "  plt.plot(pred[:,0], pred[:,1], label='ist')\r\n",
        "  plt.grid(True)\r\n",
        "  plt.legend()\r\n",
        "\r\n",
        "\r\n",
        "plot_trajectory(xtest1, ytest1)\r\n",
        "\r\n",
        "#plot_trajectory(xtest2, ytest2)\r\n",
        "\r\n",
        "plot_trajectory(xtest3, ytest3)\r\n",
        "\r\n"
      ],
      "execution_count": 83,
      "outputs": [
        {
          "output_type": "display_data",
          "data": {
            "image/png": "[encoded data removed]",
            "text/plain": [
              "<Figure size 432x288 with 1 Axes>"
            ]
          },
          "metadata": {
            "tags": [],
            "needs_background": "light"
          }
        },
        {
          "output_type": "display_data",
          "data": {
            "image/png": "[encoded data removed]",
            "text/plain": [
              "<Figure size 432x288 with 1 Axes>"
            ]
          },
          "metadata": {
            "tags": [],
            "needs_background": "light"
          }
        }
      ]
    }
  ]
}