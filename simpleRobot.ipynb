{
  "nbformat": 4,
  "nbformat_minor": 0,
  "metadata": {
    "colab": {
      "name": "Untitled0.ipynb",
      "provenance": [],
      "collapsed_sections": [],
      "toc_visible": true,
      "authorship_tag": "ABX9TyMtrNq3xCgC7a0sD6hRzaoI",
      "include_colab_link": true
    },
    "kernelspec": {
      "name": "python3",
      "display_name": "Python 3"
    },
    "accelerator": "GPU"
  },
  "cells": [
    {
      "cell_type": "markdown",
      "metadata": {
        "id": "view-in-github",
        "colab_type": "text"
      },
      "source": [
        "<a href=\"https://colab.research.google.com/github/dnhshl/cc-ai/blob/main/simpleRobot.ipynb\" target=\"_parent\"><img src=\"https://colab.research.google.com/assets/colab-badge.svg\" alt=\"Open In Colab\"/></a>"
      ]
    },
    {
      "cell_type": "markdown",
      "metadata": {
        "id": "9boAgRMdmlVN"
      },
      "source": [
        "# simpleRobot\r\n",
        "Neuronales Netz zur Berechnung der inversen Kinematik eines (sehr einfachen) Roboters mit zwei Freiheitsgraden.\r\n",
        "\r\n",
        "Wir simulieren die Freiheitsgrade eines Armes, der sich im Schultergelenk und im Ellenbogengelenk drehen kann.\r\n",
        "\r\n"
      ]
    },
    {
      "cell_type": "markdown",
      "metadata": {
        "id": "SIzhfha3lF_f"
      },
      "source": [
        "## Lade notwendige Libraries\r\n"
      ]
    },
    {
      "cell_type": "code",
      "metadata": {
        "id": "7VG9_6c-mkKe"
      },
      "source": [
        "import numpy as np\r\n",
        "import tensorflow as tf\r\n",
        "from tensorflow import keras\r\n",
        "from keras import layers\r\n",
        "from keras import optimizers\r\n",
        "from keras import losses\r\n",
        "import matplotlib.pyplot as plt\r\n",
        "\r\n",
        "import tensorflow.keras.backend as kb\r\n"
      ],
      "execution_count": 12,
      "outputs": []
    },
    {
      "cell_type": "markdown",
      "metadata": {
        "id": "tjCih-kdsqgV"
      },
      "source": [
        "# Daten\r\n",
        "\r\n",
        "Generiere Trainingsdaten. Das ist hier sehr einfach, da bei bekannten Winkeln `q1` und `q2` die `x` und `y` Position berechnet werden kann. \r\n",
        "\r\n",
        "Der Oberarm kann im Schultergelenk ca. um einen Winkel `q1` zwischen -110 .. 20 Grad  und `q2` im Ellenbogengelenk zwischen 0 .. 90 Grad bewegt werden. Der Einfachheit halber nehmen wir weiterhin an, dass die Oberarmlänge `l1 = 30 cm` und die Unterarmlänge `l2 = 30 cm` sind."
      ]
    },
    {
      "cell_type": "code",
      "metadata": {
        "colab": {
          "base_uri": "https://localhost:8080/"
        },
        "id": "_wcxMqGdglzc",
        "outputId": "19510830-07f7-4dde-9fd6-87f68b94adb0"
      },
      "source": [
        "a = np.array([1,2,3]) # Zeilenvektor a\r\n",
        "b = np.array([4,5,6]) # Zeilenvektor b\r\n",
        "\r\n",
        "M = np.vstack((a, b)) # Zusammenfassen als 2x3 Matrix\r\n",
        "\r\n",
        "M = M.T # Transponieren -> 3x2 Matrix\r\n",
        "\r\n",
        "print(a, b)\r\n",
        "\r\n",
        "print(M)\r\n",
        "\r\n",
        "sum_a_b = M.sum(axis=1) # Summe der Spaltenvektoren\r\n",
        "print(sum_a_b)"
      ],
      "execution_count": 2,
      "outputs": [
        {
          "output_type": "stream",
          "text": [
            "[1 2 3] [4 5 6]\n",
            "[[1 4]\n",
            " [2 5]\n",
            " [3 6]]\n",
            "[5 7 9]\n"
          ],
          "name": "stdout"
        }
      ]
    },
    {
      "cell_type": "markdown",
      "metadata": {
        "id": "zM-xrVochQw3"
      },
      "source": [
        "## Vorab: Vektoren und Matrizen in numpy\r\n",
        "\r\n"
      ]
    },
    {
      "cell_type": "markdown",
      "metadata": {
        "id": "RB-L_gMxqx6D"
      },
      "source": [
        "## Hilfsfunktion zur Berechnung der Vorwärts-Kinematik"
      ]
    },
    {
      "cell_type": "code",
      "metadata": {
        "id": "b8QFXDit65h4"
      },
      "source": [
        "def forward_kinematics(q):\r\n",
        "\r\n",
        "  x = l1*tf.cos(q[:,0]) +l2*tf.cos(tf.reduce_sum(q,1))\r\n",
        "  y = l1*tf.sin(q[:,0]) +l2*tf.sin(tf.reduce_sum(q,1))\r\n",
        "  return tf.stack((x, y), axis=1)\r\n"
      ],
      "execution_count": 3,
      "outputs": []
    },
    {
      "cell_type": "markdown",
      "metadata": {
        "id": "QGSqHT2jhu6L"
      },
      "source": [
        "## OK, jetzt also die Trainingsdaten"
      ]
    },
    {
      "cell_type": "code",
      "metadata": {
        "id": "iIbpicffnf5m",
        "colab": {
          "base_uri": "https://localhost:8080/"
        },
        "outputId": "a167c137-3606-47b2-a6e2-589ee6a0d6dc"
      },
      "source": [
        "l1 = 0.3  # Länge des ersten Roboterarms\r\n",
        "l2 = 0.3  # Länge des zweiten Roboterarms\r\n",
        "\r\n",
        "traindatasize = 1000000 # Wie viele Traingsdaten sollen generiert werden?\r\n",
        "\r\n",
        "\r\n",
        "def gen_data(size):\r\n",
        "\r\n",
        "  # q1 im Bereich von -110 .. 20 Grad \r\n",
        "  q1 = (np.random.random_sample(size) * 130 - 110) / 180 * np.pi\r\n",
        "\r\n",
        "  # q2 im Bereich von 0 .. 90 Grad \r\n",
        "  q2 = (np.random.random_sample(size) * 90) / 180 * np.pi\r\n",
        "\r\n",
        "  # Kombiniere Vektoren als Matrix\r\n",
        "  #dout = tf.stack((q1, q2))\r\n",
        "  dout = np.vstack([q1,q2]).T\r\n",
        "\r\n",
        "  # Berechne x und y\r\n",
        "  din = forward_kinematics(dout)\r\n",
        "  # forward_kinematics gibt einen tf Tensor zurück, wir rechnen\r\n",
        "  # hier aber mit numpy arrays. Daher wieder zurückwandeln\r\n",
        "  din = din.numpy()\r\n",
        "\r\n",
        "  # Entferne nahe beieinander liegende Datenpunkte\r\n",
        "  _, unique = np.unique(din.round(decimals=3), return_index=True, axis=0) \r\n",
        "\r\n",
        "  return (din[unique], dout[unique])\r\n",
        "\r\n",
        "\r\n",
        "\r\n",
        "(din, dout) = gen_data(traindatasize)\r\n",
        "\r\n",
        "# Da einige Datenpunkte entfernt wurden: Wieviele Trainingsdaten haben wir?\r\n",
        "\r\n",
        "print(din.shape)\r\n",
        "\r\n",
        "# Wir geben ein paar der Trainingsdaten aus\r\n",
        "\r\n",
        "somedata = np.random.choice(dout.shape[0], 5)\r\n",
        "\r\n",
        "print(dout[somedata]*180/np.pi)\r\n",
        "print(din[somedata])\r\n",
        "\r\n",
        "\r\n",
        "\r\n"
      ],
      "execution_count": 72,
      "outputs": [
        {
          "output_type": "stream",
          "text": [
            "(200555, 2)\n",
            "[[-108.10008448   84.8247497 ]\n",
            " [ -11.12914678   85.62660805]\n",
            " [ -18.17724293   61.31763735]\n",
            " [-108.17876698   62.64482329]\n",
            " [ -68.1483974    23.12828732]]\n",
            "[[ 0.18238162 -0.40369961]\n",
            " [ 0.3745427   0.23117924]\n",
            " [ 0.50393292  0.11154924]\n",
            " [ 0.11655112 -0.49912599]\n",
            " [ 0.32371874 -0.49065177]]\n"
          ],
          "name": "stdout"
        }
      ]
    },
    {
      "cell_type": "markdown",
      "metadata": {
        "id": "kRzODsqJmVyB"
      },
      "source": [
        "## Welcher Bereich `(x, y)` kann vom Roboter erreicht werden?"
      ]
    },
    {
      "cell_type": "code",
      "metadata": {
        "colab": {
          "base_uri": "https://localhost:8080/",
          "height": 279
        },
        "id": "HSJjIKamvhV1",
        "outputId": "18c5469a-4610-43ca-e132-862c77122e1c"
      },
      "source": [
        "\r\n",
        "def plot_range():\r\n",
        "  plt.scatter(din[:,0], din[:,1])\r\n",
        "  plt.xlabel('x')\r\n",
        "  plt.ylabel('y')\r\n",
        "  #plt.xlim(0,2.5)\r\n",
        "  plt.grid(True)\r\n",
        "  plt.gca().set_aspect(\"equal\")\r\n",
        "\r\n",
        "\r\n",
        "plot_range()"
      ],
      "execution_count": 58,
      "outputs": [
        {
          "output_type": "display_data",
          "data": {
            "image/png": "[encoded data removed]",
            "text/plain": [
              "<Figure size 432x288 with 1 Axes>"
            ]
          },
          "metadata": {
            "tags": [],
            "needs_background": "light"
          }
        }
      ]
    },
    {
      "cell_type": "markdown",
      "metadata": {
        "id": "KcBfGA3EkHrY"
      },
      "source": [
        "# NN\r\n",
        "\r\n",
        "Zwei Fully Connected Layer, der erste Layer mit Aktivierungsfunktion.\r\n",
        "\r\n",
        "Als Fehlerfunktion wird der quadratische Fehler genutzt. Sie können auch [andere Loss Functions](https://keras.io/api/losses/) ausprobieren.\r\n",
        "\r\n",
        "Testen Sie auch verschiedene [Optimizer](https://keras.io/api/optimizers/) ."
      ]
    },
    {
      "cell_type": "markdown",
      "metadata": {
        "id": "wGXx8H8NsP8T"
      },
      "source": [
        "## Netzwerkmodell"
      ]
    },
    {
      "cell_type": "code",
      "metadata": {
        "id": "58mIV_DGsTl1"
      },
      "source": [
        "# Netzwerkparameter\r\n",
        "\r\n",
        "layer1size = 30\r\n",
        "layer2size = 20\r\n",
        "\r\n"
      ],
      "execution_count": 73,
      "outputs": []
    },
    {
      "cell_type": "code",
      "metadata": {
        "id": "djBRYYG_1sS8",
        "outputId": "1c246387-d4ab-4dcd-e936-1258faf1128f",
        "colab": {
          "base_uri": "https://localhost:8080/"
        }
      },
      "source": [
        "mymodel = keras.Sequential([\r\n",
        "      layers.Dense(layer1size, input_shape=[2,], activation='tanh'), ## Input Layer\r\n",
        "      layers.Dense(layer2size, activation='tanh'),\r\n",
        "      layers.Dense(2)     ## output\r\n",
        "  ])\r\n",
        "\r\n",
        "mymodel.summary()"
      ],
      "execution_count": 89,
      "outputs": [
        {
          "output_type": "stream",
          "text": [
            "Model: \"sequential_7\"\n",
            "_________________________________________________________________\n",
            "Layer (type)                 Output Shape              Param #   \n",
            "=================================================================\n",
            "dense_21 (Dense)             (None, 30)                90        \n",
            "_________________________________________________________________\n",
            "dense_22 (Dense)             (None, 20)                620       \n",
            "_________________________________________________________________\n",
            "dense_23 (Dense)             (None, 2)                 42        \n",
            "=================================================================\n",
            "Total params: 752\n",
            "Trainable params: 752\n",
            "Non-trainable params: 0\n",
            "_________________________________________________________________\n"
          ],
          "name": "stdout"
        }
      ]
    },
    {
      "cell_type": "markdown",
      "metadata": {
        "id": "bpAt8hAtymSJ"
      },
      "source": [
        "## Alternative eigendefinierte Loss Funktionen"
      ]
    },
    {
      "cell_type": "code",
      "metadata": {
        "id": "pvQRVk_nPoW4"
      },
      "source": [
        "def myloss1(y_true,y_pred):\r\n",
        "\r\n",
        "  in_true = forward_kinematics(y_true)\r\n",
        "  in_pred = forward_kinematics(y_pred)\r\n",
        "\r\n",
        "  return kb.mean(kb.square(in_true - in_pred))\r\n",
        "\r\n",
        "def myloss2(y_true,y_pred):\r\n",
        "\r\n",
        "  in_true = forward_kinematics(y_true)\r\n",
        "  in_pred = forward_kinematics(y_pred)\r\n",
        "\r\n",
        "  return kb.mean(kb.square(in_true - in_pred) + 0.01* kb.square(y_true - y_pred))\r\n"
      ],
      "execution_count": 88,
      "outputs": []
    },
    {
      "cell_type": "markdown",
      "metadata": {
        "id": "PGUAL1Ve2Xav"
      },
      "source": [
        "## Trainingsparameter"
      ]
    },
    {
      "cell_type": "code",
      "metadata": {
        "id": "ubfJespI2jr7"
      },
      "source": [
        "# Trainingsparameter\r\n",
        "\r\n",
        "learning_rate = 0.01\r\n",
        "batch_size = 50\r\n",
        "epochs = 10\r\n",
        "#myloss = losses.mean_squared_error\r\n",
        "myloss = myloss2\r\n",
        "myoptimizer = optimizers.Adam  #\r\n"
      ],
      "execution_count": 90,
      "outputs": []
    },
    {
      "cell_type": "code",
      "metadata": {
        "id": "s71a_8OZ3CZI"
      },
      "source": [
        " mymodel.compile(loss=myloss,\r\n",
        "                optimizer=myoptimizer(learning_rate=learning_rate))"
      ],
      "execution_count": 91,
      "outputs": []
    },
    {
      "cell_type": "markdown",
      "metadata": {
        "id": "edNkRU_JtHHG"
      },
      "source": [
        "## Konstruiere NN"
      ]
    },
    {
      "cell_type": "code",
      "metadata": {
        "id": "2aiSNRJGkbEF"
      },
      "source": [
        "def build_and_compile_model():\r\n",
        "  model = keras.Sequential([\r\n",
        "      layers.Dense(layer1size, input_shape=[2,], activation='tanh', kernel_initializer='he_uniform'),\r\n",
        "      layers.Dense(layer2size, activation='tanh',  kernel_initializer='he_uniform'),\r\n",
        "      #layers.Dense(layer2size, activation='relu',  kernel_initializer='he_uniform'),\r\n",
        "      layers.Dense(2, kernel_initializer='he_uniform')     ## output\r\n",
        "  ])\r\n",
        "\r\n",
        "  model.compile(loss=myloss,\r\n",
        "                optimizer=myoptimizer(learning_rate=0.01))\r\n",
        "  return model"
      ],
      "execution_count": 15,
      "outputs": []
    },
    {
      "cell_type": "code",
      "metadata": {
        "colab": {
          "base_uri": "https://localhost:8080/"
        },
        "id": "4eCN_8bjuzwX",
        "outputId": "6cb984e7-3f03-4d0d-99bf-ed57124f5c7f"
      },
      "source": [
        "mymodel = build_and_compile_model()\r\n",
        "mymodel.summary()\r\n"
      ],
      "execution_count": 16,
      "outputs": [
        {
          "output_type": "stream",
          "text": [
            "Model: \"sequential\"\n",
            "_________________________________________________________________\n",
            "Layer (type)                 Output Shape              Param #   \n",
            "=================================================================\n",
            "dense (Dense)                (None, 30)                90        \n",
            "_________________________________________________________________\n",
            "dense_1 (Dense)              (None, 20)                620       \n",
            "_________________________________________________________________\n",
            "dense_2 (Dense)              (None, 2)                 42        \n",
            "=================================================================\n",
            "Total params: 752\n",
            "Trainable params: 752\n",
            "Non-trainable params: 0\n",
            "_________________________________________________________________\n"
          ],
          "name": "stdout"
        }
      ]
    },
    {
      "cell_type": "markdown",
      "metadata": {
        "id": "eEdRTD2RnArc"
      },
      "source": [
        "## Trainiere Modell\r\n",
        "\r\n",
        "Nutze 20% der Testdaten als Validierungsdatensatz"
      ]
    },
    {
      "cell_type": "code",
      "metadata": {
        "colab": {
          "base_uri": "https://localhost:8080/"
        },
        "id": "iKwfxq5HyCrt",
        "outputId": "a87b4e97-d362-4480-dc4a-1a256eb85f70"
      },
      "source": [
        "history = mymodel.fit(din, dout,\r\n",
        "          batch_size=batch_size, epochs=epochs,\r\n",
        "          validation_split = 0.2)"
      ],
      "execution_count": 92,
      "outputs": [
        {
          "output_type": "stream",
          "text": [
            "Epoch 1/10\n",
            "3209/3209 [==============================] - 9s 3ms/step - loss: 0.0023 - val_loss: 5.9840e-04\n",
            "Epoch 2/10\n",
            "3209/3209 [==============================] - 8s 3ms/step - loss: 5.2253e-05 - val_loss: 4.5117e-04\n",
            "Epoch 3/10\n",
            "3209/3209 [==============================] - 8s 3ms/step - loss: 2.6986e-05 - val_loss: 4.7893e-04\n",
            "Epoch 4/10\n",
            "3209/3209 [==============================] - 8s 3ms/step - loss: 2.4983e-05 - val_loss: 4.4602e-04\n",
            "Epoch 5/10\n",
            "3209/3209 [==============================] - 8s 3ms/step - loss: 2.4792e-05 - val_loss: 4.9040e-04\n",
            "Epoch 6/10\n",
            "3209/3209 [==============================] - 8s 2ms/step - loss: 2.9200e-05 - val_loss: 4.6155e-04\n",
            "Epoch 7/10\n",
            "3209/3209 [==============================] - 8s 2ms/step - loss: 1.7053e-05 - val_loss: 4.0547e-04\n",
            "Epoch 8/10\n",
            "3209/3209 [==============================] - 8s 3ms/step - loss: 1.9536e-05 - val_loss: 4.2515e-04\n",
            "Epoch 9/10\n",
            "3209/3209 [==============================] - 8s 3ms/step - loss: 1.4652e-05 - val_loss: 3.9982e-04\n",
            "Epoch 10/10\n",
            "3209/3209 [==============================] - 8s 3ms/step - loss: 1.7980e-05 - val_loss: 3.6210e-04\n"
          ],
          "name": "stdout"
        }
      ]
    },
    {
      "cell_type": "code",
      "metadata": {
        "colab": {
          "base_uri": "https://localhost:8080/",
          "height": 279
        },
        "id": "-C1SzkvdA-tQ",
        "outputId": "d3923893-50e2-48cb-fb34-6ce4ecef31e7"
      },
      "source": [
        "\r\n",
        "\r\n",
        "def plot_loss(history):\r\n",
        "  plt.plot(history.history['loss'], label='loss')\r\n",
        "  plt.plot(history.history['val_loss'], label='val_loss')\r\n",
        "  plt.xlabel('Epoch')\r\n",
        "  plt.ylabel('Error')\r\n",
        "  plt.legend()\r\n",
        "  plt.grid(True)\r\n",
        "\r\n",
        "plot_loss(history)"
      ],
      "execution_count": 93,
      "outputs": [
        {
          "output_type": "display_data",
          "data": {
            "image/png": "[encoded data removed]",
            "text/plain": [
              "<Figure size 432x288 with 1 Axes>"
            ]
          },
          "metadata": {
            "tags": [],
            "needs_background": "light"
          }
        }
      ]
    },
    {
      "cell_type": "markdown",
      "metadata": {
        "id": "4-sNaAdYt9en"
      },
      "source": [
        "## Teste trainiertes Modell"
      ]
    },
    {
      "cell_type": "code",
      "metadata": {
        "colab": {
          "base_uri": "https://localhost:8080/"
        },
        "id": "DOrEnj_b0UhR",
        "outputId": "e057cea1-ce1d-4afc-e7a8-88c7f0eb6dd7"
      },
      "source": [
        "testdatasize = 10000\r\n",
        "\r\n",
        "(testdata_in, testdata_out) = gen_data(testdatasize)\r\n",
        "\r\n",
        "print(testdata_in.shape)\r\n",
        "\r\n",
        "predictions = mymodel.predict(testdata_in)\r\n",
        "\r\n",
        "somedata = np.random.choice(predictions.shape[0], 5)\r\n",
        "\r\n",
        "for d in somedata:\r\n",
        "  print(predictions[d]*180/np.pi, testdata_out[d]*180/np.pi)\r\n",
        "\r\n",
        "tf.print(forward_kinematics(predictions[somedata]))\r\n",
        "\r\n",
        "tf.print(forward_kinematics(testdata_out[somedata]))\r\n",
        "\r\n",
        "error = mymodel.evaluate(testdata_in, testdata_out, verbose=0)\r\n",
        "print(error)"
      ],
      "execution_count": 94,
      "outputs": [
        {
          "output_type": "stream",
          "text": [
            "(9589, 2)\n",
            "[-28.732878  60.87466 ] [-27.98332242  60.20401409]\n",
            "[-69.49963   30.530298] [-69.58430334  30.81905819]\n",
            "[-20.743149  45.989178] [-13.79095795  33.45136219]\n",
            "[10.990316 34.232834] [11.62879188 32.71267542]\n",
            "[-45.75047  69.77903] [-45.50486525  69.94766187]\n",
            "[[0.51708138 0.0153868496]\n",
            " [0.338308841 -0.469672322]\n",
            " [0.551898718 0.0216980577]\n",
            " [0.505802095 0.270149559]\n",
            " [0.483338177 -0.0927347317]]\n",
            "[[0.51872546334048641 0.019190189364899357]\n",
            " [0.3385640164975009 -0.46899522603519339]\n",
            " [0.57386255705867883 0.0294193060043499]\n",
            " [0.50839834687813479 0.27015096710982933]\n",
            " [0.48336706144345831 -0.089857626520828626]]\n",
            "0.00020614505046978593\n"
          ],
          "name": "stdout"
        }
      ]
    },
    {
      "cell_type": "markdown",
      "metadata": {
        "id": "Di_LHbu5yxPL"
      },
      "source": [
        "## Teste verschiedene Trajektorien"
      ]
    },
    {
      "cell_type": "code",
      "metadata": {
        "id": "VYwdmG6VCRhV",
        "colab": {
          "base_uri": "https://localhost:8080/",
          "height": 513
        },
        "outputId": "dd5cd09d-a4ee-4576-8eb6-7d87202aaf65"
      },
      "source": [
        "# Gerade\r\n",
        "\r\n",
        "xtest1 = np.linspace(0.4,0.5)\r\n",
        "ytest1 = (xtest1-0.4) -0.2\r\n",
        "\r\n",
        "# Kreisbogen\r\n",
        "xtest2 = np.linspace(-0.05, 0.05)\r\n",
        "ytest2 = np.sqrt(0.05*0.05 - xtest2*xtest2)\r\n",
        "xtest2 = xtest2 + 0.5\r\n",
        "ytest2 = ytest2 \r\n",
        "\r\n",
        "\r\n",
        "def plot_trajectory(x, y):\r\n",
        "  plt.figure()\r\n",
        "  plt.plot(x,y, label='soll')\r\n",
        "  phipred = mymodel.predict(np.vstack((x, y)).T)\r\n",
        "\r\n",
        "  # Berechne x und y\r\n",
        "  xpred = l1 * np.cos(phipred[:,0]) + l2 * np.cos(phipred.sum(axis=1))\r\n",
        "  ypred = l1 * np.sin(phipred[:,0]) + l2 * np.sin(phipred.sum(axis=1))\r\n",
        "\r\n",
        "  pred = forward_kinematics(mymodel.predict(np.vstack((x, y)).T))\r\n",
        "\r\n",
        "  plt.plot(pred[:,0], pred[:,1], label='ist')\r\n",
        "  plt.grid(True)\r\n",
        "  plt.legend()\r\n",
        "\r\n",
        "\r\n",
        "plot_trajectory(xtest1, ytest1)\r\n",
        "\r\n",
        "#plot_trajectory(xtest2, ytest2)\r\n",
        "\r\n",
        "plot_trajectory(xtest3, ytest3)\r\n",
        "\r\n"
      ],
      "execution_count": 95,
      "outputs": [
        {
          "output_type": "display_data",
          "data": {
            "image/png": "[encoded data removed]",
            "text/plain": [
              "<Figure size 432x288 with 1 Axes>"
            ]
          },
          "metadata": {
            "tags": [],
            "needs_background": "light"
          }
        },
        {
          "output_type": "display_data",
          "data": {
            "image/png": "[encoded data removed]",
            "text/plain": [
              "<Figure size 432x288 with 1 Axes>"
            ]
          },
          "metadata": {
            "tags": [],
            "needs_background": "light"
          }
        }
      ]
    }
  ]
}