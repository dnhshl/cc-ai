{
  "nbformat": 4,
  "nbformat_minor": 0,
  "metadata": {
    "colab": {
      "name": "Untitled0.ipynb",
      "provenance": [],
      "collapsed_sections": [],
      "authorship_tag": "ABX9TyMC/4mzWC52xwaT9WuEI18i",
      "include_colab_link": true
    },
    "kernelspec": {
      "name": "python3",
      "display_name": "Python 3"
    }
  },
  "cells": [
    {
      "cell_type": "markdown",
      "metadata": {
        "id": "view-in-github",
        "colab_type": "text"
      },
      "source": [
        "<a href=\"https://colab.research.google.com/github/dnhshl/cc-ai/blob/main/simpleRobot.ipynb\" target=\"_parent\"><img src=\"https://colab.research.google.com/assets/colab-badge.svg\" alt=\"Open In Colab\"/></a>"
      ]
    },
    {
      "cell_type": "markdown",
      "metadata": {
        "id": "9boAgRMdmlVN"
      },
      "source": [
        "# simpleRobot\r\n",
        "Neuronales Netz zur Berechnung der inversen Kinematik eines (sehr einfachen) Roboters mit zwei Freiheitsgraden.\r\n",
        "\r\n",
        "\r\n",
        "\r\n"
      ]
    },
    {
      "cell_type": "code",
      "metadata": {
        "id": "7VG9_6c-mkKe"
      },
      "source": [
        "import numpy as np\r\n",
        "import tensorflow as tf\r\n",
        "from tensorflow import keras\r\n",
        "from keras import layers\r\n",
        "from keras import optimizers\r\n",
        "import matplotlib.pyplot as plt\r\n"
      ],
      "execution_count": 55,
      "outputs": []
    },
    {
      "cell_type": "markdown",
      "metadata": {
        "id": "tjCih-kdsqgV"
      },
      "source": [
        "# Daten\r\n",
        "\r\n",
        "Generiere Trainingsdaten. Das ist hier sehr einfach, da bei bekannten Winkeln `phi1` und `phi2` die `x` und `y` Position berechnet werden kann. \r\n",
        "\r\n",
        "Der Einfachheit halber (um auszuschließen, dass gleiche Positionen mit unterschiedlichen Winkelstellungen angefahren werden können) wird `phi1` auf 0 .. 90 Grad und `phi2` auf -90 .. 90 Grad eingeschränkt."
      ]
    },
    {
      "cell_type": "markdown",
      "metadata": {
        "id": "zM-xrVochQw3"
      },
      "source": [
        "## Vorab: Vektoren und Matrizen in numpy"
      ]
    },
    {
      "cell_type": "code",
      "metadata": {
        "colab": {
          "base_uri": "https://localhost:8080/"
        },
        "id": "_wcxMqGdglzc",
        "outputId": "2c6ac717-7f86-4df6-d80d-0c409b424e63"
      },
      "source": [
        "a = np.array([1,2,3]) # Zeilenvektor a\r\n",
        "b = np.array([4,5,6]) # Zeilenvektor b\r\n",
        "\r\n",
        "M = np.vstack((a, b)) # Zusammenfassen als 2x3 Matrix\r\n",
        "\r\n",
        "M = M.T # Transponieren -> 3x2 Matrix\r\n",
        "\r\n",
        "print(a, b)\r\n",
        "print(M)\r\n",
        "\r\n",
        "sum_a_b = M.sum(axis=1) # Summe der Spaltenvektoren\r\n",
        "print(sum_a_b)"
      ],
      "execution_count": 10,
      "outputs": [
        {
          "output_type": "stream",
          "text": [
            "[1 2 3] [4 5 6]\n",
            "[[1 4]\n",
            " [2 5]\n",
            " [3 6]]\n",
            "[5 7 9]\n"
          ],
          "name": "stdout"
        }
      ]
    },
    {
      "cell_type": "markdown",
      "metadata": {
        "id": "QGSqHT2jhu6L"
      },
      "source": [
        "## OK, jetzt also die Trainingsdaten"
      ]
    },
    {
      "cell_type": "code",
      "metadata": {
        "id": "iIbpicffnf5m",
        "colab": {
          "base_uri": "https://localhost:8080/"
        },
        "outputId": "0ec6e251-736c-4e68-88b0-671eebf1211c"
      },
      "source": [
        "l1 = 1  # Länge des ersten Roboterarms\r\n",
        "l2 = 1  # Länge des zweiten Roboterarms\r\n",
        "\r\n",
        "\r\n",
        "traindatasize = 200000 # Wie viele Traingsdaten sollen generiert werden?\r\n",
        "\r\n",
        "# phi1 im Bereich von 0 .. 90 Grad \r\n",
        "phi1train = np.random.random_sample(traindatasize) * np.pi/2 \r\n",
        "\r\n",
        "# phi2 im Bereich von 0 .. -90 Grad \r\n",
        "phi2train = -np.random.random_sample(traindatasize) * np.pi/2\r\n",
        "\r\n",
        "# Kombiniere Vektoren als Matrix\r\n",
        "dout = np.vstack((phi1train, phi2train)).T\r\n",
        "\r\n",
        "# Berechne x und y\r\n",
        "din = np.array([l1 * np.cos(dout[:,0]) + l2 * np.cos(dout.sum(axis=1)), \r\n",
        "                l1 * np.sin(dout[:,0]) + l2 * np.sin(dout.sum(axis=1))]).T \r\n",
        "\r\n",
        "print(dout[:4])\r\n",
        "print(din[:4])\r\n",
        "\r\n",
        "\r\n"
      ],
      "execution_count": 91,
      "outputs": [
        {
          "output_type": "stream",
          "text": [
            "[[ 1.18585938 -1.48153393]\n",
            " [ 1.11847372 -1.13638772]\n",
            " [ 0.72282645 -0.18451364]\n",
            " [ 1.19231043 -1.0006454 ]]\n",
            "[[1.3321065  0.63543692]\n",
            " [1.43689529 0.88152138]\n",
            " [1.60851391 1.17419512]\n",
            " [1.35120237 1.11971889]]\n"
          ],
          "name": "stdout"
        }
      ]
    },
    {
      "cell_type": "code",
      "metadata": {
        "colab": {
          "base_uri": "https://localhost:8080/",
          "height": 296
        },
        "id": "HSJjIKamvhV1",
        "outputId": "caaf63ad-3959-42a8-8aa2-6d0c4a0660e2"
      },
      "source": [
        "xt = np.linspace(1, 1.8)\r\n",
        "yt = -0.5*xt*xt +2\r\n",
        "\r\n",
        "\r\n",
        "def plot_range():\r\n",
        "  plt.scatter(din[:100,0], din[:100,1])\r\n",
        "  plt.xlabel('x')\r\n",
        "  plt.ylabel('y')\r\n",
        "  plt.legend()\r\n",
        "  plt.grid(True)\r\n",
        "  plt.gca().set_aspect(\"equal\")\r\n",
        "\r\n",
        "  plt.plot(xt, yt)\r\n",
        "\r\n",
        "plot_range()"
      ],
      "execution_count": 98,
      "outputs": [
        {
          "output_type": "stream",
          "text": [
            "No handles with labels found to put in legend.\n"
          ],
          "name": "stderr"
        },
        {
          "output_type": "display_data",
          "data": {
            "image/png": "[encoded data removed]",
            "text/plain": [
              "<Figure size 432x288 with 1 Axes>"
            ]
          },
          "metadata": {
            "tags": [],
            "needs_background": "light"
          }
        }
      ]
    },
    {
      "cell_type": "markdown",
      "metadata": {
        "id": "KcBfGA3EkHrY"
      },
      "source": [
        "# Konstruiere NN\r\n",
        "\r\n",
        "Zwei Fully Connected Layer, der erste Layer mit Aktivierungsfunktion.\r\n",
        "\r\n",
        "Als Fehlerfunktion wird der quadratische Fehler genutzt. Als Optimierungsfunktion stochastischer Gradientenabstieg."
      ]
    },
    {
      "cell_type": "code",
      "metadata": {
        "id": "2aiSNRJGkbEF"
      },
      "source": [
        "def build_and_compile_model():\r\n",
        "  model = keras.Sequential([\r\n",
        "      layers.Dense(100, input_shape=[2,], activation='tanh'),\r\n",
        "      layers.Dense(100, activation='tanh'),\r\n",
        "      layers.Dense(2)     ## output\r\n",
        "  ])\r\n",
        "\r\n",
        "  model.compile(loss='mean_squared_error',\r\n",
        "                optimizer=optimizers.SGD(learning_rate=0.01))\r\n",
        "  return model"
      ],
      "execution_count": 64,
      "outputs": []
    },
    {
      "cell_type": "code",
      "metadata": {
        "colab": {
          "base_uri": "https://localhost:8080/"
        },
        "id": "4eCN_8bjuzwX",
        "outputId": "c2cb8b35-e7fb-47bb-f0c5-34f68f775884"
      },
      "source": [
        "mymodel = build_and_compile_model()\r\n",
        "mymodel.summary()\r\n"
      ],
      "execution_count": 92,
      "outputs": [
        {
          "output_type": "stream",
          "text": [
            "Model: \"sequential_11\"\n",
            "_________________________________________________________________\n",
            "Layer (type)                 Output Shape              Param #   \n",
            "=================================================================\n",
            "dense_33 (Dense)             (None, 100)               300       \n",
            "_________________________________________________________________\n",
            "dense_34 (Dense)             (None, 100)               10100     \n",
            "_________________________________________________________________\n",
            "dense_35 (Dense)             (None, 2)                 202       \n",
            "=================================================================\n",
            "Total params: 10,602\n",
            "Trainable params: 10,602\n",
            "Non-trainable params: 0\n",
            "_________________________________________________________________\n"
          ],
          "name": "stdout"
        }
      ]
    },
    {
      "cell_type": "markdown",
      "metadata": {
        "id": "GVz4ekGxmg8n"
      },
      "source": [
        "## Welche Vorhersage liefert das untrainierte Modell?"
      ]
    },
    {
      "cell_type": "code",
      "metadata": {
        "colab": {
          "base_uri": "https://localhost:8080/"
        },
        "id": "iNvdZBUgw7Q9",
        "outputId": "ed5773e5-9757-412d-a085-4559136b4202"
      },
      "source": [
        "\r\n",
        "predicted = mymodel.predict(din[:5])\r\n",
        "print(predicted)\r\n",
        "print(dout[:5])"
      ],
      "execution_count": 40,
      "outputs": [
        {
          "output_type": "stream",
          "text": [
            "[[-0.20692246 -0.43047446]\n",
            " [-0.27782518 -0.43620056]\n",
            " [-0.18686733 -0.35769653]\n",
            " [-0.24229693 -0.4443589 ]\n",
            " [-0.23147933 -0.16889742]]\n",
            "[[ 0.3430418   0.8998665 ]\n",
            " [ 1.10182333  0.59959618]\n",
            " [ 1.41400316 -1.3849327 ]\n",
            " [ 1.42996553 -0.69131346]\n",
            " [ 0.10173351 -1.2245569 ]]\n"
          ],
          "name": "stdout"
        }
      ]
    },
    {
      "cell_type": "markdown",
      "metadata": {
        "id": "eEdRTD2RnArc"
      },
      "source": [
        "## Trainiere Modell\r\n",
        "\r\n",
        "Nutze 20% der Testdaten als Validierungsdatensatz"
      ]
    },
    {
      "cell_type": "code",
      "metadata": {
        "colab": {
          "base_uri": "https://localhost:8080/"
        },
        "id": "iKwfxq5HyCrt",
        "outputId": "9bc44d84-bb15-46f9-d1a3-e106ec94af68"
      },
      "source": [
        "history = mymodel.fit(din, dout,\r\n",
        "          batch_size=32, epochs=10,\r\n",
        "          validation_split = 0.2)"
      ],
      "execution_count": 93,
      "outputs": [
        {
          "output_type": "stream",
          "text": [
            "Epoch 1/10\n",
            "5000/5000 [==============================] - 6s 1ms/step - loss: 0.0906 - val_loss: 0.0227\n",
            "Epoch 2/10\n",
            "5000/5000 [==============================] - 6s 1ms/step - loss: 0.0182 - val_loss: 0.0096\n",
            "Epoch 3/10\n",
            "5000/5000 [==============================] - 6s 1ms/step - loss: 0.0089 - val_loss: 0.0078\n",
            "Epoch 4/10\n",
            "5000/5000 [==============================] - 6s 1ms/step - loss: 0.0078 - val_loss: 0.0075\n",
            "Epoch 5/10\n",
            "5000/5000 [==============================] - 6s 1ms/step - loss: 0.0073 - val_loss: 0.0070\n",
            "Epoch 6/10\n",
            "5000/5000 [==============================] - 6s 1ms/step - loss: 0.0070 - val_loss: 0.0067\n",
            "Epoch 7/10\n",
            "5000/5000 [==============================] - 6s 1ms/step - loss: 0.0067 - val_loss: 0.0065\n",
            "Epoch 8/10\n",
            "5000/5000 [==============================] - 6s 1ms/step - loss: 0.0065 - val_loss: 0.0065\n",
            "Epoch 9/10\n",
            "5000/5000 [==============================] - 6s 1ms/step - loss: 0.0064 - val_loss: 0.0063\n",
            "Epoch 10/10\n",
            "5000/5000 [==============================] - 6s 1ms/step - loss: 0.0063 - val_loss: 0.0062\n"
          ],
          "name": "stdout"
        }
      ]
    },
    {
      "cell_type": "code",
      "metadata": {
        "colab": {
          "base_uri": "https://localhost:8080/",
          "height": 279
        },
        "id": "-C1SzkvdA-tQ",
        "outputId": "1b64c9c6-3c08-4978-dcde-0e0ed9c5bc58"
      },
      "source": [
        "\r\n",
        "\r\n",
        "def plot_loss(history):\r\n",
        "  plt.plot(history.history['loss'], label='loss')\r\n",
        "  plt.plot(history.history['val_loss'], label='val_loss')\r\n",
        "  plt.xlabel('Epoch')\r\n",
        "  plt.ylabel('Error')\r\n",
        "  plt.legend()\r\n",
        "  plt.grid(True)\r\n",
        "\r\n",
        "plot_loss(history)"
      ],
      "execution_count": 94,
      "outputs": [
        {
          "output_type": "display_data",
          "data": {
            "image/png": "[encoded data removed]",
            "text/plain": [
              "<Figure size 432x288 with 1 Axes>"
            ]
          },
          "metadata": {
            "tags": [],
            "needs_background": "light"
          }
        }
      ]
    },
    {
      "cell_type": "code",
      "metadata": {
        "colab": {
          "base_uri": "https://localhost:8080/"
        },
        "id": "DOrEnj_b0UhR",
        "outputId": "fef30812-3ef1-4933-cc75-dd74a57eb19c"
      },
      "source": [
        "predictions = mymodel.predict(din)\r\n",
        "\r\n",
        "\r\n",
        "for i in range(10):\r\n",
        "  print(predictions[i], dout[i])"
      ],
      "execution_count": 71,
      "outputs": [
        {
          "output_type": "stream",
          "text": [
            "[ 1.002233   -0.70800805] [ 1.04365318 -0.80033387]\n",
            "[ 1.4930332 -1.0836202] [ 1.52140946 -1.09208328]\n",
            "[ 0.08824276 -0.79395926] [ 0.10460715 -0.80828792]\n",
            "[ 0.9314869 -1.5085565] [ 0.87875538 -1.42543218]\n",
            "[ 0.4996777 -1.0106618] [ 0.52356186 -1.07296112]\n",
            "[ 1.123345  -0.3690948] [ 1.06156696 -0.26294894]\n",
            "[ 1.4758186  -0.83249986] [ 1.52878743 -0.90085234]\n",
            "[ 1.4251401 -0.25895  ] [ 1.41711518 -0.25810921]\n",
            "[ 0.405667  -1.2314012] [ 0.4028859  -1.25412792]\n",
            "[ 0.2089364 -1.3887409] [ 0.20934054 -1.39315595]\n"
          ],
          "name": "stdout"
        }
      ]
    },
    {
      "cell_type": "code",
      "metadata": {
        "id": "VYwdmG6VCRhV",
        "colab": {
          "base_uri": "https://localhost:8080/",
          "height": 265
        },
        "outputId": "aaabc18b-d603-4b4c-b6c6-f37d94adcfb7"
      },
      "source": [
        "xtest = np.linspace(1.5,1.7)\r\n",
        "ytest = 1/0.2*(xtest-1.5) -0.5\r\n",
        "\r\n",
        "xtest = np.linspace(1, 1.8)\r\n",
        "ytest = -0.5*xt*xt +2\r\n",
        "\r\n",
        "\r\n",
        "def plot_trajectory():\r\n",
        "  plt.plot(xtest,ytest, label='soll')\r\n",
        "  phipred = mymodel.predict(np.vstack((xtest, ytest)).T)\r\n",
        "\r\n",
        "  # Berechne x und y\r\n",
        "  xpred = l1 * np.cos(phipred[:,0]) + l2 * np.cos(phipred.sum(axis=1))\r\n",
        "  ypred = l1 * np.sin(phipred[:,0]) + l2 * np.sin(phipred.sum(axis=1))\r\n",
        "\r\n",
        "  plt.plot(xpred, ypred, label='ist')\r\n",
        "  plt.grid(True)\r\n",
        "  plt.legend()\r\n",
        "\r\n",
        "\r\n",
        "plot_trajectory()\r\n",
        "\r\n",
        "\r\n"
      ],
      "execution_count": 99,
      "outputs": [
        {
          "output_type": "display_data",
          "data": {
            "image/png": "[encoded data removed]",
            "text/plain": [
              "<Figure size 432x288 with 1 Axes>"
            ]
          },
          "metadata": {
            "tags": [],
            "needs_background": "light"
          }
        }
      ]
    }
  ]
}