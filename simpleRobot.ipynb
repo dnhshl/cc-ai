{
  "nbformat": 4,
  "nbformat_minor": 0,
  "metadata": {
    "colab": {
      "name": "Untitled0.ipynb",
      "provenance": [],
      "collapsed_sections": [],
      "authorship_tag": "ABX9TyOMgxUP85VD7NctpqALCb3a",
      "include_colab_link": true
    },
    "kernelspec": {
      "name": "python3",
      "display_name": "Python 3"
    },
    "accelerator": "GPU"
  },
  "cells": [
    {
      "cell_type": "markdown",
      "metadata": {
        "id": "view-in-github",
        "colab_type": "text"
      },
      "source": [
        "<a href=\"https://colab.research.google.com/github/dnhshl/cc-ai/blob/main/simpleRobot.ipynb\" target=\"_parent\"><img src=\"https://colab.research.google.com/assets/colab-badge.svg\" alt=\"Open In Colab\"/></a>"
      ]
    },
    {
      "cell_type": "markdown",
      "metadata": {
        "id": "9boAgRMdmlVN"
      },
      "source": [
        "# simpleRobot\n",
        "Neuronales Netz zur Berechnung der inversen Kinematik eines (sehr einfachen) Roboters mit zwei Freiheitsgraden.\n",
        "\n",
        "Wir simulieren die Freiheitsgrade eines Armes, der sich im Schultergelenk und im Ellenbogengelenk drehen kann.\n",
        "\n",
        "\n"
      ]
    },
    {
      "cell_type": "markdown",
      "metadata": {
        "id": "esJpRHxSf0Bj"
      },
      "source": [
        "\n",
        "<img src='https://github.com/dnhshl/cc-ai/blob/main/images/robot.PNG?raw=1' width=\"500\">\n",
        "\n",
        "\n"
      ]
    },
    {
      "cell_type": "markdown",
      "metadata": {
        "id": "hKzvE7Roi9RU"
      },
      "source": [
        "Die kartesischen Koordinaten $(x,y)$ berechnen sich aus den Winkeln $q_1, q_2$ der Roboterarme wie folgt (bitte einmal selbst nachvollziehen!)\n",
        "\n",
        "$$\n",
        "x = l_1 \\cos(q_1) + l_2 \\cos(q_1 + q_2)\\\\\n",
        "$$\n",
        "$$\n",
        "y = l_1 \\sin(q_1) + l_2 \\sin(q_1 + q_2)\n",
        "$$\n",
        "\n",
        "Die Berechnung der Endposition des Roboterarms bei bekannten Winkeln nennt man **Vorwärtskinematik**. Das ist einfach.\n",
        "\n",
        "Komplizierter, aber in der Anwendung natürlich wichtiger, ist die **Rückwärtskinematik**. Welche Winkel muss ich einstellen, um eine bestimmte vorgegebene Position erreichen zu können. Für eine geschlossene Lösung müsste man die obigen Gleichungen nach $q_1$ und $q_2$ auflösen. Das ist nicht ganz einfach möglich.\n",
        "\n",
        "Wir wollen daher ein neuronales Netz trainieren, das diese Aufgabe für uns löst. Also\n",
        "\n",
        "  * Input $(x,y)$\n",
        "  * Output $(q_1, q_2)$.\n",
        "\n",
        "Das ist ein Regressionsproblem."
      ]
    },
    {
      "cell_type": "markdown",
      "metadata": {
        "id": "SIzhfha3lF_f"
      },
      "source": [
        "## Lade notwendige Libraries\n"
      ]
    },
    {
      "cell_type": "code",
      "metadata": {
        "id": "7VG9_6c-mkKe"
      },
      "source": [
        "import numpy as np\n",
        "import tensorflow as tf\n",
        "from tensorflow import keras\n",
        "from keras import layers\n",
        "from keras import optimizers\n",
        "from keras import losses\n",
        "import matplotlib.pyplot as plt\n",
        "\n",
        "import tensorflow.keras.backend as kb\n"
      ],
      "execution_count": 1,
      "outputs": []
    },
    {
      "cell_type": "markdown",
      "metadata": {
        "id": "zM-xrVochQw3"
      },
      "source": [
        "# Vorab: Vektoren und Matrizen in numpy\n",
        "\n",
        "numpy ist eine Python Bibliothek, die insbesondere Rechnen mit Vektoren und Matrizen (np.array) unterstützt.\n",
        "\n",
        "In Tensorflow sind die Konzepte ähnlich, dort sind es dann nicht np.arrays, sondern Tensoren.\n",
        "\n"
      ]
    },
    {
      "cell_type": "code",
      "metadata": {
        "id": "_wcxMqGdglzc",
        "outputId": "168765bd-f3be-4221-bafb-bb9af29197ba",
        "colab": {
          "base_uri": "https://localhost:8080/"
        }
      },
      "source": [
        "a = np.array([1,2,3]) # Zeilenvektor a\n",
        "b = np.array([4,5,6]) # Zeilenvektor b\n",
        "\n",
        "M = np.vstack((a, b)) # Zusammenfassen als 2x3 Matrix\n",
        "\n",
        "M = M.T # Transponieren -> 3x2 Matrix\n",
        "\n",
        "print(a, b)\n",
        "\n",
        "print(M)\n",
        "\n",
        "sum_a_b = M.sum(axis=1) # Summe der Spaltenvektoren\n",
        "print(sum_a_b)"
      ],
      "execution_count": 2,
      "outputs": [
        {
          "output_type": "stream",
          "text": [
            "[1 2 3] [4 5 6]\n",
            "[[1 4]\n",
            " [2 5]\n",
            " [3 6]]\n",
            "[5 7 9]\n"
          ],
          "name": "stdout"
        }
      ]
    },
    {
      "cell_type": "markdown",
      "metadata": {
        "id": "tjCih-kdsqgV"
      },
      "source": [
        "# Daten\n",
        "\n",
        "Generiere Trainingsdaten. Das ist hier sehr einfach, da bei bekannten Winkeln `q1` und `q2` die `x` und `y` Position berechnet werden kann. \n",
        "\n",
        "Der Oberarm kann im Schultergelenk ca. um einen Winkel `q1` zwischen -110 .. 20 Grad  und `q2` im Ellenbogengelenk zwischen 0 .. 90 Grad bewegt werden. Der Einfachheit halber nehmen wir weiterhin an, dass die Oberarmlänge `l1 = 30 cm` und die Unterarmlänge `l2 = 30 cm` sind."
      ]
    },
    {
      "cell_type": "markdown",
      "metadata": {
        "id": "RB-L_gMxqx6D"
      },
      "source": [
        "## Hilfsfunktion zur Berechnung der Vorwärts-Kinematik"
      ]
    },
    {
      "cell_type": "code",
      "metadata": {
        "id": "b8QFXDit65h4"
      },
      "source": [
        "# Berechne die Vorwärtskinematik. \n",
        "# Input ist ein (m,2) Tensor mit den Winkeln\n",
        "# Output ist ein (m,2) Tensor mit den karthesischen Koordinaten\n",
        "\n",
        "def forward_kinematics(q):\n",
        "\n",
        "  x = l1*tf.cos(q[:,0]) +l2*tf.cos(tf.reduce_sum(q,1))\n",
        "  y = l1*tf.sin(q[:,0]) +l2*tf.sin(tf.reduce_sum(q,1))\n",
        "  return tf.stack((x, y), axis=1)\n"
      ],
      "execution_count": 3,
      "outputs": []
    },
    {
      "cell_type": "markdown",
      "metadata": {
        "id": "QGSqHT2jhu6L"
      },
      "source": [
        "## OK, jetzt also die Trainingsdaten\n",
        "\n",
        "Wir generieren zufällige Trainingsdaten. \n",
        "Eine alternative Möglichkeit wäre, im (q1, q2) Koordinatensystem gleichmäßig zu samplen. Die Verteilung im karthesischen Koordinatensystem wäre dann aber nicht gleichmäßig."
      ]
    },
    {
      "cell_type": "code",
      "metadata": {
        "id": "iIbpicffnf5m",
        "outputId": "f59d5b8f-fd41-44f4-a8a9-62ff7ef855fa",
        "colab": {
          "base_uri": "https://localhost:8080/"
        }
      },
      "source": [
        "l1 = 0.3  # Länge des ersten Roboterarms\n",
        "l2 = 0.3  # Länge des zweiten Roboterarms\n",
        "\n",
        "traindatasize = 1000000 # Wie viele Traingsdaten sollen generiert werden?\n",
        "\n",
        "\n",
        "def gen_data(size):\n",
        "\n",
        "  # q1 im Bereich von -110 .. 20 Grad \n",
        "  q1 = (np.random.random_sample(size) * 130 - 110) / 180 * np.pi\n",
        "\n",
        "  # q2 im Bereich von 0 .. 90 Grad \n",
        "  q2 = (np.random.random_sample(size) * 90) / 180 * np.pi\n",
        "\n",
        "  # Kombiniere Vektoren als Matrix\n",
        "  #dout = tf.stack((q1, q2))\n",
        "  dout = np.vstack([q1,q2]).T\n",
        "\n",
        "  # Berechne x und y\n",
        "  din = forward_kinematics(dout)\n",
        "  # forward_kinematics gibt einen tf Tensor zurück, wir rechnen\n",
        "  # hier aber mit numpy arrays. Daher wieder zurückwandeln\n",
        "  din = din.numpy()\n",
        "\n",
        "  # Entferne nahe beieinander liegende Datenpunkte\n",
        "#  _, unique = np.unique(din.round(decimals=3), return_index=True, axis=0) \n",
        "\n",
        "#  return (din[unique], dout[unique])\n",
        "  return(din, dout)\n",
        "\n",
        "\n",
        "(din, dout) = gen_data(traindatasize)\n",
        "\n",
        "# Da einige Datenpunkte entfernt wurden: Wieviele Trainingsdaten haben wir?\n",
        "\n",
        "print(din.shape)\n",
        "\n",
        "# Wir geben ein paar der Trainingsdaten aus\n",
        "\n",
        "somedata = np.random.choice(dout.shape[0], 5)\n",
        "\n",
        "print(dout[somedata]*180/np.pi)\n",
        "print(din[somedata])\n",
        "\n",
        "\n",
        "\n"
      ],
      "execution_count": 4,
      "outputs": [
        {
          "output_type": "stream",
          "text": [
            "(1000000, 2)\n",
            "[[-101.2088686    76.65253086]\n",
            " [  -5.18386943   18.0313597 ]\n",
            " [  -4.32954564   25.50757338]\n",
            " [  -6.77233738   45.74943253]\n",
            " [  -1.83223126   53.66596853]]\n",
            "[[ 0.21455007 -0.41895386]\n",
            " [ 0.59126258  0.03960134]\n",
            " [ 0.57888262  0.08573222]\n",
            " [ 0.53112601  0.15332554]\n",
            " [ 0.48523029  0.22627436]]\n"
          ],
          "name": "stdout"
        }
      ]
    },
    {
      "cell_type": "markdown",
      "metadata": {
        "id": "kRzODsqJmVyB"
      },
      "source": [
        "## Welcher Bereich `(x, y)` kann vom Roboter erreicht werden?"
      ]
    },
    {
      "cell_type": "code",
      "metadata": {
        "id": "HSJjIKamvhV1",
        "outputId": "4a119c16-6ee3-45db-b17c-92301664cc34",
        "colab": {
          "base_uri": "https://localhost:8080/",
          "height": 279
        }
      },
      "source": [
        "\n",
        "def plot_range():\n",
        "  plt.figure(1)\n",
        "  plt.scatter(din[:,0], din[:,1])\n",
        "  plt.xlabel('x')\n",
        "  plt.ylabel('y')\n",
        "  #plt.xlim(0,2.5)\n",
        "  plt.grid(True)\n",
        "  plt.gca().set_aspect(\"equal\")\n",
        "\n",
        "\n",
        "plot_range()"
      ],
      "execution_count": 5,
      "outputs": [
        {
          "output_type": "display_data",
          "data": {
            "image/png": "[encoded data removed]",
            "text/plain": [
              "<Figure size 432x288 with 1 Axes>"
            ]
          },
          "metadata": {
            "tags": [],
            "needs_background": "light"
          }
        }
      ]
    },
    {
      "cell_type": "markdown",
      "metadata": {
        "id": "KcBfGA3EkHrY"
      },
      "source": [
        "# NN\n",
        "\n",
        "Zwei Fully Connected Layer.\n",
        "\n",
        "Als Fehlerfunktion wird der quadratische Fehler genutzt. Sie können auch [andere Loss Functions](https://keras.io/api/losses/) ausprobieren.\n",
        "\n",
        "Testen Sie auch verschiedene [Optimizer](https://keras.io/api/optimizers/).\n",
        "\n",
        "Testen Sie auch alternative Anzahlen von Layern und Layergrößen."
      ]
    },
    {
      "cell_type": "markdown",
      "metadata": {
        "id": "wGXx8H8NsP8T"
      },
      "source": [
        "## Netzwerkmodell"
      ]
    },
    {
      "cell_type": "code",
      "metadata": {
        "id": "58mIV_DGsTl1"
      },
      "source": [
        "# Netzwerkparameter\n",
        "\n",
        "layer1size = 30\n",
        "layer2size = 20\n",
        "\n"
      ],
      "execution_count": 6,
      "outputs": []
    },
    {
      "cell_type": "code",
      "metadata": {
        "id": "djBRYYG_1sS8",
        "outputId": "9f0465c0-340f-43c7-ed68-f9da9b03de48",
        "colab": {
          "base_uri": "https://localhost:8080/"
        }
      },
      "source": [
        "mymodel = keras.Sequential([\n",
        "      layers.Dense(layer1size, input_shape=[2,], activation='tanh'), ## Input Layer\n",
        "      layers.Dense(layer2size, activation='tanh'),\n",
        "      layers.Dense(2)     ## output\n",
        "  ])\n",
        "\n",
        "mymodel.summary()"
      ],
      "execution_count": 7,
      "outputs": [
        {
          "output_type": "stream",
          "text": [
            "Model: \"sequential\"\n",
            "_________________________________________________________________\n",
            "Layer (type)                 Output Shape              Param #   \n",
            "=================================================================\n",
            "dense (Dense)                (None, 30)                90        \n",
            "_________________________________________________________________\n",
            "dense_1 (Dense)              (None, 20)                620       \n",
            "_________________________________________________________________\n",
            "dense_2 (Dense)              (None, 2)                 42        \n",
            "=================================================================\n",
            "Total params: 752\n",
            "Trainable params: 752\n",
            "Non-trainable params: 0\n",
            "_________________________________________________________________\n"
          ],
          "name": "stdout"
        }
      ]
    },
    {
      "cell_type": "markdown",
      "metadata": {
        "id": "bpAt8hAtymSJ"
      },
      "source": [
        "## Alternative eigendefinierte Loss Funktionen"
      ]
    },
    {
      "cell_type": "code",
      "metadata": {
        "id": "pvQRVk_nPoW4"
      },
      "source": [
        "# Standard Mean Squared Error Loss\n",
        "mseloss = tf.keras.losses.MeanSquaredError()\n",
        "\n",
        "# Alternative eigendefinierte Loss Funktionen\n",
        "\n",
        "# myloss1: berücksichtigt den quadratischen Fehler \n",
        "# in den Koordinaten, nicht in den Winkeln\n",
        "# y_true sind die Winkel-Label, y_pred die berechneten Winkel\n",
        "# in_true sind die x-y label, in_pred die berechneten x-y Koordinaten.\n",
        "\n",
        "def myloss1(y_true,y_pred):\n",
        "\n",
        "  in_true = forward_kinematics(y_true)\n",
        "  in_pred = forward_kinematics(y_pred)\n",
        "\n",
        "  return kb.mean(kb.square(in_true - in_pred))\n",
        "\n",
        "# myloss2: myloss1 mit Regularisierungsterm\n",
        "# Die Abbildung von x-y koordinaten auf Winkel ist nicht eindeutig\n",
        "\n",
        "def myloss2(y_true,y_pred):\n",
        "\n",
        "  in_true = forward_kinematics(y_true)\n",
        "  in_pred = forward_kinematics(y_pred)\n",
        "\n",
        "  return kb.mean(kb.square(in_true - in_pred) + 0.01* kb.square(y_true - y_pred))\n"
      ],
      "execution_count": null,
      "outputs": []
    },
    {
      "cell_type": "markdown",
      "metadata": {
        "id": "PGUAL1Ve2Xav"
      },
      "source": [
        "## Trainingsparameter"
      ]
    },
    {
      "cell_type": "code",
      "metadata": {
        "id": "ubfJespI2jr7"
      },
      "source": [
        "# Trainingsparameter\n",
        "\n",
        "learning_rate = 0.01\n",
        "batch_size = 50\n",
        "epochs = 10\n",
        "myloss = losses.mean_squared_error\n",
        "#myloss = myloss1\n",
        "#myloss = myloss2\n",
        "\n",
        "myoptimizer = optimizers.SGD  #\n",
        "#myoptimizer = optimizers.Adam  #\n"
      ],
      "execution_count": null,
      "outputs": []
    },
    {
      "cell_type": "code",
      "metadata": {
        "id": "s71a_8OZ3CZI"
      },
      "source": [
        " mymodel.compile(loss=myloss,\n",
        "                optimizer=myoptimizer(learning_rate=learning_rate))"
      ],
      "execution_count": null,
      "outputs": []
    },
    {
      "cell_type": "markdown",
      "metadata": {
        "id": "eEdRTD2RnArc"
      },
      "source": [
        "## Trainiere Modell\n",
        "\n",
        "Nutze 20% der Testdaten als Validierungsdatensatz"
      ]
    },
    {
      "cell_type": "code",
      "metadata": {
        "id": "iKwfxq5HyCrt"
      },
      "source": [
        "history = mymodel.fit(din, dout,\n",
        "          batch_size=batch_size, epochs=epochs,\n",
        "          validation_split = 0.2)"
      ],
      "execution_count": null,
      "outputs": []
    },
    {
      "cell_type": "code",
      "metadata": {
        "id": "-C1SzkvdA-tQ"
      },
      "source": [
        "\n",
        "\n",
        "def plot_loss(history):\n",
        "  plt.plot(history.history['loss'], label='loss')\n",
        "  plt.plot(history.history['val_loss'], label='val_loss')\n",
        "  plt.xlabel('Epoch')\n",
        "  plt.ylabel('Error')\n",
        "  plt.legend()\n",
        "  plt.grid(True)\n",
        "\n",
        "plot_loss(history)"
      ],
      "execution_count": null,
      "outputs": []
    },
    {
      "cell_type": "markdown",
      "metadata": {
        "id": "4-sNaAdYt9en"
      },
      "source": [
        "## Teste trainiertes Modell"
      ]
    },
    {
      "cell_type": "code",
      "metadata": {
        "id": "DOrEnj_b0UhR"
      },
      "source": [
        "testdatasize = 10000\n",
        "\n",
        "(testdata_in, testdata_out) = gen_data(testdatasize)\n",
        "\n",
        "print(testdata_in.shape)\n",
        "\n",
        "predictions = mymodel.predict(testdata_in)\n",
        "\n",
        "somedata = np.random.choice(predictions.shape[0], 5)\n",
        "\n",
        "for d in somedata:\n",
        "  print(predictions[d]*180/np.pi, testdata_out[d]*180/np.pi)\n",
        "\n",
        "tf.print(forward_kinematics(predictions[somedata]))\n",
        "\n",
        "tf.print(forward_kinematics(testdata_out[somedata]))\n",
        "\n",
        "error = mymodel.evaluate(testdata_in, testdata_out, verbose=0)\n",
        "print(error)"
      ],
      "execution_count": null,
      "outputs": []
    },
    {
      "cell_type": "markdown",
      "metadata": {
        "id": "Di_LHbu5yxPL"
      },
      "source": [
        "## Teste verschiedene Trajektorien"
      ]
    },
    {
      "cell_type": "markdown",
      "metadata": {
        "id": "9z9JDtMeH5jK"
      },
      "source": [
        "### Hilfsfunktionen"
      ]
    },
    {
      "cell_type": "code",
      "metadata": {
        "id": "VYwdmG6VCRhV"
      },
      "source": [
        "# Gerade\n",
        "\n",
        "def gerade(x1, y1, x2, y2):\n",
        "  t = np.linspace(0,1)\n",
        "  x = x1 + t*(x2-x1)\n",
        "  y = y1 + t*(y2-y1)\n",
        "\n",
        "  return (x, y)\n",
        "\n",
        "\n",
        "def kreis(x0, y0, R):\n",
        "  t = np.linspace(0, 2*np.pi)\n",
        "  x = x0 + R*np.sin(t)\n",
        "  y = y0 + R*np.cos(t)\n",
        "\n",
        "  return (x,y)\n",
        "\n",
        "def parabelbogen(x1,y1,x2,y2):\n",
        "  t = np.linspace(0,1)\n",
        "  x = x1 + (x2-x1) * t\n",
        "  y = y1 + (y2-y1) * t*t \n",
        "\n",
        "  return (x,y)\n",
        "\n",
        "def plot_trajectory(t, figure=100, zoom=True):\n",
        "  (x, y) = t\n",
        "  plt.figure(figure)\n",
        "  plt.plot(x,y, label='soll')\n",
        "  phipred = mymodel.predict(np.vstack((x, y)).T)\n",
        "\n",
        "  # Berechne x und y\n",
        "  xpred = l1 * np.cos(phipred[:,0]) + l2 * np.cos(phipred.sum(axis=1))\n",
        "  ypred = l1 * np.sin(phipred[:,0]) + l2 * np.sin(phipred.sum(axis=1))\n",
        "\n",
        "  pred = forward_kinematics(mymodel.predict(np.vstack((x, y)).T))\n",
        "\n",
        "  plt.plot(pred[:,0], pred[:,1], label='ist')\n",
        "  plt.grid(True)\n",
        "  plt.legend()\n",
        "  plt.gca().set_aspect(\"equal\")\n",
        "  dx = np.max(x) - np.min(x)\n",
        "  dy = np.max(y) - np.min(y)\n",
        "  if zoom:\n",
        "    plt.xlim(np.min(x)-0.1*dx, np.max(x)+0.1*dx)\n",
        "    plt.ylim(np.min(y)-0.1*dy, np.max(y)+0.1*dy)\n",
        "  else: \n",
        "    plt.xlim(-0.2, 0.6)\n",
        "    plt.ylim(-0.6, 0.4) \n",
        "\n",
        "\n",
        "\n"
      ],
      "execution_count": null,
      "outputs": []
    },
    {
      "cell_type": "markdown",
      "metadata": {
        "id": "n7Mk3M_QIEIb"
      },
      "source": [
        "### Plot"
      ]
    },
    {
      "cell_type": "code",
      "metadata": {
        "id": "G2HaVpGqHo3f"
      },
      "source": [
        "# Alle in einen Plot\n",
        "plot_trajectory(gerade(0.4,-0.2, 0.5, -0.2), zoom=False)\n",
        "plot_trajectory(kreis(0.5, 0.1, 0.05), zoom=False)\n",
        "plot_trajectory(parabelbogen(0.2,-0.5, 0.5, 0.2), zoom=False)\n",
        "\n",
        "\n",
        "# Einzelplots gezoomt\n",
        "plot_trajectory(gerade(0.4,-0.2, 0.5, -0.2), figure=2)\n",
        "plot_trajectory(kreis(0.5, 0.1, 0.05), figure=3)\n",
        "plot_trajectory(parabelbogen(0.2,-0.5, 0.5, 0.2), figure=4)\n"
      ],
      "execution_count": null,
      "outputs": []
    }
  ]
}