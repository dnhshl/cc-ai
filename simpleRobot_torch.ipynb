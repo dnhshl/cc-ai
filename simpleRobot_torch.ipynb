{
  "nbformat": 4,
  "nbformat_minor": 0,
  "metadata": {
    "colab": {
      "name": "Untitled0.ipynb",
      "provenance": [],
      "include_colab_link": true
    },
    "kernelspec": {
      "name": "python3",
      "display_name": "Python 3"
    },
    "accelerator": "GPU",
    "gpuClass": "standard"
  },
  "cells": [
    {
      "cell_type": "markdown",
      "metadata": {
        "id": "view-in-github",
        "colab_type": "text"
      },
      "source": [
        "<a href=\"https://colab.research.google.com/github/dnhshl/cc-ai/blob/main/simpleRobot_torch.ipynb\" target=\"_parent\"><img src=\"https://colab.research.google.com/assets/colab-badge.svg\" alt=\"Open In Colab\"/></a>"
      ]
    },
    {
      "cell_type": "markdown",
      "metadata": {
        "id": "9boAgRMdmlVN"
      },
      "source": [
        "# simpleRobot\n",
        "Neuronales Netz zur Berechnung der inversen Kinematik eines (sehr einfachen) Roboters mit zwei Freiheitsgraden.\n",
        "\n",
        "Wir simulieren die Freiheitsgrade eines Armes, der sich im Schultergelenk und im Ellenbogengelenk drehen kann.\n",
        "\n",
        "\n"
      ]
    },
    {
      "cell_type": "markdown",
      "metadata": {
        "id": "esJpRHxSf0Bj"
      },
      "source": [
        "\n",
        "<img src='https://github.com/dnhshl/cc-ai/blob/main/images/robot.PNG?raw=1' width=\"500\">\n",
        "\n",
        "\n"
      ]
    },
    {
      "cell_type": "markdown",
      "metadata": {
        "id": "hKzvE7Roi9RU"
      },
      "source": [
        "Die kartesischen Koordinaten $(x,y)$ berechnen sich aus den Winkeln $q_1, q_2$ der Roboterarme wie folgt (bitte einmal selbst nachvollziehen!)\n",
        "\n",
        "$$\n",
        "x = l_1 \\cos(q_1) + l_2 \\cos(q_1 + q_2)\\\\\n",
        "$$\n",
        "$$\n",
        "y = l_1 \\sin(q_1) + l_2 \\sin(q_1 + q_2)\n",
        "$$\n",
        "\n",
        "Die Berechnung der Endposition des Roboterarms bei bekannten Winkeln nennt man **Vorwärtskinematik**. Das ist einfach.\n",
        "\n",
        "Komplizierter, aber in der Anwendung natürlich wichtiger, ist die **Rückwärtskinematik**. Welche Winkel muss ich einstellen, um eine bestimmte vorgegebene Position erreichen zu können. Für eine geschlossene Lösung müsste man die obigen Gleichungen nach $q_1$ und $q_2$ auflösen. Das ist nicht ganz einfach möglich.\n",
        "\n",
        "Wir wollen daher ein neuronales Netz trainieren, das diese Aufgabe für uns löst. Also\n",
        "\n",
        "  * Input $(x,y)$\n",
        "  * Output $(q_1, q_2)$.\n",
        "\n",
        "Das ist ein Regressionsproblem."
      ]
    },
    {
      "cell_type": "markdown",
      "metadata": {
        "id": "SIzhfha3lF_f"
      },
      "source": [
        "## Lade notwendige Libraries\n"
      ]
    },
    {
      "cell_type": "code",
      "metadata": {
        "id": "7VG9_6c-mkKe"
      },
      "source": [
        "!pip install torchinfo -q\n",
        "from torchinfo import summary\n",
        "import numpy as np\n",
        "import torch\n",
        "import torch.nn as nn\n",
        "import torch.optim as optim\n",
        "import matplotlib.pyplot as plt\n",
        "import copy\n",
        "import tqdm\n",
        "from sklearn.model_selection import train_test_split"
      ],
      "execution_count": 1,
      "outputs": []
    },
    {
      "cell_type": "markdown",
      "metadata": {
        "id": "tjCih-kdsqgV"
      },
      "source": [
        "# Daten\n",
        "\n",
        "Generiere Trainingsdaten. Das ist hier sehr einfach, da bei bekannten Winkeln `q1` und `q2` die `x` und `y` Position berechnet werden kann.\n",
        "\n",
        "Der Oberarm kann im Schultergelenk ca. um einen Winkel `q1` zwischen -110 .. 20 Grad  und `q2` im Ellenbogengelenk zwischen 0 .. 90 Grad bewegt werden. Der Einfachheit halber nehmen wir weiterhin an, dass die Oberarmlänge `l1 = 30 cm` und die Unterarmlänge `l2 = 30 cm` sind."
      ]
    },
    {
      "cell_type": "markdown",
      "metadata": {
        "id": "RB-L_gMxqx6D"
      },
      "source": [
        "## Hilfsfunktion zur Berechnung der Vorwärts-Kinematik"
      ]
    },
    {
      "cell_type": "code",
      "metadata": {
        "id": "b8QFXDit65h4"
      },
      "source": [
        "l1 = 0.3  # Länge des ersten Roboterarms\n",
        "l2 = 0.3  # Länge des zweiten Roboterarms\n",
        "\n",
        "# Berechne die Vorwärtskinematik.\n",
        "# Input ist ein (m,2) Tensor mit den Winkeln\n",
        "# Output ist ein (m,2) Tensor mit den karthesischen Koordinaten\n",
        "\n",
        "def forward_kinematics(q):\n",
        "\n",
        "  x = l1*torch.cos(q[:,0]) +l2*torch.cos(torch.sum(q,1))\n",
        "  y = l1*torch.sin(q[:,0]) +l2*torch.sin(torch.sum(q,1))\n",
        "  return torch.stack((x, y), axis=1)"
      ],
      "execution_count": 2,
      "outputs": []
    },
    {
      "cell_type": "markdown",
      "source": [
        "Anmerkung: Die KI Frameworks (PyTorch, Tensorflow) arbeiten immer mit **Tensoren**. Tensoren sind einfach gesprochen eine Verallgemeinerung von Vektoren / Matrizen, also eine Anordnung von Zahlen entlang n Achsen. Die Zahl n heißt die Stufe des Tensors. Vektoren sind also Tensoren erster Stufe und Matrizen Tensoren zweiter Stufe. Einzelne Zahlen nennt man auch Tensoren nullter Stufe oder Skalare. n kann aber auch höherdimensional (3, 4, ...) sein.\n",
        "Die Frameworks sind so programmiert, dass mit Tensoren effizient gerechnet werden kann. Es sind keine for-Schleifen notwendig, um über alle Zahlen eines Tensors zu iterieren, sondern die Operationen auf den Zahlen eines Tensors können (auf entsprechender Hardware wie Grafikkarten) alle quasi parallel durchgeführt werden."
      ],
      "metadata": {
        "id": "qn7pQ6uNJYnF"
      }
    },
    {
      "cell_type": "markdown",
      "metadata": {
        "id": "QGSqHT2jhu6L"
      },
      "source": [
        "## OK, jetzt also die Trainingsdaten\n",
        "\n",
        "Wir generieren zufällige Trainingsdaten.\n",
        "Eine alternative Möglichkeit wäre, im (q1, q2) Koordinatensystem gleichmäßig zu samplen. Die Verteilung im karthesischen Koordinatensystem wäre dann aber nicht gleichmäßig."
      ]
    },
    {
      "cell_type": "code",
      "metadata": {
        "id": "iIbpicffnf5m"
      },
      "source": [
        "# Hilfsfunktion zur Generierung von n zufälligen Trainingsdaten (x, y)\n",
        "# x ist die Position (x1, x2) im Koordinatensystem\n",
        "# y sind die Winkel (q1, q2), die eingestellt werden müssen,\n",
        "# um diese Position anzufahren.\n",
        "\n",
        "def gen_data(n):\n",
        "\n",
        "  # q1 im Bereich von -110 .. 20 Grad\n",
        "  q1 = (torch.rand(n) * 130 - 110) / 180 * torch.pi\n",
        "\n",
        "  # q2 im Bereich von 0 .. 90 Grad\n",
        "  q2 = (torch.rand(n) * 90) / 180 * torch.pi\n",
        "\n",
        "  # Kombiniere Vektoren als Matrix\n",
        "  y = torch.stack([q1,q2]).T\n",
        "\n",
        "  # Berechne x und y\n",
        "  x = forward_kinematics(y)\n",
        "\n",
        "  return(x, y)"
      ],
      "execution_count": 3,
      "outputs": []
    },
    {
      "cell_type": "code",
      "source": [
        "n = 20000 # Wie viele Traingsdaten sollen generiert werden?\n",
        "(x, y) = gen_data(n)\n",
        "\n",
        "# Wir geben ein paar der Trainingsdaten aus\n",
        "somedata = np.random.choice(y.shape[0], 5)\n",
        "\n",
        "print(x[somedata])\n",
        "print(y[somedata]*180/np.pi)"
      ],
      "metadata": {
        "colab": {
          "base_uri": "https://localhost:8080/"
        },
        "id": "hwLELdMtKqVm",
        "outputId": "27467f61-1c16-49f3-912e-0582b77391f9"
      },
      "execution_count": 4,
      "outputs": [
        {
          "output_type": "stream",
          "name": "stdout",
          "text": [
            "tensor([[ 0.2521, -0.3723],\n",
            "        [ 0.5028, -0.3110],\n",
            "        [-0.0346, -0.5949],\n",
            "        [ 0.3989,  0.2356],\n",
            "        [ 0.4402, -0.1623]])\n",
            "tensor([[ -97.3565,   82.9275],\n",
            "        [ -41.5576,   19.6356],\n",
            "        [-100.0106,   13.3683],\n",
            "        [  -8.8891,   78.9022],\n",
            "        [ -58.7965,   77.1124]])\n"
          ]
        }
      ]
    },
    {
      "cell_type": "markdown",
      "metadata": {
        "id": "kRzODsqJmVyB"
      },
      "source": [
        "## Welcher Bereich `(x1, x2)` kann vom Roboter erreicht werden?"
      ]
    },
    {
      "cell_type": "code",
      "metadata": {
        "id": "HSJjIKamvhV1",
        "colab": {
          "base_uri": "https://localhost:8080/",
          "height": 449
        },
        "outputId": "0210bd42-5736-4f7f-c141-8eda80df9ead"
      },
      "source": [
        "\n",
        "def plot_range():\n",
        "  plt.figure(1)\n",
        "  plt.scatter(x[:,0], x[:,1])\n",
        "  plt.xlabel('x1')\n",
        "  plt.ylabel('x2')\n",
        "  #plt.xlim(0,2.5)\n",
        "  plt.grid(True)\n",
        "  plt.gca().set_aspect(\"equal\")\n",
        "\n",
        "\n",
        "plot_range()"
      ],
      "execution_count": 5,
      "outputs": [
        {
          "output_type": "display_data",
          "data": {
            "text/plain": [
              "<Figure size 640x480 with 1 Axes>"
            ],
            "image/png": "[encoded data removed]"
          },
          "metadata": {}
        }
      ]
    },
    {
      "cell_type": "markdown",
      "metadata": {
        "id": "KcBfGA3EkHrY"
      },
      "source": [
        "# Festlegung unseres Modells\n",
        "\n",
        "Wir wollen ein Neuronales Netz mit einem hidden Layer verwenden.\n",
        "Zwei Fully Connected Layer.\n",
        "\n",
        "Als Fehlerfunktion wird der quadratische Fehler genutzt. Sie können auch [andere Loss Functions](https://pytorch.org/docs/stable/nn.html#loss-functions) ausprobieren.\n",
        "\n",
        "Als Optimizer verwenden wir Adam.\n",
        "Testen Sie auch verschiedene [Optimizer](https://pytorch.org/docs/stable/optim.html?highlight=optimizer#torch.optim.Optimizer).\n",
        "\n",
        "Testen Sie auch alternative Anzahlen von Layern und Layergrößen."
      ]
    },
    {
      "cell_type": "markdown",
      "metadata": {
        "id": "wGXx8H8NsP8T"
      },
      "source": [
        "## Netzwerkmodell"
      ]
    },
    {
      "cell_type": "code",
      "source": [
        "# Define the model\n",
        "model = nn.Sequential(\n",
        "    nn.Linear(2, 30),\n",
        "    nn.Tanh(),\n",
        "    nn.Linear(30, 20),\n",
        "    nn.Tanh(),\n",
        "    nn.Linear(20, 2)\n",
        ")\n",
        "print(model)"
      ],
      "metadata": {
        "colab": {
          "base_uri": "https://localhost:8080/"
        },
        "id": "Up_aobaw6HKS",
        "outputId": "59c67567-0efa-4bac-8464-0f7fb81c4cdf"
      },
      "execution_count": 6,
      "outputs": [
        {
          "output_type": "stream",
          "name": "stdout",
          "text": [
            "Sequential(\n",
            "  (0): Linear(in_features=2, out_features=30, bias=True)\n",
            "  (1): Tanh()\n",
            "  (2): Linear(in_features=30, out_features=20, bias=True)\n",
            "  (3): Tanh()\n",
            "  (4): Linear(in_features=20, out_features=2, bias=True)\n",
            ")\n"
          ]
        }
      ]
    },
    {
      "cell_type": "code",
      "source": [
        "\n",
        "summary(model)"
      ],
      "metadata": {
        "colab": {
          "base_uri": "https://localhost:8080/"
        },
        "id": "vyDsnhAAxR5v",
        "outputId": "7c2b05e2-8233-4df9-993a-1afdec4c16fc"
      },
      "execution_count": 7,
      "outputs": [
        {
          "output_type": "execute_result",
          "data": {
            "text/plain": [
              "=================================================================\n",
              "Layer (type:depth-idx)                   Param #\n",
              "=================================================================\n",
              "Sequential                               --\n",
              "├─Linear: 1-1                            90\n",
              "├─Tanh: 1-2                              --\n",
              "├─Linear: 1-3                            620\n",
              "├─Tanh: 1-4                              --\n",
              "├─Linear: 1-5                            42\n",
              "=================================================================\n",
              "Total params: 752\n",
              "Trainable params: 752\n",
              "Non-trainable params: 0\n",
              "================================================================="
            ]
          },
          "metadata": {},
          "execution_count": 7
        }
      ]
    },
    {
      "cell_type": "code",
      "source": [
        "# safe initial weights for resets\n",
        "initial_weights = copy.deepcopy(model.state_dict())"
      ],
      "metadata": {
        "id": "AjA5iyorVdxs"
      },
      "execution_count": 8,
      "outputs": []
    },
    {
      "cell_type": "code",
      "source": [
        "# call this if reset of weights is required\n",
        "model.load_state_dict(initial_weights)"
      ],
      "metadata": {
        "colab": {
          "base_uri": "https://localhost:8080/"
        },
        "id": "4DNp55RFSNJ_",
        "outputId": "58cdd6ef-e179-4d1e-cad3-8beee2b8cadb"
      },
      "execution_count": null,
      "outputs": [
        {
          "output_type": "execute_result",
          "data": {
            "text/plain": [
              "<All keys matched successfully>"
            ]
          },
          "metadata": {},
          "execution_count": 8
        }
      ]
    },
    {
      "cell_type": "markdown",
      "source": [
        "## Loss Function und Optimizer"
      ],
      "metadata": {
        "id": "NLf34wbZNWuU"
      }
    },
    {
      "cell_type": "code",
      "source": [
        "# loss function and optimizer\n",
        "loss_fn = nn.MSELoss()  # mean square error\n",
        "optimizer = optim.Adam(model.parameters(), lr=0.01)"
      ],
      "metadata": {
        "id": "1daEcbZyC9Na"
      },
      "execution_count": 9,
      "outputs": []
    },
    {
      "cell_type": "markdown",
      "source": [
        "## Split der Daten in Trainings- und Validierungsdaten"
      ],
      "metadata": {
        "id": "63SsnuNBNeg7"
      }
    },
    {
      "cell_type": "code",
      "source": [
        "# train-validation split of the dataset\n",
        "x_train, x_valid, y_train, y_valid = train_test_split(x, y, train_size=0.7, shuffle=True)"
      ],
      "metadata": {
        "id": "el3JUoUSDO54"
      },
      "execution_count": 10,
      "outputs": []
    },
    {
      "cell_type": "markdown",
      "source": [
        "## Trainingsparameter"
      ],
      "metadata": {
        "id": "w8bIAUDQNuFb"
      }
    },
    {
      "cell_type": "code",
      "source": [
        "# training parameters\n",
        "n_epochs = 50   # number of epochs to run\n",
        "batch_size = 256  # size of each batch\n",
        "batch_start = torch.arange(0, len(x_train), batch_size)"
      ],
      "metadata": {
        "id": "BaydEjc0Nx7B"
      },
      "execution_count": 11,
      "outputs": []
    },
    {
      "cell_type": "markdown",
      "source": [
        "## Trainingsschleife"
      ],
      "metadata": {
        "id": "bLQagwHXN7L4"
      }
    },
    {
      "cell_type": "code",
      "source": [
        "# Hold the best model\n",
        "best_mse = np.inf   # init to infinity\n",
        "best_weights = None\n",
        "history_train = []\n",
        "history_valid = []\n",
        "\n",
        "# training loop\n",
        "for epoch in range(n_epochs):\n",
        "    model.train()\n",
        "    with tqdm.tqdm(batch_start, unit=\"batch\", mininterval=0, disable=False) as bar:\n",
        "        bar.set_description(f\"Epoch {epoch}\")\n",
        "        for start in bar:\n",
        "            # take a batch\n",
        "            x_batch = x_train[start:start+batch_size]\n",
        "            y_batch = y_train[start:start+batch_size]\n",
        "            # forward pass\n",
        "            y_pred = model(x_batch)\n",
        "            loss = loss_fn(y_pred, y_batch)\n",
        "            # backward pass\n",
        "            optimizer.zero_grad()\n",
        "            loss.backward()\n",
        "            # update weights\n",
        "            optimizer.step()\n",
        "            # print progress\n",
        "            bar.set_postfix(mse=float(loss))\n",
        "    # evaluate accuracy at end of each epoch\n",
        "    model.eval()\n",
        "    # mse auf Testdaten\n",
        "    y_pred = model(x_train)\n",
        "    mse_train = float(loss_fn(y_pred, y_train))\n",
        "    history_train.append(mse_train)\n",
        "    # mse auf Validierungsdaten\n",
        "    y_pred = model(x_valid)\n",
        "    mse_valid = float(loss_fn(y_pred, y_valid))\n",
        "    history_valid.append(mse_valid)\n",
        "    # sichere \"beste\" Gewichte (Bewertung auf Basis der Validierungsdaten)\n",
        "    if mse_valid < best_mse:\n",
        "        best_mse = mse_valid\n",
        "        best_weights = copy.deepcopy(model.state_dict())\n",
        "\n",
        "# restore model and return best accuracy\n",
        "model.load_state_dict(best_weights)"
      ],
      "metadata": {
        "colab": {
          "base_uri": "https://localhost:8080/"
        },
        "id": "so3TpzeDEfha",
        "outputId": "c9e2e65e-4032-4f0c-cef6-00a693ade52e"
      },
      "execution_count": 21,
      "outputs": [
        {
          "output_type": "stream",
          "name": "stderr",
          "text": [
            "Epoch 0: 100%|██████████| 55/55 [00:00<00:00, 155.00batch/s, mse=0.00163]\n",
            "Epoch 1: 100%|██████████| 55/55 [00:00<00:00, 156.94batch/s, mse=0.0016]\n",
            "Epoch 2: 100%|██████████| 55/55 [00:00<00:00, 164.86batch/s, mse=0.00156]\n",
            "Epoch 3: 100%|██████████| 55/55 [00:00<00:00, 156.33batch/s, mse=0.00153]\n",
            "Epoch 4: 100%|██████████| 55/55 [00:00<00:00, 175.78batch/s, mse=0.00151]\n",
            "Epoch 5: 100%|██████████| 55/55 [00:00<00:00, 161.51batch/s, mse=0.00148]\n",
            "Epoch 6: 100%|██████████| 55/55 [00:00<00:00, 145.85batch/s, mse=0.00146]\n",
            "Epoch 7: 100%|██████████| 55/55 [00:00<00:00, 144.22batch/s, mse=0.00144]\n",
            "Epoch 8: 100%|██████████| 55/55 [00:00<00:00, 149.17batch/s, mse=0.00142]\n",
            "Epoch 9: 100%|██████████| 55/55 [00:00<00:00, 156.87batch/s, mse=0.0014]\n",
            "Epoch 10: 100%|██████████| 55/55 [00:00<00:00, 158.22batch/s, mse=0.00138]\n",
            "Epoch 11: 100%|██████████| 55/55 [00:00<00:00, 152.42batch/s, mse=0.00137]\n",
            "Epoch 12: 100%|██████████| 55/55 [00:00<00:00, 162.89batch/s, mse=0.00136]\n",
            "Epoch 13: 100%|██████████| 55/55 [00:00<00:00, 146.90batch/s, mse=0.00134]\n",
            "Epoch 14: 100%|██████████| 55/55 [00:00<00:00, 150.05batch/s, mse=0.00133]\n",
            "Epoch 15: 100%|██████████| 55/55 [00:00<00:00, 142.22batch/s, mse=0.00131]\n",
            "Epoch 16: 100%|██████████| 55/55 [00:00<00:00, 150.65batch/s, mse=0.0013]\n",
            "Epoch 17: 100%|██████████| 55/55 [00:00<00:00, 145.02batch/s, mse=0.00129]\n",
            "Epoch 18: 100%|██████████| 55/55 [00:00<00:00, 143.24batch/s, mse=0.00127]\n",
            "Epoch 19: 100%|██████████| 55/55 [00:00<00:00, 141.14batch/s, mse=0.00126]\n",
            "Epoch 20: 100%|██████████| 55/55 [00:00<00:00, 145.58batch/s, mse=0.00125]\n",
            "Epoch 21: 100%|██████████| 55/55 [00:00<00:00, 164.30batch/s, mse=0.00123]\n",
            "Epoch 22: 100%|██████████| 55/55 [00:00<00:00, 141.98batch/s, mse=0.00122]\n",
            "Epoch 23: 100%|██████████| 55/55 [00:00<00:00, 97.26batch/s, mse=0.00121]\n",
            "Epoch 24: 100%|██████████| 55/55 [00:00<00:00, 58.92batch/s, mse=0.0012] \n",
            "Epoch 25: 100%|██████████| 55/55 [00:00<00:00, 112.45batch/s, mse=0.00119]\n",
            "Epoch 26: 100%|██████████| 55/55 [00:01<00:00, 51.61batch/s, mse=0.00118]\n",
            "Epoch 27: 100%|██████████| 55/55 [00:00<00:00, 128.16batch/s, mse=0.00117]\n",
            "Epoch 28: 100%|██████████| 55/55 [00:00<00:00, 139.30batch/s, mse=0.00116]\n",
            "Epoch 29: 100%|██████████| 55/55 [00:00<00:00, 143.84batch/s, mse=0.00115]\n",
            "Epoch 30: 100%|██████████| 55/55 [00:00<00:00, 124.87batch/s, mse=0.00114]\n",
            "Epoch 31: 100%|██████████| 55/55 [00:00<00:00, 147.46batch/s, mse=0.00113]\n",
            "Epoch 32: 100%|██████████| 55/55 [00:00<00:00, 180.60batch/s, mse=0.00112]\n",
            "Epoch 33: 100%|██████████| 55/55 [00:00<00:00, 126.93batch/s, mse=0.00112]\n",
            "Epoch 34: 100%|██████████| 55/55 [00:00<00:00, 148.53batch/s, mse=0.00111]\n",
            "Epoch 35: 100%|██████████| 55/55 [00:00<00:00, 130.33batch/s, mse=0.0011]\n",
            "Epoch 36: 100%|██████████| 55/55 [00:00<00:00, 147.60batch/s, mse=0.0011]\n",
            "Epoch 37: 100%|██████████| 55/55 [00:00<00:00, 127.95batch/s, mse=0.00109]\n",
            "Epoch 38: 100%|██████████| 55/55 [00:00<00:00, 149.98batch/s, mse=0.00109]\n",
            "Epoch 39: 100%|██████████| 55/55 [00:00<00:00, 165.67batch/s, mse=0.00108]\n",
            "Epoch 40: 100%|██████████| 55/55 [00:00<00:00, 165.41batch/s, mse=0.00108]\n",
            "Epoch 41: 100%|██████████| 55/55 [00:00<00:00, 182.36batch/s, mse=0.00107]\n",
            "Epoch 42: 100%|██████████| 55/55 [00:00<00:00, 169.64batch/s, mse=0.00107]\n",
            "Epoch 43: 100%|██████████| 55/55 [00:00<00:00, 121.30batch/s, mse=0.00106]\n",
            "Epoch 44: 100%|██████████| 55/55 [00:00<00:00, 121.54batch/s, mse=0.00105]\n",
            "Epoch 45: 100%|██████████| 55/55 [00:00<00:00, 151.41batch/s, mse=0.00105]\n",
            "Epoch 46: 100%|██████████| 55/55 [00:00<00:00, 163.65batch/s, mse=0.00104]\n",
            "Epoch 47: 100%|██████████| 55/55 [00:00<00:00, 125.77batch/s, mse=0.00104]\n",
            "Epoch 48: 100%|██████████| 55/55 [00:00<00:00, 138.71batch/s, mse=0.00104]\n",
            "Epoch 49: 100%|██████████| 55/55 [00:00<00:00, 143.17batch/s, mse=0.00103]\n"
          ]
        },
        {
          "output_type": "execute_result",
          "data": {
            "text/plain": [
              "<All keys matched successfully>"
            ]
          },
          "metadata": {},
          "execution_count": 21
        }
      ]
    },
    {
      "cell_type": "code",
      "source": [
        "print(\"MSE: %.2f\" % best_mse)\n",
        "print(\"RMSE: %.2f\" % np.sqrt(best_mse))\n",
        "t = [i for i in range(len(history_train))]\n",
        "plt.plot(t, history_train, 'b', t, history_valid, 'g')\n",
        "plt.show()"
      ],
      "metadata": {
        "colab": {
          "base_uri": "https://localhost:8080/",
          "height": 465
        },
        "id": "pAC9g6v8H3P-",
        "outputId": "1414ad4b-8db5-49f9-e937-243403dc6336"
      },
      "execution_count": 13,
      "outputs": [
        {
          "output_type": "stream",
          "name": "stdout",
          "text": [
            "MSE: 0.00\n",
            "RMSE: 0.04\n"
          ]
        },
        {
          "output_type": "display_data",
          "data": {
            "text/plain": [
              "<Figure size 640x480 with 1 Axes>"
            ],
            "image/png": "[encoded data removed]"
          },
          "metadata": {}
        }
      ]
    },
    {
      "cell_type": "markdown",
      "metadata": {
        "id": "PGUAL1Ve2Xav"
      },
      "source": [
        "## Evaluation mit Testdaten"
      ]
    },
    {
      "cell_type": "code",
      "metadata": {
        "id": "DOrEnj_b0UhR",
        "colab": {
          "base_uri": "https://localhost:8080/"
        },
        "outputId": "48571e58-e1ba-4b02-f572-9e6be5529e89"
      },
      "source": [
        "testdatasize = 1000\n",
        "\n",
        "(x_test, y_test) = gen_data(testdatasize)\n",
        "\n",
        "\n",
        "\n",
        "y_pred = model(x_test)\n",
        "\n",
        "somedata = np.random.choice(y_pred.shape[0], 5)\n",
        "\n",
        "for d in somedata:\n",
        "  print(y_pred[d]*180/np.pi, y_test[d]*180/np.pi)\n",
        "\n",
        "\n",
        "\n"
      ],
      "execution_count": 17,
      "outputs": [
        {
          "output_type": "stream",
          "name": "stdout",
          "text": [
            "tensor([-35.3920,  44.3963], grad_fn=<DivBackward0>) tensor([-35.0835,  43.6231])\n",
            "tensor([-21.2664,  43.8184], grad_fn=<DivBackward0>) tensor([-21.0515,  43.7945])\n",
            "tensor([-3.3050, 66.7756], grad_fn=<DivBackward0>) tensor([-2.9869, 65.0783])\n",
            "tensor([-99.1617,  68.2206], grad_fn=<DivBackward0>) tensor([-98.1612,  67.0104])\n",
            "tensor([-58.4592,  66.0113], grad_fn=<DivBackward0>) tensor([-58.0392,  64.3185])\n"
          ]
        }
      ]
    },
    {
      "cell_type": "code",
      "source": [
        "print(forward_kinematics(y_test[somedata]))\n",
        "print(forward_kinematics(y_pred[somedata]))\n",
        "\n",
        "mse = loss_fn(y_pred, y_test)\n",
        "print(mse)"
      ],
      "metadata": {
        "id": "R4M-bCEhNX83",
        "outputId": "4561d7b9-40f9-452c-8ff6-b887532b78fb",
        "colab": {
          "base_uri": "https://localhost:8080/"
        }
      },
      "execution_count": 18,
      "outputs": [
        {
          "output_type": "stream",
          "name": "stdout",
          "text": [
            "tensor([[ 0.5422, -0.1279],\n",
            "        [ 0.5567,  0.0082],\n",
            "        [ 0.4400,  0.2495],\n",
            "        [ 0.2142, -0.4521],\n",
            "        [ 0.4570, -0.2217]])\n",
            "tensor([[ 0.5409, -0.1268],\n",
            "        [ 0.5566,  0.0062],\n",
            "        [ 0.4335,  0.2511],\n",
            "        [ 0.2095, -0.4504],\n",
            "        [ 0.4543, -0.2163]], grad_fn=<StackBackward0>)\n",
            "tensor(0.0014, grad_fn=<MseLossBackward0>)\n"
          ]
        }
      ]
    },
    {
      "cell_type": "markdown",
      "metadata": {
        "id": "Di_LHbu5yxPL"
      },
      "source": [
        "## Teste verschiedene Trajektorien"
      ]
    },
    {
      "cell_type": "markdown",
      "metadata": {
        "id": "9z9JDtMeH5jK"
      },
      "source": [
        "### Hilfsfunktionen"
      ]
    },
    {
      "cell_type": "code",
      "metadata": {
        "id": "VYwdmG6VCRhV"
      },
      "source": [
        "# Gerade\n",
        "\n",
        "def gerade(x1, y1, x2, y2):\n",
        "  t = np.linspace(0,1)\n",
        "  x = x1 + t*(x2-x1)\n",
        "  y = y1 + t*(y2-y1)\n",
        "\n",
        "  return (x, y)\n",
        "\n",
        "\n",
        "def kreis(x0, y0, R):\n",
        "  t = np.linspace(0, 2*np.pi)\n",
        "  x = x0 + R*np.sin(t)\n",
        "  y = y0 + R*np.cos(t)\n",
        "\n",
        "  return (x,y)\n",
        "\n",
        "def parabelbogen(x1,y1,x2,y2):\n",
        "  t = np.linspace(0,1)\n",
        "  x = x1 + (x2-x1) * t\n",
        "  y = y1 + (y2-y1) * t*t\n",
        "\n",
        "  return (x,y)\n",
        "\n",
        "def plot_trajectory(t, figure=100, zoom=True):\n",
        "  (x, y) = t\n",
        "  plt.figure(figure)\n",
        "  plt.plot(x,y, label='soll')\n",
        "  X = torch.stack((torch.from_numpy(x), torch.from_numpy(y)), axis=1).float()\n",
        "  phipred = model(X)\n",
        "\n",
        "  pred = forward_kinematics(phipred).detach().numpy()\n",
        "\n",
        "  plt.plot(pred[:,0], pred[:,1], label='ist')\n",
        "  plt.grid(True)\n",
        "  plt.legend()\n",
        "  plt.gca().set_aspect(\"equal\")\n",
        "  dx = np.max(x) - np.min(x)\n",
        "  dy = np.max(y) - np.min(y)\n",
        "  if zoom:\n",
        "    plt.xlim(np.min(x)-0.1*dx, np.max(x)+0.1*dx)\n",
        "    plt.ylim(np.min(y)-0.1*dy, np.max(y)+0.1*dy)\n",
        "  else:\n",
        "    plt.xlim(-0.2, 0.6)\n",
        "    plt.ylim(-0.6, 0.4)\n",
        "\n",
        "\n",
        "\n"
      ],
      "execution_count": 19,
      "outputs": []
    },
    {
      "cell_type": "markdown",
      "metadata": {
        "id": "n7Mk3M_QIEIb"
      },
      "source": [
        "### Plot"
      ]
    },
    {
      "cell_type": "code",
      "metadata": {
        "id": "G2HaVpGqHo3f",
        "colab": {
          "base_uri": "https://localhost:8080/",
          "height": 1000
        },
        "outputId": "ef0531ff-9a7e-4d9e-f5b3-cb90ce3f1a26"
      },
      "source": [
        "# Alle in einen Plot\n",
        "plot_trajectory(gerade(0.4,-0.2, 0.5, -0.2), zoom=False)\n",
        "plot_trajectory(kreis(0.5, 0.1, 0.05), zoom=False)\n",
        "plot_trajectory(parabelbogen(0.2,-0.5, 0.5, 0.2), zoom=False)\n",
        "\n",
        "\n",
        "# Einzelplots gezoomt\n",
        "plot_trajectory(gerade(0.4,-0.2, 0.5, -0.2), figure=2)\n",
        "plot_trajectory(kreis(0.5, 0.1, 0.05), figure=3)\n",
        "plot_trajectory(parabelbogen(0.2,-0.5, 0.5, 0.2), figure=4)\n"
      ],
      "execution_count": 22,
      "outputs": [
        {
          "output_type": "stream",
          "name": "stderr",
          "text": [
            "<ipython-input-19-04d9bdc98465>:42: UserWarning: Attempting to set identical low and high ylims makes transformation singular; automatically expanding.\n",
            "  plt.ylim(np.min(y)-0.1*dy, np.max(y)+0.1*dy)\n"
          ]
        },
        {
          "output_type": "display_data",
          "data": {
            "text/plain": [
              "<Figure size 640x480 with 1 Axes>"
            ],
            "image/png": "[encoded data removed]"
          },
          "metadata": {}
        },
        {
          "output_type": "display_data",
          "data": {
            "text/plain": [
              "<Figure size 640x480 with 1 Axes>"
            ],
            "image/png": "[encoded data removed]"
          },
          "metadata": {}
        },
        {
          "output_type": "display_data",
          "data": {
            "text/plain": [
              "<Figure size 640x480 with 1 Axes>"
            ],
            "image/png": "[encoded data removed]"
          },
          "metadata": {}
        },
        {
          "output_type": "display_data",
          "data": {
            "text/plain": [
              "<Figure size 640x480 with 1 Axes>"
            ],
            "image/png": "[encoded data removed]"
          },
          "metadata": {}
        }
      ]
    }
  ]
}