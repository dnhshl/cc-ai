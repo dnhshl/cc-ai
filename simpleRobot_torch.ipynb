{
  "nbformat": 4,
  "nbformat_minor": 0,
  "metadata": {
    "colab": {
      "name": "Untitled0.ipynb",
      "provenance": [],
      "include_colab_link": true
    },
    "kernelspec": {
      "name": "python3",
      "display_name": "Python 3"
    },
    "accelerator": "GPU"
  },
  "cells": [
    {
      "cell_type": "markdown",
      "metadata": {
        "id": "view-in-github",
        "colab_type": "text"
      },
      "source": [
        "<a href=\"https://colab.research.google.com/github/dnhshl/cc-ai/blob/main/simpleRobot_torch.ipynb\" target=\"_parent\"><img src=\"https://colab.research.google.com/assets/colab-badge.svg\" alt=\"Open In Colab\"/></a>"
      ]
    },
    {
      "cell_type": "markdown",
      "metadata": {
        "id": "9boAgRMdmlVN"
      },
      "source": [
        "# simpleRobot\n",
        "Neuronales Netz zur Berechnung der inversen Kinematik eines (sehr einfachen) Roboters mit zwei Freiheitsgraden.\n",
        "\n",
        "Wir simulieren die Freiheitsgrade eines Armes, der sich im Schultergelenk und im Ellenbogengelenk drehen kann.\n",
        "\n",
        "\n"
      ]
    },
    {
      "cell_type": "markdown",
      "metadata": {
        "id": "esJpRHxSf0Bj"
      },
      "source": [
        "\n",
        "<img src='https://github.com/dnhshl/cc-ai/blob/main/images/robot.PNG?raw=1' width=\"500\">\n",
        "\n",
        "\n"
      ]
    },
    {
      "cell_type": "markdown",
      "metadata": {
        "id": "hKzvE7Roi9RU"
      },
      "source": [
        "Die kartesischen Koordinaten $(x,y)$ berechnen sich aus den Winkeln $q_1, q_2$ der Roboterarme wie folgt (bitte einmal selbst nachvollziehen!)\n",
        "\n",
        "$$\n",
        "x = l_1 \\cos(q_1) + l_2 \\cos(q_1 + q_2)\\\\\n",
        "$$\n",
        "$$\n",
        "y = l_1 \\sin(q_1) + l_2 \\sin(q_1 + q_2)\n",
        "$$\n",
        "\n",
        "Die Berechnung der Endposition des Roboterarms bei bekannten Winkeln nennt man **Vorwärtskinematik**. Das ist einfach.\n",
        "\n",
        "Komplizierter, aber in der Anwendung natürlich wichtiger, ist die **Rückwärtskinematik**. Welche Winkel muss ich einstellen, um eine bestimmte vorgegebene Position erreichen zu können. Für eine geschlossene Lösung müsste man die obigen Gleichungen nach $q_1$ und $q_2$ auflösen. Das ist nicht ganz einfach möglich.\n",
        "\n",
        "Wir wollen daher ein neuronales Netz trainieren, das diese Aufgabe für uns löst. Also\n",
        "\n",
        "  * Input $(x,y)$\n",
        "  * Output $(q_1, q_2)$.\n",
        "\n",
        "Das ist ein Regressionsproblem."
      ]
    },
    {
      "cell_type": "markdown",
      "metadata": {
        "id": "SIzhfha3lF_f"
      },
      "source": [
        "## Lade notwendige Libraries\n"
      ]
    },
    {
      "cell_type": "code",
      "metadata": {
        "id": "7VG9_6c-mkKe"
      },
      "source": [
        "import numpy as np\n",
        "import torch\n",
        "import torch.nn as nn\n",
        "import torch.optim as optim\n",
        "import matplotlib.pyplot as plt\n",
        "import copy\n"
      ],
      "execution_count": 2,
      "outputs": []
    },
    {
      "cell_type": "markdown",
      "metadata": {
        "id": "tjCih-kdsqgV"
      },
      "source": [
        "# Daten\n",
        "\n",
        "Generiere Trainingsdaten. Das ist hier sehr einfach, da bei bekannten Winkeln `q1` und `q2` die `x` und `y` Position berechnet werden kann. \n",
        "\n",
        "Der Oberarm kann im Schultergelenk ca. um einen Winkel `q1` zwischen -110 .. 20 Grad  und `q2` im Ellenbogengelenk zwischen 0 .. 90 Grad bewegt werden. Der Einfachheit halber nehmen wir weiterhin an, dass die Oberarmlänge `l1 = 30 cm` und die Unterarmlänge `l2 = 30 cm` sind."
      ]
    },
    {
      "cell_type": "markdown",
      "metadata": {
        "id": "RB-L_gMxqx6D"
      },
      "source": [
        "## Hilfsfunktion zur Berechnung der Vorwärts-Kinematik"
      ]
    },
    {
      "cell_type": "code",
      "metadata": {
        "id": "b8QFXDit65h4"
      },
      "source": [
        "# Berechne die Vorwärtskinematik. \n",
        "# Input ist ein (m,2) Tensor mit den Winkeln\n",
        "# Output ist ein (m,2) Tensor mit den karthesischen Koordinaten\n",
        "\n",
        "def forward_kinematics(q):\n",
        "\n",
        "  x = l1*torch.cos(q[:,0]) +l2*torch.cos(torch.sum(q,1))\n",
        "  y = l1*torch.sin(q[:,0]) +l2*torch.sin(torch.sum(q,1))\n",
        "  return torch.stack((x, y), axis=1)\n"
      ],
      "execution_count": 13,
      "outputs": []
    },
    {
      "cell_type": "markdown",
      "metadata": {
        "id": "QGSqHT2jhu6L"
      },
      "source": [
        "## OK, jetzt also die Trainingsdaten\n",
        "\n",
        "Wir generieren zufällige Trainingsdaten. \n",
        "Eine alternative Möglichkeit wäre, im (q1, q2) Koordinatensystem gleichmäßig zu samplen. Die Verteilung im karthesischen Koordinatensystem wäre dann aber nicht gleichmäßig."
      ]
    },
    {
      "cell_type": "code",
      "metadata": {
        "id": "iIbpicffnf5m",
        "outputId": "9b35eb94-3c66-42c8-9650-6d3d015f4c09",
        "colab": {
          "base_uri": "https://localhost:8080/"
        }
      },
      "source": [
        "l1 = 0.3  # Länge des ersten Roboterarms\n",
        "l2 = 0.3  # Länge des zweiten Roboterarms\n",
        "\n",
        "n = 20000 # Wie viele Traingsdaten sollen generiert werden?\n",
        "\n",
        "\n",
        "def gen_data(size):\n",
        "\n",
        "  # q1 im Bereich von -110 .. 20 Grad \n",
        "  q1 = (torch.rand(size) * 130 - 110) / 180 * torch.pi\n",
        "\n",
        "  # q2 im Bereich von 0 .. 90 Grad \n",
        "  q2 = (torch.rand(size) * 90) / 180 * torch.pi\n",
        "\n",
        "  # Kombiniere Vektoren als Matrix\n",
        "  y = torch.stack([q1,q2]).T\n",
        "\n",
        "  # Berechne x und y\n",
        "  x = forward_kinematics(y)\n",
        "\n",
        "  return(x, y)\n",
        "\n",
        "\n",
        "(x, y) = gen_data(n)\n",
        "\n",
        "# Da einige Datenpunkte entfernt wurden: Wieviele Trainingsdaten haben wir?\n",
        "\n",
        "\n",
        "# Wir geben ein paar der Trainingsdaten aus\n",
        "\n",
        "somedata = np.random.choice(y.shape[0], 5)\n",
        "\n",
        "print(x[somedata])\n",
        "print(y[somedata]*180/np.pi)\n",
        "\n",
        "\n",
        "\n"
      ],
      "execution_count": 88,
      "outputs": [
        {
          "output_type": "stream",
          "name": "stdout",
          "text": [
            "tensor([[ 0.4800, -0.3012],\n",
            "        [-0.0844, -0.5867],\n",
            "        [ 0.2956,  0.3382],\n",
            "        [ 0.5772, -0.1444],\n",
            "        [ 0.5608,  0.0316]])\n",
            "tensor([[ -51.2945,   38.3703],\n",
            "        [-107.1356,   17.9032],\n",
            "        [   7.3117,   83.0646],\n",
            "        [ -21.4688,   14.8423],\n",
            "        [ -17.3510,   41.1600]])\n"
          ]
        }
      ]
    },
    {
      "cell_type": "markdown",
      "metadata": {
        "id": "kRzODsqJmVyB"
      },
      "source": [
        "## Welcher Bereich `(x, y)` kann vom Roboter erreicht werden?"
      ]
    },
    {
      "cell_type": "code",
      "metadata": {
        "id": "HSJjIKamvhV1",
        "outputId": "b5b41e3e-1f9e-4b1b-f875-760645cca3d8",
        "colab": {
          "base_uri": "https://localhost:8080/",
          "height": 279
        }
      },
      "source": [
        "\n",
        "def plot_range():\n",
        "  plt.figure(1)\n",
        "  plt.scatter(x[:,0], x[:,1])\n",
        "  plt.xlabel('x')\n",
        "  plt.ylabel('y')\n",
        "  #plt.xlim(0,2.5)\n",
        "  plt.grid(True)\n",
        "  plt.gca().set_aspect(\"equal\")\n",
        "\n",
        "\n",
        "plot_range()"
      ],
      "execution_count": 21,
      "outputs": [
        {
          "output_type": "display_data",
          "data": {
            "text/plain": [
              "<Figure size 432x288 with 1 Axes>"
            ],
            "image/png": "[encoded data removed]"
          },
          "metadata": {
            "needs_background": "light"
          }
        }
      ]
    },
    {
      "cell_type": "markdown",
      "metadata": {
        "id": "KcBfGA3EkHrY"
      },
      "source": [
        "# NN\n",
        "\n",
        "Zwei Fully Connected Layer.\n",
        "\n",
        "Als Fehlerfunktion wird der quadratische Fehler genutzt. Sie können auch [andere Loss Functions](https://keras.io/api/losses/) ausprobieren.\n",
        "\n",
        "Testen Sie auch verschiedene [Optimizer](https://keras.io/api/optimizers/).\n",
        "\n",
        "Testen Sie auch alternative Anzahlen von Layern und Layergrößen."
      ]
    },
    {
      "cell_type": "markdown",
      "metadata": {
        "id": "wGXx8H8NsP8T"
      },
      "source": [
        "## Netzwerkmodell"
      ]
    },
    {
      "cell_type": "code",
      "source": [
        "import torch.nn as nn\n",
        "\n",
        "# Define the model\n",
        "model = nn.Sequential(\n",
        "    nn.Linear(2, 30),\n",
        "    nn.Tanh(),\n",
        "    nn.Linear(30, 20),\n",
        "    nn.Tanh(),\n",
        "    nn.Linear(20, 2)\n",
        ")\n"
      ],
      "metadata": {
        "id": "Up_aobaw6HKS"
      },
      "execution_count": 89,
      "outputs": []
    },
    {
      "cell_type": "code",
      "source": [
        "# loss function and optimizer\n",
        "loss_fn = nn.MSELoss()  # mean square error\n",
        "optimizer = optim.Adam(model.parameters(), lr=0.01)"
      ],
      "metadata": {
        "id": "1daEcbZyC9Na"
      },
      "execution_count": 90,
      "outputs": []
    },
    {
      "cell_type": "code",
      "source": [
        "import tqdm\n",
        "from sklearn.model_selection import train_test_split\n",
        "\n",
        "# train-validation split of the dataset\n",
        "x_train, x_valid, y_train, y_valid = train_test_split(x, y, train_size=0.7, shuffle=True)\n"
      ],
      "metadata": {
        "id": "el3JUoUSDO54"
      },
      "execution_count": 91,
      "outputs": []
    },
    {
      "cell_type": "code",
      "source": [
        "# training parameters\n",
        "n_epochs = 50   # number of epochs to run\n",
        "batch_size = 256  # size of each batch\n",
        "batch_start = torch.arange(0, len(x_train), batch_size)\n",
        "\n",
        "# Hold the best model\n",
        "best_mse = np.inf   # init to infinity\n",
        "best_weights = None\n",
        "history = []\n",
        " \n",
        "# training loop\n",
        "for epoch in range(n_epochs):\n",
        "    model.train()\n",
        "    with tqdm.tqdm(batch_start, unit=\"batch\", mininterval=0, disable=False) as bar:\n",
        "        bar.set_description(f\"Epoch {epoch}\")\n",
        "        for start in bar:\n",
        "            # take a batch\n",
        "            x_batch = x_train[start:start+batch_size]\n",
        "            y_batch = y_train[start:start+batch_size]\n",
        "            # forward pass\n",
        "            y_pred = model(x_batch)\n",
        "            loss = loss_fn(y_pred, y_batch)\n",
        "            # backward pass\n",
        "            optimizer.zero_grad()\n",
        "            loss.backward()\n",
        "            # update weights\n",
        "            optimizer.step()\n",
        "            # print progress\n",
        "            bar.set_postfix(mse=float(loss))\n",
        "    # evaluate accuracy at end of each epoch\n",
        "    model.eval()\n",
        "    y_pred = model(x_valid)\n",
        "    mse = loss_fn(y_pred, y_valid)\n",
        "    mse = float(mse)\n",
        "    history.append(mse)\n",
        "    if mse < best_mse:\n",
        "        best_mse = mse\n",
        "        best_weights = copy.deepcopy(model.state_dict())\n",
        " \n",
        "# restore model and return best accuracy\n",
        "model.load_state_dict(best_weights)"
      ],
      "metadata": {
        "id": "so3TpzeDEfha",
        "outputId": "e5c1dcdf-1724-4cf9-d7be-efd1de9d6a42",
        "colab": {
          "base_uri": "https://localhost:8080/"
        }
      },
      "execution_count": 92,
      "outputs": [
        {
          "output_type": "stream",
          "name": "stderr",
          "text": [
            "Epoch 0: 100%|██████████| 55/55 [00:00<00:00, 165.00batch/s, mse=0.0981]\n",
            "Epoch 1: 100%|██████████| 55/55 [00:00<00:00, 214.71batch/s, mse=0.0724]\n",
            "Epoch 2: 100%|██████████| 55/55 [00:00<00:00, 219.29batch/s, mse=0.0386]\n",
            "Epoch 3: 100%|██████████| 55/55 [00:00<00:00, 217.66batch/s, mse=0.0177]\n",
            "Epoch 4: 100%|██████████| 55/55 [00:00<00:00, 218.14batch/s, mse=0.0129]\n",
            "Epoch 5: 100%|██████████| 55/55 [00:00<00:00, 167.00batch/s, mse=0.01]\n",
            "Epoch 6: 100%|██████████| 55/55 [00:00<00:00, 196.47batch/s, mse=0.00886]\n",
            "Epoch 7: 100%|██████████| 55/55 [00:00<00:00, 210.35batch/s, mse=0.00759]\n",
            "Epoch 8: 100%|██████████| 55/55 [00:00<00:00, 162.59batch/s, mse=0.00657]\n",
            "Epoch 9: 100%|██████████| 55/55 [00:00<00:00, 213.39batch/s, mse=0.00579]\n",
            "Epoch 10: 100%|██████████| 55/55 [00:00<00:00, 92.35batch/s, mse=0.00522] \n",
            "Epoch 11: 100%|██████████| 55/55 [00:00<00:00, 184.10batch/s, mse=0.00482]\n",
            "Epoch 12: 100%|██████████| 55/55 [00:00<00:00, 188.79batch/s, mse=0.00455]\n",
            "Epoch 13: 100%|██████████| 55/55 [00:00<00:00, 184.46batch/s, mse=0.00438]\n",
            "Epoch 14: 100%|██████████| 55/55 [00:00<00:00, 184.25batch/s, mse=0.00425]\n",
            "Epoch 15: 100%|██████████| 55/55 [00:00<00:00, 187.85batch/s, mse=0.00414]\n",
            "Epoch 16: 100%|██████████| 55/55 [00:00<00:00, 226.18batch/s, mse=0.00403]\n",
            "Epoch 17: 100%|██████████| 55/55 [00:00<00:00, 237.88batch/s, mse=0.00392]\n",
            "Epoch 18: 100%|██████████| 55/55 [00:00<00:00, 235.27batch/s, mse=0.00381]\n",
            "Epoch 19: 100%|██████████| 55/55 [00:00<00:00, 235.81batch/s, mse=0.00371]\n",
            "Epoch 20: 100%|██████████| 55/55 [00:00<00:00, 244.79batch/s, mse=0.0036]\n",
            "Epoch 21: 100%|██████████| 55/55 [00:00<00:00, 199.65batch/s, mse=0.00348]\n",
            "Epoch 22: 100%|██████████| 55/55 [00:00<00:00, 250.29batch/s, mse=0.00335]\n",
            "Epoch 23: 100%|██████████| 55/55 [00:00<00:00, 98.27batch/s, mse=0.00322]\n",
            "Epoch 24: 100%|██████████| 55/55 [00:00<00:00, 220.05batch/s, mse=0.00309]\n",
            "Epoch 25: 100%|██████████| 55/55 [00:00<00:00, 208.99batch/s, mse=0.00295]\n",
            "Epoch 26: 100%|██████████| 55/55 [00:00<00:00, 209.69batch/s, mse=0.00281]\n",
            "Epoch 27: 100%|██████████| 55/55 [00:00<00:00, 209.74batch/s, mse=0.00267]\n",
            "Epoch 28: 100%|██████████| 55/55 [00:00<00:00, 196.68batch/s, mse=0.00254]\n",
            "Epoch 29: 100%|██████████| 55/55 [00:00<00:00, 189.32batch/s, mse=0.00241]\n",
            "Epoch 30: 100%|██████████| 55/55 [00:00<00:00, 127.19batch/s, mse=0.00228]\n",
            "Epoch 31: 100%|██████████| 55/55 [00:00<00:00, 193.27batch/s, mse=0.00215]\n",
            "Epoch 32: 100%|██████████| 55/55 [00:00<00:00, 190.38batch/s, mse=0.00203]\n",
            "Epoch 33: 100%|██████████| 55/55 [00:00<00:00, 194.70batch/s, mse=0.00192]\n",
            "Epoch 34: 100%|██████████| 55/55 [00:00<00:00, 199.17batch/s, mse=0.00182]\n",
            "Epoch 35: 100%|██████████| 55/55 [00:00<00:00, 97.05batch/s, mse=0.00173] \n",
            "Epoch 36: 100%|██████████| 55/55 [00:00<00:00, 210.61batch/s, mse=0.00165]\n",
            "Epoch 37: 100%|██████████| 55/55 [00:00<00:00, 136.98batch/s, mse=0.00158]\n",
            "Epoch 38: 100%|██████████| 55/55 [00:00<00:00, 162.66batch/s, mse=0.00151]\n",
            "Epoch 39: 100%|██████████| 55/55 [00:00<00:00, 215.40batch/s, mse=0.00146]\n",
            "Epoch 40: 100%|██████████| 55/55 [00:00<00:00, 196.65batch/s, mse=0.00141]\n",
            "Epoch 41: 100%|██████████| 55/55 [00:00<00:00, 206.96batch/s, mse=0.00137]\n",
            "Epoch 42: 100%|██████████| 55/55 [00:00<00:00, 209.09batch/s, mse=0.00133]\n",
            "Epoch 43: 100%|██████████| 55/55 [00:00<00:00, 230.23batch/s, mse=0.00129]\n",
            "Epoch 44: 100%|██████████| 55/55 [00:00<00:00, 231.36batch/s, mse=0.00126]\n",
            "Epoch 45: 100%|██████████| 55/55 [00:00<00:00, 148.21batch/s, mse=0.00123]\n",
            "Epoch 46: 100%|██████████| 55/55 [00:00<00:00, 232.56batch/s, mse=0.0012]\n",
            "Epoch 47: 100%|██████████| 55/55 [00:00<00:00, 216.82batch/s, mse=0.00118]\n",
            "Epoch 48: 100%|██████████| 55/55 [00:00<00:00, 232.08batch/s, mse=0.00116]\n",
            "Epoch 49: 100%|██████████| 55/55 [00:00<00:00, 171.70batch/s, mse=0.00114]\n"
          ]
        },
        {
          "output_type": "execute_result",
          "data": {
            "text/plain": [
              "<All keys matched successfully>"
            ]
          },
          "metadata": {},
          "execution_count": 92
        }
      ]
    },
    {
      "cell_type": "code",
      "source": [
        "history"
      ],
      "metadata": {
        "id": "lVsZsz20GywE",
        "outputId": "f4b837ce-ae71-441a-ac56-79cf6d0096bc",
        "colab": {
          "base_uri": "https://localhost:8080/"
        }
      },
      "execution_count": 93,
      "outputs": [
        {
          "output_type": "execute_result",
          "data": {
            "text/plain": [
              "[0.10898158699274063,\n",
              " 0.08205578476190567,\n",
              " 0.04460623115301132,\n",
              " 0.017265725880861282,\n",
              " 0.013023147359490395,\n",
              " 0.012508509680628777,\n",
              " 0.011110389605164528,\n",
              " 0.009329618886113167,\n",
              " 0.008022681809961796,\n",
              " 0.006945079658180475,\n",
              " 0.006004554685205221,\n",
              " 0.005193344783037901,\n",
              " 0.004544059280306101,\n",
              " 0.004050049930810928,\n",
              " 0.003673823084682226,\n",
              " 0.0033765246625989676,\n",
              " 0.003134499303996563,\n",
              " 0.002936237957328558,\n",
              " 0.0027744292747229338,\n",
              " 0.0026429893914610147,\n",
              " 0.002536737360060215,\n",
              " 0.002451057778671384,\n",
              " 0.002381992759183049,\n",
              " 0.002325797686353326,\n",
              " 0.0022789561189711094,\n",
              " 0.0022386035416275263,\n",
              " 0.0022030395921319723,\n",
              " 0.0021715727634727955,\n",
              " 0.0021442659199237823,\n",
              " 0.0021212082356214523,\n",
              " 0.0021023559384047985,\n",
              " 0.002087137894704938,\n",
              " 0.0020746595691889524,\n",
              " 0.002063826657831669,\n",
              " 0.0020535746589303017,\n",
              " 0.002043144777417183,\n",
              " 0.0020320024341344833,\n",
              " 0.0020199778955429792,\n",
              " 0.0020070946775376797,\n",
              " 0.0019934894517064095,\n",
              " 0.0019795200787484646,\n",
              " 0.001965207513421774,\n",
              " 0.0019504964584484696,\n",
              " 0.0019349855137988925,\n",
              " 0.0019179456867277622,\n",
              " 0.001898252754472196,\n",
              " 0.0018744722474366426,\n",
              " 0.0018446550238877535,\n",
              " 0.001806624117307365,\n",
              " 0.0017585662426427007]"
            ]
          },
          "metadata": {},
          "execution_count": 93
        }
      ]
    },
    {
      "cell_type": "code",
      "source": [
        "print(\"MSE: %.2f\" % best_mse)\n",
        "print(\"RMSE: %.2f\" % np.sqrt(best_mse))\n",
        "plt.plot(history)\n",
        "plt.show()"
      ],
      "metadata": {
        "id": "pAC9g6v8H3P-",
        "outputId": "980f06ff-4e5f-433d-91f9-5a22b7e5075a",
        "colab": {
          "base_uri": "https://localhost:8080/",
          "height": 300
        }
      },
      "execution_count": 94,
      "outputs": [
        {
          "output_type": "stream",
          "name": "stdout",
          "text": [
            "MSE: 0.00\n",
            "RMSE: 0.04\n"
          ]
        },
        {
          "output_type": "display_data",
          "data": {
            "text/plain": [
              "<Figure size 432x288 with 1 Axes>"
            ],
            "image/png": "[encoded data removed]"
          },
          "metadata": {
            "needs_background": "light"
          }
        }
      ]
    },
    {
      "cell_type": "markdown",
      "metadata": {
        "id": "PGUAL1Ve2Xav"
      },
      "source": [
        "## Trainingsparameter"
      ]
    },
    {
      "cell_type": "code",
      "metadata": {
        "id": "DOrEnj_b0UhR",
        "outputId": "e5fd6e27-5470-452e-ce99-58fb39094cf2",
        "colab": {
          "base_uri": "https://localhost:8080/"
        }
      },
      "source": [
        "testdatasize = 1000\n",
        "\n",
        "(x_test, y_test) = gen_data(testdatasize)\n",
        "\n",
        "\n",
        "\n",
        "y_pred = model(x_test)\n",
        "\n",
        "somedata = np.random.choice(y_pred.shape[0], 5)\n",
        "\n",
        "for d in somedata:\n",
        "  print(y_pred[d]*180/np.pi, y_test[d]*180/np.pi)\n",
        "\n",
        "print(forward_kinematics(y_test[somedata]))\n",
        "\n",
        "print(forward_kinematics(y_pred[somedata]))\n",
        "\n",
        "mse = loss_fn(y_pred, y_test)\n",
        "print(mse)"
      ],
      "execution_count": 95,
      "outputs": [
        {
          "output_type": "stream",
          "name": "stdout",
          "text": [
            "tensor([-43.5870,  70.5919], grad_fn=<DivBackward0>) tensor([-42.3019,  68.7561])\n",
            "tensor([-84.1754,  23.4371], grad_fn=<DivBackward0>) tensor([-83.6139,  24.8841])\n",
            "tensor([14.7946, 55.4964], grad_fn=<DivBackward0>) tensor([14.7751, 55.0450])\n",
            "tensor([-47.7174,  18.8241], grad_fn=<DivBackward0>) tensor([-46.8262,  19.4290])\n",
            "tensor([-54.5681,  80.2643], grad_fn=<DivBackward0>) tensor([-53.5582,  79.2944])\n",
            "tensor([[ 0.4905, -0.0683],\n",
            "        [ 0.1891, -0.5546],\n",
            "        [ 0.3936,  0.3581],\n",
            "        [ 0.4716, -0.3568],\n",
            "        [ 0.4484, -0.1111]])\n",
            "tensor([[ 0.4846, -0.0706],\n",
            "        [ 0.1771, -0.5602],\n",
            "        [ 0.3912,  0.3590],\n",
            "        [ 0.4645, -0.3669],\n",
            "        [ 0.4443, -0.1144]], grad_fn=<StackBackward0>)\n",
            "tensor(0.0017, grad_fn=<MseLossBackward0>)\n"
          ]
        }
      ]
    },
    {
      "cell_type": "markdown",
      "metadata": {
        "id": "Di_LHbu5yxPL"
      },
      "source": [
        "## Teste verschiedene Trajektorien"
      ]
    },
    {
      "cell_type": "markdown",
      "metadata": {
        "id": "9z9JDtMeH5jK"
      },
      "source": [
        "### Hilfsfunktionen"
      ]
    },
    {
      "cell_type": "code",
      "metadata": {
        "id": "VYwdmG6VCRhV"
      },
      "source": [
        "# Gerade\n",
        "\n",
        "def gerade(x1, y1, x2, y2):\n",
        "  t = np.linspace(0,1)\n",
        "  x = x1 + t*(x2-x1)\n",
        "  y = y1 + t*(y2-y1)\n",
        "\n",
        "  return (x, y)\n",
        "\n",
        "\n",
        "def kreis(x0, y0, R):\n",
        "  t = np.linspace(0, 2*np.pi)\n",
        "  x = x0 + R*np.sin(t)\n",
        "  y = y0 + R*np.cos(t)\n",
        "\n",
        "  return (x,y)\n",
        "\n",
        "def parabelbogen(x1,y1,x2,y2):\n",
        "  t = np.linspace(0,1)\n",
        "  x = x1 + (x2-x1) * t\n",
        "  y = y1 + (y2-y1) * t*t \n",
        "\n",
        "  return (x,y)\n",
        "\n",
        "def plot_trajectory(t, figure=100, zoom=True):\n",
        "  (x, y) = t\n",
        "  plt.figure(figure)\n",
        "  plt.plot(x,y, label='soll')\n",
        "  X = torch.stack((torch.from_numpy(x), torch.from_numpy(y)), axis=1).float()\n",
        "  phipred = model(X)\n",
        "\n",
        "  pred = forward_kinematics(phipred).detach().numpy()\n",
        "\n",
        "  plt.plot(pred[:,0], pred[:,1], label='ist')\n",
        "  plt.grid(True)\n",
        "  plt.legend()\n",
        "  plt.gca().set_aspect(\"equal\")\n",
        "  dx = np.max(x) - np.min(x)\n",
        "  dy = np.max(y) - np.min(y)\n",
        "  if zoom:\n",
        "    plt.xlim(np.min(x)-0.1*dx, np.max(x)+0.1*dx)\n",
        "    plt.ylim(np.min(y)-0.1*dy, np.max(y)+0.1*dy)\n",
        "  else: \n",
        "    plt.xlim(-0.2, 0.6)\n",
        "    plt.ylim(-0.6, 0.4) \n",
        "\n",
        "\n",
        "\n"
      ],
      "execution_count": 96,
      "outputs": []
    },
    {
      "cell_type": "markdown",
      "metadata": {
        "id": "n7Mk3M_QIEIb"
      },
      "source": [
        "### Plot"
      ]
    },
    {
      "cell_type": "code",
      "metadata": {
        "id": "G2HaVpGqHo3f",
        "outputId": "16501821-51ae-46fd-e4b6-095f3a202b63",
        "colab": {
          "base_uri": "https://localhost:8080/",
          "height": 891
        }
      },
      "source": [
        "# Alle in einen Plot\n",
        "plot_trajectory(gerade(0.4,-0.2, 0.5, -0.2), zoom=False)\n",
        "plot_trajectory(kreis(0.5, 0.1, 0.05), zoom=False)\n",
        "plot_trajectory(parabelbogen(0.2,-0.5, 0.5, 0.2), zoom=False)\n",
        "\n",
        "\n",
        "# Einzelplots gezoomt\n",
        "plot_trajectory(gerade(0.4,-0.2, 0.5, -0.2), figure=2)\n",
        "plot_trajectory(kreis(0.5, 0.1, 0.05), figure=3)\n",
        "plot_trajectory(parabelbogen(0.2,-0.5, 0.5, 0.2), figure=4)\n"
      ],
      "execution_count": 97,
      "outputs": [
        {
          "output_type": "stream",
          "name": "stderr",
          "text": [
            "<ipython-input-96-04d9bdc98465>:42: UserWarning: Attempting to set identical bottom == top == -0.2 results in singular transformations; automatically expanding.\n",
            "  plt.ylim(np.min(y)-0.1*dy, np.max(y)+0.1*dy)\n"
          ]
        },
        {
          "output_type": "display_data",
          "data": {
            "text/plain": [
              "<Figure size 432x288 with 1 Axes>"
            ],
            "image/png": "[encoded data removed]"
          },
          "metadata": {
            "needs_background": "light"
          }
        },
        {
          "output_type": "display_data",
          "data": {
            "text/plain": [
              "<Figure size 432x288 with 1 Axes>"
            ],
            "image/png": "[encoded data removed]"
          },
          "metadata": {
            "needs_background": "light"
          }
        },
        {
          "output_type": "display_data",
          "data": {
            "text/plain": [
              "<Figure size 432x288 with 1 Axes>"
            ],
            "image/png": "[encoded data removed]"
          },
          "metadata": {
            "needs_background": "light"
          }
        },
        {
          "output_type": "display_data",
          "data": {
            "text/plain": [
              "<Figure size 432x288 with 1 Axes>"
            ],
            "image/png": "[encoded data removed]"
          },
          "metadata": {
            "needs_background": "light"
          }
        }
      ]
    }
  ]
}