{
  "nbformat": 4,
  "nbformat_minor": 0,
  "metadata": {
    "colab": {
      "name": "Untitled0.ipynb",
      "provenance": []
    },
    "kernelspec": {
      "name": "python3",
      "display_name": "Python 3"
    },
    "accelerator": "GPU"
  },
  "cells": [
    {
      "cell_type": "markdown",
      "metadata": {
        "id": "9boAgRMdmlVN"
      },
      "source": [
        "# simpleRobot\n",
        "Neuronales Netz zur Berechnung der inversen Kinematik eines (sehr einfachen) Roboters mit zwei Freiheitsgraden.\n",
        "\n",
        "Wir simulieren die Freiheitsgrade eines Armes, der sich im Schultergelenk und im Ellenbogengelenk drehen kann.\n",
        "\n",
        "\n"
      ]
    },
    {
      "cell_type": "markdown",
      "metadata": {
        "id": "esJpRHxSf0Bj"
      },
      "source": [
        "\n",
        "<img src='https://github.com/dnhshl/cc-ai/blob/main/images/robot.PNG?raw=1' width=\"500\">\n",
        "\n",
        "\n"
      ]
    },
    {
      "cell_type": "markdown",
      "metadata": {
        "id": "hKzvE7Roi9RU"
      },
      "source": [
        "Die kartesischen Koordinaten $(x,y)$ berechnen sich aus den Winkeln $q_1, q_2$ der Roboterarme wie folgt (bitte einmal selbst nachvollziehen!)\n",
        "\n",
        "$$\n",
        "x = l_1 \\cos(q_1) + l_2 \\cos(q_1 + q_2)\\\\\n",
        "$$\n",
        "$$\n",
        "y = l_1 \\sin(q_1) + l_2 \\sin(q_1 + q_2)\n",
        "$$\n",
        "\n",
        "Die Berechnung der Endposition des Roboterarms bei bekannten Winkeln nennt man **Vorwärtskinematik**. Das ist einfach.\n",
        "\n",
        "Komplizierter, aber in der Anwendung natürlich wichtiger, ist die **Rückwärtskinematik**. Welche Winkel muss ich einstellen, um eine bestimmte vorgegebene Position erreichen zu können. Für eine geschlossene Lösung müsste man die obigen Gleichungen nach $q_1$ und $q_2$ auflösen. Das ist nicht ganz einfach möglich.\n",
        "\n",
        "Wir wollen daher ein neuronales Netz trainieren, das diese Aufgabe für uns löst. Also\n",
        "\n",
        "  * Input $(x,y)$\n",
        "  * Output $(q_1, q_2)$.\n",
        "\n",
        "Das ist ein Regressionsproblem."
      ]
    },
    {
      "cell_type": "markdown",
      "metadata": {
        "id": "SIzhfha3lF_f"
      },
      "source": [
        "## Lade notwendige Libraries\n"
      ]
    },
    {
      "cell_type": "code",
      "metadata": {
        "id": "7VG9_6c-mkKe"
      },
      "source": [
        "import numpy as np\n",
        "import torch\n",
        "import torch.nn as nn\n",
        "import torch.optim as optim\n",
        "import matplotlib.pyplot as plt\n",
        "import copy\n",
        "import tqdm\n",
        "from sklearn.model_selection import train_test_split"
      ],
      "execution_count": 1,
      "outputs": []
    },
    {
      "cell_type": "markdown",
      "metadata": {
        "id": "tjCih-kdsqgV"
      },
      "source": [
        "# Daten\n",
        "\n",
        "Generiere Trainingsdaten. Das ist hier sehr einfach, da bei bekannten Winkeln `q1` und `q2` die `x` und `y` Position berechnet werden kann. \n",
        "\n",
        "Der Oberarm kann im Schultergelenk ca. um einen Winkel `q1` zwischen -110 .. 20 Grad  und `q2` im Ellenbogengelenk zwischen 0 .. 90 Grad bewegt werden. Der Einfachheit halber nehmen wir weiterhin an, dass die Oberarmlänge `l1 = 30 cm` und die Unterarmlänge `l2 = 30 cm` sind."
      ]
    },
    {
      "cell_type": "markdown",
      "metadata": {
        "id": "RB-L_gMxqx6D"
      },
      "source": [
        "## Hilfsfunktion zur Berechnung der Vorwärts-Kinematik"
      ]
    },
    {
      "cell_type": "code",
      "metadata": {
        "id": "b8QFXDit65h4"
      },
      "source": [
        "l1 = 0.3  # Länge des ersten Roboterarms\n",
        "l2 = 0.3  # Länge des zweiten Roboterarms\n",
        "\n",
        "# Berechne die Vorwärtskinematik. \n",
        "# Input ist ein (m,2) Tensor mit den Winkeln\n",
        "# Output ist ein (m,2) Tensor mit den karthesischen Koordinaten\n",
        "\n",
        "def forward_kinematics(q):\n",
        "\n",
        "  x = l1*torch.cos(q[:,0]) +l2*torch.cos(torch.sum(q,1))\n",
        "  y = l1*torch.sin(q[:,0]) +l2*torch.sin(torch.sum(q,1))\n",
        "  return torch.stack((x, y), axis=1)"
      ],
      "execution_count": 2,
      "outputs": []
    },
    {
      "cell_type": "markdown",
      "source": [
        "Anmerkung: Die KI Frameworks (PyTorch, Tensorflow) arbeiten immer mit **Tensoren**. Tensoren sind einfach gesprochen eine Verallgemeinerung von Vektoren / Matrizen, also eine Anordnung von Zahlen entlang n Achsen. Die Zahl n heißt die Stufe des Tensors. Vektoren sind also Tensoren erster Stufe und Matrizen Tensoren zweiter Stufe. Einzelne Zahlen nennt man auch Tensoren nullter Stufe oder Skalare. n kann aber auch höherdimensional (3, 4, ...) sein. \n",
        "Die Frameworks sind so programmiert, dass mit Tensoren effizient gerechnet werden kann. Es sind keine for-Schleifen notwendig, um über alle Zahlen eines Tensors zu iterieren, sondern die Operationen auf den Zahlen eines Tensors können (auf entsprechender Hardware wie Grafikkarten) alle quasi parallel durchgeführt werden."
      ],
      "metadata": {
        "id": "qn7pQ6uNJYnF"
      }
    },
    {
      "cell_type": "markdown",
      "metadata": {
        "id": "QGSqHT2jhu6L"
      },
      "source": [
        "## OK, jetzt also die Trainingsdaten\n",
        "\n",
        "Wir generieren zufällige Trainingsdaten. \n",
        "Eine alternative Möglichkeit wäre, im (q1, q2) Koordinatensystem gleichmäßig zu samplen. Die Verteilung im karthesischen Koordinatensystem wäre dann aber nicht gleichmäßig."
      ]
    },
    {
      "cell_type": "code",
      "metadata": {
        "id": "iIbpicffnf5m"
      },
      "source": [
        "# Hilfsfunktion zur Generierung von n zufälligen Trainingsdaten (x, y)\n",
        "# x ist die Position (x1, x2) im Koordinatensystem\n",
        "# y sind die Winkel (q1, q2), die eingestellt werden müssen,\n",
        "# um diese Position anzufahren.\n",
        "\n",
        "def gen_data(n):\n",
        "\n",
        "  # q1 im Bereich von -110 .. 20 Grad \n",
        "  q1 = (torch.rand(n) * 130 - 110) / 180 * torch.pi\n",
        "\n",
        "  # q2 im Bereich von 0 .. 90 Grad \n",
        "  q2 = (torch.rand(n) * 90) / 180 * torch.pi\n",
        "\n",
        "  # Kombiniere Vektoren als Matrix\n",
        "  y = torch.stack([q1,q2]).T\n",
        "\n",
        "  # Berechne x und y\n",
        "  x = forward_kinematics(y)\n",
        "\n",
        "  return(x, y)"
      ],
      "execution_count": 3,
      "outputs": []
    },
    {
      "cell_type": "code",
      "source": [
        "n = 20000 # Wie viele Traingsdaten sollen generiert werden?\n",
        "(x, y) = gen_data(n)\n",
        "\n",
        "# Wir geben ein paar der Trainingsdaten aus\n",
        "somedata = np.random.choice(y.shape[0], 5)\n",
        "\n",
        "print(x[somedata])\n",
        "print(y[somedata]*180/np.pi)"
      ],
      "metadata": {
        "id": "hwLELdMtKqVm",
        "outputId": "018d7aff-aa5f-4210-848e-68ff8d4f7148",
        "colab": {
          "base_uri": "https://localhost:8080/"
        }
      },
      "execution_count": 4,
      "outputs": [
        {
          "output_type": "stream",
          "name": "stdout",
          "text": [
            "tensor([[ 0.1983, -0.5329],\n",
            "        [ 0.5185, -0.2737],\n",
            "        [ 0.3908,  0.3114],\n",
            "        [-0.0455, -0.5847],\n",
            "        [ 0.4145,  0.3479]])\n",
            "tensor([[ -88.2086,   37.2351],\n",
            "        [ -40.0746,   24.5022],\n",
            "        [   4.9310,   67.2250],\n",
            "        [-106.6315,   24.3580],\n",
            "        [  14.4137,   51.1765]])\n"
          ]
        }
      ]
    },
    {
      "cell_type": "markdown",
      "metadata": {
        "id": "kRzODsqJmVyB"
      },
      "source": [
        "## Welcher Bereich `(x1, x2)` kann vom Roboter erreicht werden?"
      ]
    },
    {
      "cell_type": "code",
      "metadata": {
        "id": "HSJjIKamvhV1",
        "colab": {
          "base_uri": "https://localhost:8080/",
          "height": 279
        },
        "outputId": "a31c5b55-660e-482d-8a6a-d7505be054e6"
      },
      "source": [
        "\n",
        "def plot_range():\n",
        "  plt.figure(1)\n",
        "  plt.scatter(x[:,0], x[:,1])\n",
        "  plt.xlabel('x1')\n",
        "  plt.ylabel('x2')\n",
        "  #plt.xlim(0,2.5)\n",
        "  plt.grid(True)\n",
        "  plt.gca().set_aspect(\"equal\")\n",
        "\n",
        "\n",
        "plot_range()"
      ],
      "execution_count": 5,
      "outputs": [
        {
          "output_type": "display_data",
          "data": {
            "text/plain": [
              "<Figure size 432x288 with 1 Axes>"
            ],
            "image/png": "[encoded data removed]"
          },
          "metadata": {
            "needs_background": "light"
          }
        }
      ]
    },
    {
      "cell_type": "markdown",
      "metadata": {
        "id": "KcBfGA3EkHrY"
      },
      "source": [
        "# Festlegung unseres Modells\n",
        "\n",
        "Wir wollen ein Neuronales Netz mit einem hidden Layer verwenden.\n",
        "Zwei Fully Connected Layer.\n",
        "\n",
        "Als Fehlerfunktion wird der quadratische Fehler genutzt. Sie können auch [andere Loss Functions](https://pytorch.org/docs/stable/nn.html#loss-functions) ausprobieren.\n",
        "\n",
        "Als Optimizer verwenden wir Adam.\n",
        "Testen Sie auch verschiedene [Optimizer](https://pytorch.org/docs/stable/optim.html?highlight=optimizer#torch.optim.Optimizer).\n",
        "\n",
        "Testen Sie auch alternative Anzahlen von Layern und Layergrößen."
      ]
    },
    {
      "cell_type": "markdown",
      "metadata": {
        "id": "wGXx8H8NsP8T"
      },
      "source": [
        "## Netzwerkmodell"
      ]
    },
    {
      "cell_type": "code",
      "source": [
        "# Define the model\n",
        "model = nn.Sequential(\n",
        "    nn.Linear(2, 30),\n",
        "    nn.Tanh(),\n",
        "    nn.Linear(30, 20),\n",
        "    nn.Tanh(),\n",
        "    nn.Linear(20, 2)\n",
        ")\n"
      ],
      "metadata": {
        "id": "Up_aobaw6HKS"
      },
      "execution_count": 6,
      "outputs": []
    },
    {
      "cell_type": "code",
      "source": [
        "# safe initial weights for resets\n",
        "initial_weights = copy.deepcopy(model.state_dict())"
      ],
      "metadata": {
        "id": "AjA5iyorVdxs"
      },
      "execution_count": 7,
      "outputs": []
    },
    {
      "cell_type": "code",
      "source": [
        "# call this if reset of weights is required\n",
        "model.load_state_dict(initial_weights)"
      ],
      "metadata": {
        "id": "4DNp55RFSNJ_",
        "outputId": "58cdd6ef-e179-4d1e-cad3-8beee2b8cadb",
        "colab": {
          "base_uri": "https://localhost:8080/"
        }
      },
      "execution_count": 8,
      "outputs": [
        {
          "output_type": "execute_result",
          "data": {
            "text/plain": [
              "<All keys matched successfully>"
            ]
          },
          "metadata": {},
          "execution_count": 8
        }
      ]
    },
    {
      "cell_type": "markdown",
      "source": [
        "## Loss Function und Optimizer"
      ],
      "metadata": {
        "id": "NLf34wbZNWuU"
      }
    },
    {
      "cell_type": "code",
      "source": [
        "# loss function and optimizer\n",
        "loss_fn = nn.MSELoss()  # mean square error\n",
        "optimizer = optim.Adam(model.parameters(), lr=0.01)"
      ],
      "metadata": {
        "id": "1daEcbZyC9Na"
      },
      "execution_count": 9,
      "outputs": []
    },
    {
      "cell_type": "markdown",
      "source": [
        "## Split der Daten in Trainings- und Validierungsdaten"
      ],
      "metadata": {
        "id": "63SsnuNBNeg7"
      }
    },
    {
      "cell_type": "code",
      "source": [
        "# train-validation split of the dataset\n",
        "x_train, x_valid, y_train, y_valid = train_test_split(x, y, train_size=0.7, shuffle=True)"
      ],
      "metadata": {
        "id": "el3JUoUSDO54"
      },
      "execution_count": 10,
      "outputs": []
    },
    {
      "cell_type": "markdown",
      "source": [
        "## Trainingsparameter"
      ],
      "metadata": {
        "id": "w8bIAUDQNuFb"
      }
    },
    {
      "cell_type": "code",
      "source": [
        "# training parameters\n",
        "n_epochs = 50   # number of epochs to run\n",
        "batch_size = 256  # size of each batch\n",
        "batch_start = torch.arange(0, len(x_train), batch_size)"
      ],
      "metadata": {
        "id": "BaydEjc0Nx7B"
      },
      "execution_count": 11,
      "outputs": []
    },
    {
      "cell_type": "markdown",
      "source": [
        "## Trainingsschleife"
      ],
      "metadata": {
        "id": "bLQagwHXN7L4"
      }
    },
    {
      "cell_type": "code",
      "source": [
        "# Hold the best model\n",
        "best_mse = np.inf   # init to infinity\n",
        "best_weights = None\n",
        "history_train = []\n",
        "history_valid = [] \n",
        "\n",
        "# training loop\n",
        "for epoch in range(n_epochs):\n",
        "    model.train()\n",
        "    with tqdm.tqdm(batch_start, unit=\"batch\", mininterval=0, disable=False) as bar:\n",
        "        bar.set_description(f\"Epoch {epoch}\")\n",
        "        for start in bar:\n",
        "            # take a batch\n",
        "            x_batch = x_train[start:start+batch_size]\n",
        "            y_batch = y_train[start:start+batch_size]\n",
        "            # forward pass\n",
        "            y_pred = model(x_batch)\n",
        "            loss = loss_fn(y_pred, y_batch)\n",
        "            # backward pass\n",
        "            optimizer.zero_grad()\n",
        "            loss.backward()\n",
        "            # update weights\n",
        "            optimizer.step()\n",
        "            # print progress\n",
        "            bar.set_postfix(mse=float(loss))\n",
        "    # evaluate accuracy at end of each epoch\n",
        "    model.eval()\n",
        "    # mse auf Testdaten\n",
        "    y_pred = model(x_train)\n",
        "    mse_train = float(loss_fn(y_pred, y_train))\n",
        "    history_train.append(mse_train)\n",
        "    # mse auf Validierungsdaten\n",
        "    y_pred = model(x_valid)\n",
        "    mse_valid = float(loss_fn(y_pred, y_valid))\n",
        "    history_valid.append(mse_valid)\n",
        "    # sichere \"beste\" Gewichte (Bewertung auf Basis der Validierungsdaten)\n",
        "    if mse_valid < best_mse:\n",
        "        best_mse = mse_valid\n",
        "        best_weights = copy.deepcopy(model.state_dict())\n",
        " \n",
        "# restore model and return best accuracy\n",
        "model.load_state_dict(best_weights)"
      ],
      "metadata": {
        "colab": {
          "base_uri": "https://localhost:8080/"
        },
        "id": "so3TpzeDEfha",
        "outputId": "e5c94aa5-7183-4641-a219-114f8d9dd1ec"
      },
      "execution_count": 25,
      "outputs": [
        {
          "output_type": "stream",
          "name": "stderr",
          "text": [
            "Epoch 0: 100%|██████████| 55/55 [00:00<00:00, 193.77batch/s, mse=0.000694]\n",
            "Epoch 1: 100%|██████████| 55/55 [00:00<00:00, 144.51batch/s, mse=0.00069]\n",
            "Epoch 2: 100%|██████████| 55/55 [00:00<00:00, 153.37batch/s, mse=0.000686]\n",
            "Epoch 3: 100%|██████████| 55/55 [00:00<00:00, 170.03batch/s, mse=0.000682]\n",
            "Epoch 4: 100%|██████████| 55/55 [00:00<00:00, 214.21batch/s, mse=0.000679]\n",
            "Epoch 5: 100%|██████████| 55/55 [00:00<00:00, 204.25batch/s, mse=0.000675]\n",
            "Epoch 6: 100%|██████████| 55/55 [00:00<00:00, 173.26batch/s, mse=0.000673]\n",
            "Epoch 7: 100%|██████████| 55/55 [00:00<00:00, 222.97batch/s, mse=0.00067]\n",
            "Epoch 8: 100%|██████████| 55/55 [00:00<00:00, 144.94batch/s, mse=0.000668]\n",
            "Epoch 9: 100%|██████████| 55/55 [00:00<00:00, 203.26batch/s, mse=0.000666]\n",
            "Epoch 10: 100%|██████████| 55/55 [00:00<00:00, 130.67batch/s, mse=0.000664]\n",
            "Epoch 11: 100%|██████████| 55/55 [00:00<00:00, 175.70batch/s, mse=0.000662]\n",
            "Epoch 12: 100%|██████████| 55/55 [00:00<00:00, 164.05batch/s, mse=0.00066]\n",
            "Epoch 13: 100%|██████████| 55/55 [00:00<00:00, 174.32batch/s, mse=0.000659]\n",
            "Epoch 14: 100%|██████████| 55/55 [00:00<00:00, 165.61batch/s, mse=0.000658]\n",
            "Epoch 15: 100%|██████████| 55/55 [00:00<00:00, 156.40batch/s, mse=0.000657]\n",
            "Epoch 16: 100%|██████████| 55/55 [00:00<00:00, 171.08batch/s, mse=0.000655]\n",
            "Epoch 17: 100%|██████████| 55/55 [00:00<00:00, 178.47batch/s, mse=0.000654]\n",
            "Epoch 18: 100%|██████████| 55/55 [00:00<00:00, 167.56batch/s, mse=0.000654]\n",
            "Epoch 19: 100%|██████████| 55/55 [00:00<00:00, 166.96batch/s, mse=0.000653]\n",
            "Epoch 20: 100%|██████████| 55/55 [00:00<00:00, 171.38batch/s, mse=0.000652]\n",
            "Epoch 21: 100%|██████████| 55/55 [00:00<00:00, 165.67batch/s, mse=0.000651]\n",
            "Epoch 22: 100%|██████████| 55/55 [00:00<00:00, 170.48batch/s, mse=0.000651]\n",
            "Epoch 23: 100%|██████████| 55/55 [00:00<00:00, 167.60batch/s, mse=0.000651]\n",
            "Epoch 24: 100%|██████████| 55/55 [00:00<00:00, 171.37batch/s, mse=0.00065]\n",
            "Epoch 25: 100%|██████████| 55/55 [00:00<00:00, 167.61batch/s, mse=0.000649]\n",
            "Epoch 26: 100%|██████████| 55/55 [00:00<00:00, 195.38batch/s, mse=0.000649]\n",
            "Epoch 27: 100%|██████████| 55/55 [00:00<00:00, 192.79batch/s, mse=0.000648]\n",
            "Epoch 28: 100%|██████████| 55/55 [00:00<00:00, 195.22batch/s, mse=0.000647]\n",
            "Epoch 29: 100%|██████████| 55/55 [00:00<00:00, 211.25batch/s, mse=0.000645]\n",
            "Epoch 30: 100%|██████████| 55/55 [00:00<00:00, 105.15batch/s, mse=0.000644]\n",
            "Epoch 31: 100%|██████████| 55/55 [00:00<00:00, 206.84batch/s, mse=0.000642]\n",
            "Epoch 32: 100%|██████████| 55/55 [00:00<00:00, 209.45batch/s, mse=0.000641]\n",
            "Epoch 33: 100%|██████████| 55/55 [00:00<00:00, 224.73batch/s, mse=0.000639]\n",
            "Epoch 34: 100%|██████████| 55/55 [00:00<00:00, 152.10batch/s, mse=0.000637]\n",
            "Epoch 35: 100%|██████████| 55/55 [00:00<00:00, 119.11batch/s, mse=0.000635]\n",
            "Epoch 36: 100%|██████████| 55/55 [00:00<00:00, 224.29batch/s, mse=0.000633]\n",
            "Epoch 37: 100%|██████████| 55/55 [00:00<00:00, 224.30batch/s, mse=0.000631]\n",
            "Epoch 38: 100%|██████████| 55/55 [00:00<00:00, 216.76batch/s, mse=0.000629]\n",
            "Epoch 39: 100%|██████████| 55/55 [00:00<00:00, 124.47batch/s, mse=0.000627]\n",
            "Epoch 40: 100%|██████████| 55/55 [00:00<00:00, 178.72batch/s, mse=0.000624]\n",
            "Epoch 41: 100%|██████████| 55/55 [00:00<00:00, 220.13batch/s, mse=0.000622]\n",
            "Epoch 42: 100%|██████████| 55/55 [00:00<00:00, 217.42batch/s, mse=0.00062]\n",
            "Epoch 43: 100%|██████████| 55/55 [00:00<00:00, 213.08batch/s, mse=0.000617]\n",
            "Epoch 44: 100%|██████████| 55/55 [00:00<00:00, 224.97batch/s, mse=0.000615]\n",
            "Epoch 45: 100%|██████████| 55/55 [00:00<00:00, 229.90batch/s, mse=0.000612]\n",
            "Epoch 46: 100%|██████████| 55/55 [00:00<00:00, 187.57batch/s, mse=0.000609]\n",
            "Epoch 47: 100%|██████████| 55/55 [00:00<00:00, 109.50batch/s, mse=0.000606]\n",
            "Epoch 48: 100%|██████████| 55/55 [00:00<00:00, 220.96batch/s, mse=0.000603]\n",
            "Epoch 49: 100%|██████████| 55/55 [00:00<00:00, 224.45batch/s, mse=0.000599]\n"
          ]
        },
        {
          "output_type": "execute_result",
          "data": {
            "text/plain": [
              "<All keys matched successfully>"
            ]
          },
          "metadata": {},
          "execution_count": 25
        }
      ]
    },
    {
      "cell_type": "code",
      "source": [
        "print(\"MSE: %.2f\" % best_mse)\n",
        "print(\"RMSE: %.2f\" % np.sqrt(best_mse))\n",
        "t = [i for i in range(len(history_train))]\n",
        "plt.plot(t, history_train, 'b', t, history_valid, 'g')\n",
        "plt.show()"
      ],
      "metadata": {
        "colab": {
          "base_uri": "https://localhost:8080/",
          "height": 300
        },
        "id": "pAC9g6v8H3P-",
        "outputId": "82105e16-807a-44b4-b7f2-4b9e500a2cd4"
      },
      "execution_count": 26,
      "outputs": [
        {
          "output_type": "stream",
          "name": "stdout",
          "text": [
            "MSE: 0.00\n",
            "RMSE: 0.02\n"
          ]
        },
        {
          "output_type": "display_data",
          "data": {
            "text/plain": [
              "<Figure size 432x288 with 1 Axes>"
            ],
            "image/png": "[encoded data removed]"
          },
          "metadata": {
            "needs_background": "light"
          }
        }
      ]
    },
    {
      "cell_type": "markdown",
      "metadata": {
        "id": "PGUAL1Ve2Xav"
      },
      "source": [
        "## Evaluation mit Testdaten"
      ]
    },
    {
      "cell_type": "code",
      "metadata": {
        "id": "DOrEnj_b0UhR",
        "colab": {
          "base_uri": "https://localhost:8080/"
        },
        "outputId": "4122cf77-5969-4879-81b5-9c158340da6b"
      },
      "source": [
        "testdatasize = 1000\n",
        "\n",
        "(x_test, y_test) = gen_data(testdatasize)\n",
        "\n",
        "\n",
        "\n",
        "y_pred = model(x_test)\n",
        "\n",
        "somedata = np.random.choice(y_pred.shape[0], 5)\n",
        "\n",
        "for d in somedata:\n",
        "  print(y_pred[d]*180/np.pi, y_test[d]*180/np.pi)\n",
        "\n",
        "print(forward_kinematics(y_test[somedata]))\n",
        "\n",
        "print(forward_kinematics(y_pred[somedata]))\n",
        "\n",
        "mse = loss_fn(y_pred, y_test)\n",
        "print(mse)"
      ],
      "execution_count": 27,
      "outputs": [
        {
          "output_type": "stream",
          "name": "stdout",
          "text": [
            "tensor([1.1494, 8.8482], grad_fn=<DivBackward0>) tensor([2.4751, 5.8201])\n",
            "tensor([-109.7227,   19.6032], grad_fn=<DivBackward0>) tensor([-109.7935,   21.3181])\n",
            "tensor([-50.0587,  60.1373], grad_fn=<DivBackward0>) tensor([-49.4869,  58.5707])\n",
            "tensor([8.3112, 9.4382], grad_fn=<DivBackward0>) tensor([8.6003, 8.6528])\n",
            "tensor([-62.9261,  67.5102], grad_fn=<DivBackward0>) tensor([-62.5042,  66.6948])\n",
            "tensor([[ 0.5966,  0.0562],\n",
            "        [-0.0936, -0.5822],\n",
            "        [ 0.4911, -0.1807],\n",
            "        [ 0.5831,  0.1338],\n",
            "        [ 0.4377, -0.2442]])\n",
            "tensor([[ 0.5954,  0.0581],\n",
            "        [-0.1019, -0.5824],\n",
            "        [ 0.4880, -0.1775],\n",
            "        [ 0.5826,  0.1348],\n",
            "        [ 0.4356, -0.2431]], grad_fn=<StackBackward0>)\n",
            "tensor(0.0005, grad_fn=<MseLossBackward0>)\n"
          ]
        }
      ]
    },
    {
      "cell_type": "markdown",
      "metadata": {
        "id": "Di_LHbu5yxPL"
      },
      "source": [
        "## Teste verschiedene Trajektorien"
      ]
    },
    {
      "cell_type": "markdown",
      "metadata": {
        "id": "9z9JDtMeH5jK"
      },
      "source": [
        "### Hilfsfunktionen"
      ]
    },
    {
      "cell_type": "code",
      "metadata": {
        "id": "VYwdmG6VCRhV"
      },
      "source": [
        "# Gerade\n",
        "\n",
        "def gerade(x1, y1, x2, y2):\n",
        "  t = np.linspace(0,1)\n",
        "  x = x1 + t*(x2-x1)\n",
        "  y = y1 + t*(y2-y1)\n",
        "\n",
        "  return (x, y)\n",
        "\n",
        "\n",
        "def kreis(x0, y0, R):\n",
        "  t = np.linspace(0, 2*np.pi)\n",
        "  x = x0 + R*np.sin(t)\n",
        "  y = y0 + R*np.cos(t)\n",
        "\n",
        "  return (x,y)\n",
        "\n",
        "def parabelbogen(x1,y1,x2,y2):\n",
        "  t = np.linspace(0,1)\n",
        "  x = x1 + (x2-x1) * t\n",
        "  y = y1 + (y2-y1) * t*t \n",
        "\n",
        "  return (x,y)\n",
        "\n",
        "def plot_trajectory(t, figure=100, zoom=True):\n",
        "  (x, y) = t\n",
        "  plt.figure(figure)\n",
        "  plt.plot(x,y, label='soll')\n",
        "  X = torch.stack((torch.from_numpy(x), torch.from_numpy(y)), axis=1).float()\n",
        "  phipred = model(X)\n",
        "\n",
        "  pred = forward_kinematics(phipred).detach().numpy()\n",
        "\n",
        "  plt.plot(pred[:,0], pred[:,1], label='ist')\n",
        "  plt.grid(True)\n",
        "  plt.legend()\n",
        "  plt.gca().set_aspect(\"equal\")\n",
        "  dx = np.max(x) - np.min(x)\n",
        "  dy = np.max(y) - np.min(y)\n",
        "  if zoom:\n",
        "    plt.xlim(np.min(x)-0.1*dx, np.max(x)+0.1*dx)\n",
        "    plt.ylim(np.min(y)-0.1*dy, np.max(y)+0.1*dy)\n",
        "  else: \n",
        "    plt.xlim(-0.2, 0.6)\n",
        "    plt.ylim(-0.6, 0.4) \n",
        "\n",
        "\n",
        "\n"
      ],
      "execution_count": 23,
      "outputs": []
    },
    {
      "cell_type": "markdown",
      "metadata": {
        "id": "n7Mk3M_QIEIb"
      },
      "source": [
        "### Plot"
      ]
    },
    {
      "cell_type": "code",
      "metadata": {
        "id": "G2HaVpGqHo3f",
        "colab": {
          "base_uri": "https://localhost:8080/",
          "height": 911
        },
        "outputId": "bb0af839-4684-40c0-b641-402760fe0ac4"
      },
      "source": [
        "# Alle in einen Plot\n",
        "plot_trajectory(gerade(0.4,-0.2, 0.5, -0.2), zoom=False)\n",
        "plot_trajectory(kreis(0.5, 0.1, 0.05), zoom=False)\n",
        "plot_trajectory(parabelbogen(0.2,-0.5, 0.5, 0.2), zoom=False)\n",
        "\n",
        "\n",
        "# Einzelplots gezoomt\n",
        "plot_trajectory(gerade(0.4,-0.2, 0.5, -0.2), figure=2)\n",
        "plot_trajectory(kreis(0.5, 0.1, 0.05), figure=3)\n",
        "plot_trajectory(parabelbogen(0.2,-0.5, 0.5, 0.2), figure=4)\n"
      ],
      "execution_count": 28,
      "outputs": [
        {
          "output_type": "stream",
          "name": "stderr",
          "text": [
            "<ipython-input-23-04d9bdc98465>:42: UserWarning: Attempting to set identical bottom == top == -0.2 results in singular transformations; automatically expanding.\n",
            "  plt.ylim(np.min(y)-0.1*dy, np.max(y)+0.1*dy)\n"
          ]
        },
        {
          "output_type": "display_data",
          "data": {
            "text/plain": [
              "<Figure size 432x288 with 1 Axes>"
            ],
            "image/png": "[encoded data removed]"
          },
          "metadata": {
            "needs_background": "light"
          }
        },
        {
          "output_type": "display_data",
          "data": {
            "text/plain": [
              "<Figure size 432x288 with 1 Axes>"
            ],
            "image/png": "[encoded data removed]"
          },
          "metadata": {
            "needs_background": "light"
          }
        },
        {
          "output_type": "display_data",
          "data": {
            "text/plain": [
              "<Figure size 432x288 with 1 Axes>"
            ],
            "image/png": "[encoded data removed]"
          },
          "metadata": {
            "needs_background": "light"
          }
        },
        {
          "output_type": "display_data",
          "data": {
            "text/plain": [
              "<Figure size 432x288 with 1 Axes>"
            ],
            "image/png": "[encoded data removed]"
          },
          "metadata": {
            "needs_background": "light"
          }
        }
      ]
    }
  ]
}