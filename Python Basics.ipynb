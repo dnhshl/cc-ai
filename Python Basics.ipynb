{
  "nbformat": 4,
  "nbformat_minor": 0,
  "metadata": {
    "colab": {
      "provenance": [],
      "authorship_tag": "ABX9TyMD2cz/VeZxZokZewfuMl6l",
      "include_colab_link": true
    },
    "kernelspec": {
      "name": "python3",
      "display_name": "Python 3"
    },
    "language_info": {
      "name": "python"
    }
  },
  "cells": [
    {
      "cell_type": "markdown",
      "metadata": {
        "id": "view-in-github",
        "colab_type": "text"
      },
      "source": [
        "<a href=\"https://colab.research.google.com/github/dnhshl/cc-ai/blob/main/Python%20Basics.ipynb\" target=\"_parent\"><img src=\"https://colab.research.google.com/assets/colab-badge.svg\" alt=\"Open In Colab\"/></a>"
      ]
    },
    {
      "cell_type": "markdown",
      "source": [
        "# Python Basics\n",
        "\n",
        "Python ist eine vielseitig einsetzbare, relativ einfach zu erlernende Programmiersprache. Python Programme zeichnen sich auch dadurch aus, dass der Code relativ gut lesbar und interpretierbar ist. Zudem gibt es für nahezu alle Problemstellungen Bibliotheken, die genutzt werden können."
      ],
      "metadata": {
        "id": "bPSnzzNdeRAk"
      }
    },
    {
      "cell_type": "markdown",
      "source": [
        "## Variablen\n",
        "\n",
        "Variablen in Python können an jeder Stelle angelegt werden. Es ist nicht notwendig, den Variablentyp zu deklarieren (\"duck typing\")."
      ],
      "metadata": {
        "id": "Tf1cuGqCe18a"
      }
    },
    {
      "cell_type": "code",
      "execution_count": 8,
      "metadata": {
        "colab": {
          "base_uri": "https://localhost:8080/"
        },
        "id": "lrOrTz5WeQPV",
        "outputId": "130a9756-6607-4b2e-90a5-49b2184e28b5"
      },
      "outputs": [
        {
          "output_type": "stream",
          "name": "stdout",
          "text": [
            "1 2.0 abc\n"
          ]
        }
      ],
      "source": [
        "a = 1     # eine integer Variable\n",
        "b = 2.0   # eine double Variable\n",
        "c = 'abc' # für Strings können einfache oder doppelte Anführungszeichen verwendet werden.\n",
        "print(a, b, c)"
      ]
    },
    {
      "cell_type": "markdown",
      "source": [
        "## Kommentare\n",
        "\n",
        "Sie haben schon festgestellt: Kommentare leiten Sie in Python durch # ein. Wenn Sie längere Passagen kommentieren wollen, geht das auch durch Verwendung von \"\"\" ... \"\"\" (letztlich ist das ein String)."
      ],
      "metadata": {
        "id": "qjBnwF-GuSni"
      }
    },
    {
      "cell_type": "code",
      "source": [
        "# das ist ein einfacher Kommentar\n",
        "\n",
        "\"\"\"\n",
        "und das\n",
        "ist ein\n",
        "Kommentar über\n",
        "mehrere Zeilen.\n",
        "\"\"\""
      ],
      "metadata": {
        "colab": {
          "base_uri": "https://localhost:8080/",
          "height": 36
        },
        "id": "LELdYhS4uinX",
        "outputId": "adab6343-ea4c-4882-d380-2386d4a0bdc6"
      },
      "execution_count": 7,
      "outputs": [
        {
          "output_type": "execute_result",
          "data": {
            "text/plain": [
              "'\\nund das\\nist ein\\nKommentar über\\nmehrere Zeilen.\\n'"
            ],
            "application/vnd.google.colaboratory.intrinsic+json": {
              "type": "string"
            }
          },
          "metadata": {},
          "execution_count": 7
        }
      ]
    },
    {
      "cell_type": "markdown",
      "source": [
        "## Jupyter Notebooks\n",
        "\n",
        "Das, was wir hier gerade nutzen, ist ein so genanntes Jupyter Noteboook. In einem solchen Notebook kann erklärender Text mit ausführbarem Python Code gemixt werden. Dies ist sehr angenehmes Medium für viele Anwendungsfälle (z.B. in der Lehre :)\n",
        "\n",
        "Eine Besonderheit bei Jupyter Notebooks ist, dass immer der letzte Ausdruck in einer Code Zelle automatisch (auch ohne expliziten print Befehl) ausgegeben wird."
      ],
      "metadata": {
        "id": "O0ElX1oWffTJ"
      }
    },
    {
      "cell_type": "code",
      "execution_count": 6,
      "metadata": {
        "colab": {
          "base_uri": "https://localhost:8080/"
        },
        "outputId": "38d0406b-b92c-48d0-b6a7-4e9362c5eb80",
        "id": "bAGhJcOWt-Wt"
      },
      "outputs": [
        {
          "output_type": "execute_result",
          "data": {
            "text/plain": [
              "(1, 2.0)"
            ]
          },
          "metadata": {},
          "execution_count": 6
        }
      ],
      "source": [
        "a = 1     # eine integer Variable\n",
        "b = 2.0   # eine double Variable\n",
        "a, b"
      ]
    },
    {
      "cell_type": "markdown",
      "source": [
        "## Struktur durch Einrückung\n",
        "\n",
        "In Python werden Codeblöcke durch Einrückung definiert. Es müssen also keine {...} wie z.B. in C verwendet werden. Dies ist ein Grund, warum Python Programme in der Regel gut lesbar sind.\n",
        "\n",
        "Es ist auch nicht notwendig, einzelne Befehlszeilen mit einem ; abzuschließen. \n"
      ],
      "metadata": {
        "id": "6ZcnF3bqvQVE"
      }
    },
    {
      "cell_type": "code",
      "source": [
        "if 3 > 5:\n",
        "  print('3 ist größer als 5')\n",
        "else:\n",
        "  print('3 ist nicht größer als 5')"
      ],
      "metadata": {
        "colab": {
          "base_uri": "https://localhost:8080/"
        },
        "id": "cQEfT5gBvuV1",
        "outputId": "a3038f5d-7fa2-4a4e-f0fb-3fceea8d25de"
      },
      "execution_count": 9,
      "outputs": [
        {
          "output_type": "stream",
          "name": "stdout",
          "text": [
            "3 ist nicht größer als 5\n"
          ]
        }
      ]
    },
    {
      "cell_type": "markdown",
      "source": [
        "## Formatierte Ausgabe\n",
        "\n",
        "Mittels so genannter f-Strings ist eine formatierte Ausgabe einfach realisierbar."
      ],
      "metadata": {
        "id": "rVSBxwiiwAi6"
      }
    },
    {
      "cell_type": "code",
      "source": [
        "print(f'{a} ist ein Integer Wert, {b} ist ein Double und {c} ist ein String.')"
      ],
      "metadata": {
        "colab": {
          "base_uri": "https://localhost:8080/"
        },
        "id": "pJ0ESJWGwN4A",
        "outputId": "3c4d42c2-81f8-45d5-8cb4-919c5655557b"
      },
      "execution_count": 10,
      "outputs": [
        {
          "output_type": "stream",
          "name": "stdout",
          "text": [
            "1 ist ein Integer Wert, 2.0 ist ein Double und abc ist ein String\n"
          ]
        }
      ]
    },
    {
      "cell_type": "markdown",
      "source": [
        "## Sequentielle Datentypen\n",
        "\n"
      ],
      "metadata": {
        "id": "fgnqaCyBwiHl"
      }
    },
    {
      "cell_type": "markdown",
      "source": [
        "### Listen"
      ],
      "metadata": {
        "id": "7MNsWASdw5Mf"
      }
    },
    {
      "cell_type": "code",
      "source": [
        "# Listen werden mit [...] definiert\n",
        "liste1 = [1, 4, 9, 16]\n",
        " \n",
        "print(liste1[0])    # das erste Element der Liste\n",
        " \n",
        "print(liste1[1:3])   # Slicing: Unterliste mit den Elementen von 1 bis 2 \n",
        " \n",
        "print(liste1[-1])    # das letzte Element der Liste\n",
        " \n",
        "print(len(liste1))   # Länge der Liste\n",
        " \n",
        "# Listenelemente können überschrieben werden\n",
        "liste1[0] = 5"
      ],
      "metadata": {
        "colab": {
          "base_uri": "https://localhost:8080/"
        },
        "id": "jI8KfoPDwpgz",
        "outputId": "d901007a-7c78-4685-eea1-c1285081dd7e"
      },
      "execution_count": 11,
      "outputs": [
        {
          "output_type": "stream",
          "name": "stdout",
          "text": [
            "1\n",
            "[4, 9]\n",
            "16\n",
            "4\n"
          ]
        }
      ]
    },
    {
      "cell_type": "markdown",
      "source": [
        "### Tuple\n",
        "Tuple sind Listen, deren Elemente nachträglich nicht verändert werden können (\"immutable\")."
      ],
      "metadata": {
        "id": "GuEP30ofw9L8"
      }
    },
    {
      "cell_type": "code",
      "source": [
        "# Tuple werden mit (...) definiert. \n",
        "# Listen und Tuple müssen nicht zwingend nur Elemente gleichen Typs enthalten\n",
        "tuple1 = ('a', 1, 'abc')\n",
        " \n",
        "print(tuple1[1:])    # Slicing von 1 bis zum Ende"
      ],
      "metadata": {
        "id": "1im02hkVwy-q"
      },
      "execution_count": null,
      "outputs": []
    },
    {
      "cell_type": "markdown",
      "source": [
        "### Dictionaries\n",
        "\n",
        "Ein Dictionary ist eine Sammlung von Objekten, die jeweils über ein Schlüsselwort referenziert werden. Jedes Element eines Dictionaries besteht also aus zwei Komponenten \n",
        "\n",
        "```\n",
        "key: object\n",
        "```\n",
        "\n"
      ],
      "metadata": {
        "id": "3czuCoJlxL-a"
      }
    },
    {
      "cell_type": "code",
      "source": [
        "# Dictonaries werden mit {...} definiert\n",
        "dict1 = {'eins': 1, 'zwei': 2, 'drei': 3}\n",
        " \n",
        "print(dict1['zwei'])    # einen Eintrag auslesen\n",
        " \n",
        "dict1['vier'] = 4       # ein neuer Eintrag"
      ],
      "metadata": {
        "id": "NS1dFVWYxm1u"
      },
      "execution_count": null,
      "outputs": []
    },
    {
      "cell_type": "markdown",
      "source": [
        "## For Schleifen und Iterationen\n",
        "\n",
        "For Schleifen können \"klassisch\" verwendet werden (eine feste Anzahl von Durchläufen mit einer Zählvariablen), aber auch, um über Listen, Tuples oder Dictionaries zu iterieren."
      ],
      "metadata": {
        "id": "N-53HejcxsRf"
      }
    },
    {
      "cell_type": "code",
      "source": [
        "# klassische For Schleife, i = 0,1,2\n",
        "for i in range(3):\n",
        "  print(i) \n",
        " \n",
        "# Iteration über alle Elemente einer Liste\n",
        "liste1 = ['a', 'b', 'c']\n",
        "for element in liste1:\n",
        "  print(element)\n",
        " \n",
        "# Iteration über ein Dictionary\n",
        "dict1 = {'Vorname': 'Fred', 'Nachname': 'Feuerstein'}\n",
        "for key in dict1:\n",
        "  print(\"{}: {}\".format(key, dict1[key]))"
      ],
      "metadata": {
        "colab": {
          "base_uri": "https://localhost:8080/"
        },
        "id": "9lFBq5gryC6r",
        "outputId": "0198ea23-43cf-4407-a8a0-c2750e2e1ce6"
      },
      "execution_count": 12,
      "outputs": [
        {
          "output_type": "stream",
          "name": "stdout",
          "text": [
            "0\n",
            "1\n",
            "2\n",
            "a\n",
            "b\n",
            "c\n",
            "Vorname: Fred\n",
            "Nachname: Feuerstein\n"
          ]
        }
      ]
    },
    {
      "cell_type": "markdown",
      "source": [
        "## List Comprehensions\n",
        "\n",
        "List Comprehensions sind eine Möglichkeit, auf einfache kompakte Art Listen zu definieren."
      ],
      "metadata": {
        "id": "vJf8fvIVyKZr"
      }
    },
    {
      "cell_type": "code",
      "source": [
        "liste2 = [i for i in range(15) if i%2 == 0]\n",
        "liste2"
      ],
      "metadata": {
        "colab": {
          "base_uri": "https://localhost:8080/"
        },
        "id": "b1-2_VBZyVSO",
        "outputId": "62597d80-c211-4958-9c7f-02f9a3ef6ed9"
      },
      "execution_count": 14,
      "outputs": [
        {
          "output_type": "execute_result",
          "data": {
            "text/plain": [
              "[0, 2, 4, 6, 8, 10, 12, 14]"
            ]
          },
          "metadata": {},
          "execution_count": 14
        }
      ]
    },
    {
      "cell_type": "markdown",
      "source": [
        "## Nutzung von Libraries\n",
        "\n",
        "Einer der vielen Vorteile von Python ist, dass eine Vielzahl von Libraries zur Verfügung stehen, die genutzt werden können. Drei sehr häufig genutzte Libraries sind numpy für numereische Berechnungen aller Art sowie pandas für Datenanalyse und matplotlib für Plotting von Diagrammen."
      ],
      "metadata": {
        "id": "XLrKzOPsyoRR"
      }
    },
    {
      "cell_type": "code",
      "source": [
        "# Nutzung der Mathelibrary\n",
        "import math\n",
        "# Zur Nutzung muss immer der Bibliothekname vorangestellt werden\n",
        "print(math.cos(math.pi))\n",
        " \n",
        "# Wenn der Bibliothename zu lang ist, kann eine Abkürzung verwendet werden\n",
        "# das ist die meistens verwendete Option\n",
        "import math as m\n",
        " \n",
        "print(m.cos(m.pi))\n",
        " \n",
        "# Es kann auch ganz auf den Bibliotheksnamen verzichtet werden\n",
        "# das kann aber zu Konflikten führen, wenn gleiche Namen \n",
        "# in unterschiedlichen Bibliotheken verwendet werden \n",
        "from math import *\n",
        " \n",
        "print(cos(pi))"
      ],
      "metadata": {
        "colab": {
          "base_uri": "https://localhost:8080/"
        },
        "id": "VgCjjkc6zI4B",
        "outputId": "2b682f63-bc78-420e-b91a-025b64066d86"
      },
      "execution_count": 15,
      "outputs": [
        {
          "output_type": "stream",
          "name": "stdout",
          "text": [
            "-1.0\n",
            "-1.0\n",
            "-1.0\n"
          ]
        }
      ]
    },
    {
      "cell_type": "markdown",
      "source": [
        "## Externe Libraries in Jupyter Notebooks installieren\n",
        "\n",
        "Um Libraries nutzen zu können, müssen diese installiert sein. Basisbibliotheken wie z.B. die math Bibliothek sind immer schon vorinstalliert. Spezielle Libraries können mittels !pip installiert werden."
      ],
      "metadata": {
        "id": "OIcFzLEHzqkt"
      }
    },
    {
      "cell_type": "code",
      "source": [
        "!pip install numpy\n",
        "!pip install pandas\n",
        "!pip install matplotlib"
      ],
      "metadata": {
        "id": "zG72XwYIzhNf"
      },
      "execution_count": null,
      "outputs": []
    },
    {
      "cell_type": "markdown",
      "source": [
        "Nachdem die Libraries installiert wurden, können Sie im Python Code importiert und genutzt werden."
      ],
      "metadata": {
        "id": "OBA4n-FXz-fC"
      }
    },
    {
      "cell_type": "code",
      "source": [
        "import numpy as np\n",
        "import pandas as pd\n",
        "import matplotlib.pyplot as plt\n",
        "\n",
        "# Daten laden\n",
        "url = 'https://people.sc.fsu.edu/~jburkardt/data/csv/hw_200.csv'\n",
        "data = pd.read_csv(url, encoding = \"ISO-8859-1\")\n",
        "\n",
        "# Daten anzeigen\n",
        "print(data.head())\n",
        "\n"
      ],
      "metadata": {
        "colab": {
          "base_uri": "https://localhost:8080/"
        },
        "id": "we40fLOzzkeA",
        "outputId": "4cd2a2a7-fa05-41f6-8e25-c12562843c93"
      },
      "execution_count": 18,
      "outputs": [
        {
          "output_type": "stream",
          "name": "stdout",
          "text": [
            "   Index   Height(Inches)\"   \"Weight(Pounds)\"\n",
            "0      1             65.78             112.99\n",
            "1      2             71.52             136.49\n",
            "2      3             69.40             153.03\n",
            "3      4             68.22             142.34\n",
            "4      5             67.79             144.30\n"
          ]
        }
      ]
    },
    {
      "cell_type": "code",
      "source": [
        "data.columns"
      ],
      "metadata": {
        "colab": {
          "base_uri": "https://localhost:8080/"
        },
        "id": "hb0EQAVS5W9u",
        "outputId": "e464fbb1-dd63-4261-c758-2a5f6165fe6f"
      },
      "execution_count": 22,
      "outputs": [
        {
          "output_type": "execute_result",
          "data": {
            "text/plain": [
              "Index(['Index', ' Height(Inches)\"', ' \"Weight(Pounds)\"'], dtype='object')"
            ]
          },
          "metadata": {},
          "execution_count": 22
        }
      ]
    },
    {
      "cell_type": "code",
      "source": [
        "data.rename(columns={' Height(Inches)\"': 'height', ' \"Weight(Pounds)\"': 'weight'}, inplace=True)\n",
        "data.columns"
      ],
      "metadata": {
        "colab": {
          "base_uri": "https://localhost:8080/"
        },
        "id": "vNRVXAcx5x5R",
        "outputId": "a728c69f-0ad5-4358-fd5f-1b5be98a16e5"
      },
      "execution_count": 25,
      "outputs": [
        {
          "output_type": "execute_result",
          "data": {
            "text/plain": [
              "Index(['Index', 'height', 'weight'], dtype='object')"
            ]
          },
          "metadata": {},
          "execution_count": 25
        }
      ]
    },
    {
      "cell_type": "code",
      "source": [
        "# Mittelwert der Größe\n",
        "avg_h = np.mean(data['height'])\n",
        "\n",
        "# Standardabweichung des Gewichts\n",
        "std_w = np.std(data['weight'])\n",
        "\n",
        "print(f'Mittelwert der Größen: {avg_h}')\n",
        "print(f'Standardabweichung des Gewichts: {std_w}')\n",
        "\n",
        "# Histogramm der Größe anzeigen\n",
        "plt.hist(data['height'], bins=10)\n",
        "plt.xlabel('Größe')\n",
        "plt.ylabel('Anzahl')\n",
        "plt.title('Histogramm der Größen')\n",
        "plt.show()\n"
      ],
      "metadata": {
        "colab": {
          "base_uri": "https://localhost:8080/",
          "height": 509
        },
        "id": "gmCqrUl300MT",
        "outputId": "b5622a20-51ac-480e-c20b-f6f76234dd61"
      },
      "execution_count": 28,
      "outputs": [
        {
          "output_type": "stream",
          "name": "stdout",
          "text": [
            "Mittelwert der Größen: 67.9498\n",
            "Standardabweichung des Gewichts: 11.931019306727318\n"
          ]
        },
        {
          "output_type": "display_data",
          "data": {
            "text/plain": [
              "<Figure size 640x480 with 1 Axes>"
            ],
            "image/png": "[encoded data removed]"
          },
          "metadata": {}
        }
      ]
    }
  ]
}