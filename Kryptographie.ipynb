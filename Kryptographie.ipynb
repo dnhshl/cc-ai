{
  "nbformat": 4,
  "nbformat_minor": 0,
  "metadata": {
    "colab": {
      "provenance": [],
      "authorship_tag": "ABX9TyMz08/lTgqvotYvmLs0LLvr",
      "include_colab_link": true
    },
    "kernelspec": {
      "name": "python3",
      "display_name": "Python 3"
    },
    "language_info": {
      "name": "python"
    }
  },
  "cells": [
    {
      "cell_type": "markdown",
      "metadata": {
        "id": "view-in-github",
        "colab_type": "text"
      },
      "source": [
        "<a href=\"https://colab.research.google.com/github/dnhshl/cc-ai/blob/main/Kryptographie.ipynb\" target=\"_parent\"><img src=\"https://colab.research.google.com/assets/colab-badge.svg\" alt=\"Open In Colab\"/></a>"
      ]
    },
    {
      "cell_type": "markdown",
      "source": [
        "# Kryptographie\n",
        "\n",
        "Beispiele u.a. in Anlehnung an [Practical Cryptography for Developers](https://cryptobook.nakov.com/)"
      ],
      "metadata": {
        "id": "HRecttrzg379"
      }
    },
    {
      "cell_type": "markdown",
      "source": [
        "## AES Encrypt / Decrypt"
      ],
      "metadata": {
        "id": "TOKIYaw0ei0A"
      }
    },
    {
      "cell_type": "code",
      "source": [
        "!pip install pycryptodome"
      ],
      "metadata": {
        "id": "ktwHZGZRe7CX"
      },
      "execution_count": null,
      "outputs": []
    },
    {
      "cell_type": "code",
      "execution_count": null,
      "metadata": {
        "id": "lbyGc5VeehpL"
      },
      "outputs": [],
      "source": [
        "from Crypto.Cipher import AES\n",
        "import binascii, os"
      ]
    },
    {
      "cell_type": "code",
      "source": [
        "def encrypt_AES_GCM(msg, secretKey):\n",
        "    aesCipher = AES.new(secretKey, AES.MODE_GCM)\n",
        "    ciphertext, authTag = aesCipher.encrypt_and_digest(msg)\n",
        "    return (ciphertext, aesCipher.nonce, authTag)\n",
        "\n",
        "def decrypt_AES_GCM(encryptedMsg, secretKey):\n",
        "    (ciphertext, nonce, authTag) = encryptedMsg\n",
        "    aesCipher = AES.new(secretKey, AES.MODE_GCM, nonce)\n",
        "    plaintext = aesCipher.decrypt_and_verify(ciphertext, authTag)\n",
        "    return plaintext"
      ],
      "metadata": {
        "id": "PtrfOkqNfA8O"
      },
      "execution_count": null,
      "outputs": []
    },
    {
      "cell_type": "code",
      "source": [
        "secretKey = os.urandom(32)  # 256-bit random encryption key\n",
        "print(\"Encryption key:\", binascii.hexlify(secretKey))"
      ],
      "metadata": {
        "id": "fhc-6QvEfTP_"
      },
      "execution_count": null,
      "outputs": []
    },
    {
      "cell_type": "code",
      "source": [
        "msg = b'Hello World, how are you today?'"
      ],
      "metadata": {
        "id": "PgCDjDqAfarA"
      },
      "execution_count": null,
      "outputs": []
    },
    {
      "cell_type": "code",
      "source": [
        "encryptedMsg = encrypt_AES_GCM(msg, secretKey)\n",
        "print(\"encryptedMsg\", {\n",
        "    'ciphertext': binascii.hexlify(encryptedMsg[0]),\n",
        "    'aesIV': binascii.hexlify(encryptedMsg[1]),\n",
        "    'authTag': binascii.hexlify(encryptedMsg[2])\n",
        "})"
      ],
      "metadata": {
        "id": "geaZVc78fi-L"
      },
      "execution_count": null,
      "outputs": []
    },
    {
      "cell_type": "code",
      "source": [
        "decryptedMsg = decrypt_AES_GCM(encryptedMsg, secretKey)\n",
        "print(\"decryptedMsg\", decryptedMsg)"
      ],
      "metadata": {
        "id": "uYFI_vu8flI-"
      },
      "execution_count": null,
      "outputs": []
    },
    {
      "cell_type": "markdown",
      "source": [
        "## RSA"
      ],
      "metadata": {
        "id": "4UtIrvXagPqa"
      }
    },
    {
      "cell_type": "code",
      "source": [
        "from Crypto.PublicKey import RSA\n",
        "from Crypto.Cipher import PKCS1_OAEP\n",
        "import binascii"
      ],
      "metadata": {
        "id": "ajRIk6jzgY9e"
      },
      "execution_count": null,
      "outputs": []
    },
    {
      "cell_type": "markdown",
      "source": [
        "### RSA Keys"
      ],
      "metadata": {
        "id": "KUOEMruxgTC2"
      }
    },
    {
      "cell_type": "code",
      "source": [
        "keyPair = RSA.generate(3072)\n",
        "\n",
        "pubKey = keyPair.publickey()\n",
        "print(f\"Public key:  (n={hex(pubKey.n)}, e={hex(pubKey.e)})\")\n",
        "pubKeyPEM = pubKey.exportKey()\n",
        "print(pubKeyPEM.decode('ascii'))\n",
        "\n",
        "\n",
        "privateKey = keyPair\n",
        "print(f\"Private key: (n={hex(pubKey.n)}, d={hex(keyPair.d)})\")\n",
        "privKeyPEM = keyPair.exportKey()\n",
        "print(privKeyPEM.decode('ascii'))"
      ],
      "metadata": {
        "id": "KXtaSHejgN69"
      },
      "execution_count": null,
      "outputs": []
    },
    {
      "cell_type": "markdown",
      "source": [
        "### RSA Encrypt / Decrypt"
      ],
      "metadata": {
        "id": "I1TF_ugcgubK"
      }
    },
    {
      "cell_type": "code",
      "source": [
        "msg = b'A message for encryption'\n",
        "encryptor = PKCS1_OAEP.new(pubKey)\n",
        "encrypted = encryptor.encrypt(msg)\n",
        "print(\"Encrypted:\", binascii.hexlify(encrypted))"
      ],
      "metadata": {
        "id": "PLT2W9Yogws_"
      },
      "execution_count": null,
      "outputs": []
    },
    {
      "cell_type": "code",
      "source": [
        "decryptor = PKCS1_OAEP.new(privateKey)\n",
        "decrypted = decryptor.decrypt(encrypted)\n",
        "print('Decrypted:', decrypted)"
      ],
      "metadata": {
        "id": "ghOXwAOthZWB"
      },
      "execution_count": null,
      "outputs": []
    },
    {
      "cell_type": "markdown",
      "source": [
        "## Hashing"
      ],
      "metadata": {
        "id": "QG94bTeKiFin"
      }
    },
    {
      "cell_type": "code",
      "source": [
        "import hashlib, binascii\n",
        "from Crypto.Hash import SHA256\n",
        "from Crypto.Hash import SHA3_256"
      ],
      "metadata": {
        "id": "oT79V5GziHYq"
      },
      "execution_count": null,
      "outputs": []
    },
    {
      "cell_type": "code",
      "source": [
        "text = 'Überweise 100 Euro'\n",
        "msg = text.encode(\"utf8\")\n",
        "\n",
        "md5hash = hashlib.md5(msg).digest()\n",
        "print(\"MD5:   \", binascii.hexlify(md5hash))\n",
        "\n",
        "sha256hash = SHA256.new(msg).digest()\n",
        "print(\"SHA-256:   \", binascii.hexlify(sha256hash))\n",
        "\n",
        "sha3_256 = SHA3_256.new(msg).digest()\n",
        "print(\"SHA3-256:  \", binascii.hexlify(sha3_256))\n",
        "\n"
      ],
      "metadata": {
        "id": "mPpVpC2QiNe_"
      },
      "execution_count": null,
      "outputs": []
    },
    {
      "cell_type": "code",
      "source": [
        "text = 'Überweise 1000 Euro'\n",
        "msg = text.encode(\"utf8\")\n",
        "\n",
        "md5hash = hashlib.md5(msg).digest()\n",
        "print(\"MD5:   \", binascii.hexlify(md5hash))\n",
        "\n",
        "sha256hash = SHA256.new(msg).digest()\n",
        "print(\"SHA-256:   \", binascii.hexlify(sha256hash))\n",
        "\n",
        "sha3_256 = SHA3_256.new(msg).digest()\n",
        "print(\"SHA3-256:  \", binascii.hexlify(sha3_256))\n"
      ],
      "metadata": {
        "id": "rMJQqqFDjZTe"
      },
      "execution_count": null,
      "outputs": []
    },
    {
      "cell_type": "markdown",
      "source": [
        "## MAC"
      ],
      "metadata": {
        "id": "OFQOzJhGjxzW"
      }
    },
    {
      "cell_type": "code",
      "source": [
        "import hashlib, hmac, binascii"
      ],
      "metadata": {
        "id": "X4YhQErTj3Yn"
      },
      "execution_count": null,
      "outputs": []
    },
    {
      "cell_type": "code",
      "source": [
        "def hmac_sha256(key, msg):\n",
        "  return hmac.new(key, msg, hashlib.sha256).digest()\n",
        "\n",
        "key = b\"12345\"\n"
      ],
      "metadata": {
        "id": "NXwpGOigj0Ci"
      },
      "execution_count": null,
      "outputs": []
    },
    {
      "cell_type": "code",
      "source": [
        "text = 'Überweise 1000 Euro'\n",
        "msg = text.encode(\"utf8\")\n",
        "\n",
        "print(binascii.hexlify(hmac_sha256(key, msg)))"
      ],
      "metadata": {
        "id": "_uithAhUj9ib"
      },
      "execution_count": null,
      "outputs": []
    },
    {
      "cell_type": "markdown",
      "source": [
        "## Signatur\n"
      ],
      "metadata": {
        "id": "jdv4DgiKpaib"
      }
    },
    {
      "cell_type": "code",
      "source": [
        "from Crypto.Signature import pkcs1_15"
      ],
      "metadata": {
        "id": "afZ1b7ITrYwV"
      },
      "execution_count": null,
      "outputs": []
    },
    {
      "cell_type": "markdown",
      "source": [
        "\n",
        "### Alice"
      ],
      "metadata": {
        "id": "yidhQLgirdri"
      }
    },
    {
      "cell_type": "code",
      "source": [
        "text = 'Überweise 1000 Euro'\n",
        "msg = text.encode(\"utf8\")\n",
        "\n",
        "# Hash\n",
        "hash_obj = SHA3_256.new(msg)\n",
        "print(\"SHA-256:   \", binascii.hexlify(hash_obj.digest()))\n",
        "\n",
        "# Encrypt Hash with private key\n",
        "signature = pkcs1_15.new(privateKey).sign(hash_obj)\n",
        "print(\"Signature\", binascii.hexlify(signature))\n"
      ],
      "metadata": {
        "id": "LLfxhfSWkPbT"
      },
      "execution_count": null,
      "outputs": []
    },
    {
      "cell_type": "markdown",
      "source": [
        "### Bob"
      ],
      "metadata": {
        "id": "4QM8ShEtpuEv"
      }
    },
    {
      "cell_type": "code",
      "source": [
        "msg = msg\n",
        "\n",
        "# Hash\n",
        "hash_obj = SHA3_256.new(msg)\n",
        "\n",
        "# Verify the signature with the public key\n",
        "try:\n",
        "    pkcs1_15.new(pubKey).verify(hash_obj, signature)\n",
        "    print(\"The signature is valid.\")\n",
        "except (ValueError, TypeError):\n",
        "    print(\"The signature is not valid.\")"
      ],
      "metadata": {
        "id": "IgEHIHq5nAMP"
      },
      "execution_count": null,
      "outputs": []
    },
    {
      "cell_type": "markdown",
      "source": [
        "## Verschlüsseln und Signieren"
      ],
      "metadata": {
        "id": "UfDZLgjsvkRu"
      }
    },
    {
      "cell_type": "code",
      "source": [
        "from Crypto.PublicKey import RSA\n",
        "from Crypto.Cipher import PKCS1_OAEP\n",
        "from Crypto.Signature import pkcs1_15\n",
        "from Crypto.Hash import SHA256\n",
        "import binascii"
      ],
      "metadata": {
        "id": "Pw6cCxVK1qr5"
      },
      "execution_count": null,
      "outputs": []
    },
    {
      "cell_type": "code",
      "source": [
        "\n",
        "# Alice generates her RSA key pair\n",
        "alice_key = RSA.generate(2048)\n",
        "alice_private_key = alice_key\n",
        "alice_public_key = alice_key.publickey()\n",
        "\n",
        "# Bob generates his RSA key pair\n",
        "bob_key = RSA.generate(2048)\n",
        "bob_private_key = bob_key\n",
        "bob_public_key = bob_key.publickey()"
      ],
      "metadata": {
        "id": "4AfBUCwc1ur1"
      },
      "execution_count": null,
      "outputs": []
    },
    {
      "cell_type": "markdown",
      "source": [
        "### Alice"
      ],
      "metadata": {
        "id": "sk-jRni01m6A"
      }
    },
    {
      "cell_type": "code",
      "source": [
        "\n",
        "# Message to be signed and encrypted\n",
        "message = b'This is a secret message'\n",
        "\n",
        "# Alice signs the message with her private key\n",
        "hash_obj = SHA256.new(message)\n",
        "signature = pkcs1_15.new(alice_private_key).sign(hash_obj)\n",
        "\n",
        "# Alice encrypts the message and the signature with Bob's public key\n",
        "encryptor = PKCS1_OAEP.new(bob_public_key)\n",
        "encrypted_message = encryptor.encrypt(message)\n",
        "print(\"Encrypted Message:\", binascii.hexlify(encrypted_message))\n"
      ],
      "metadata": {
        "id": "nu9_-V61vlYa"
      },
      "execution_count": null,
      "outputs": []
    },
    {
      "cell_type": "markdown",
      "source": [
        "### Bob"
      ],
      "metadata": {
        "id": "r4JR5-Hp11qW"
      }
    },
    {
      "cell_type": "code",
      "source": [
        "# Bob decrypts the received message and signature with his private key\n",
        "decryptor = PKCS1_OAEP.new(bob_private_key)\n",
        "decrypted_message = decryptor.decrypt(encrypted_message)\n",
        "print('Decrypted Message:', decrypted_message)\n",
        "\n",
        "# Bob verifies the signature with Alice's public key\n",
        "hash_obj = SHA256.new(decrypted_message)\n",
        "try:\n",
        "    pkcs1_15.new(alice_public_key).verify(hash_obj, signature)\n",
        "    print(\"The signature is valid.\")\n",
        "except (ValueError, TypeError):\n",
        "    print(\"The signature is not valid.\")\n"
      ],
      "metadata": {
        "id": "TIl4oWih10Ek"
      },
      "execution_count": null,
      "outputs": []
    }
  ]
}