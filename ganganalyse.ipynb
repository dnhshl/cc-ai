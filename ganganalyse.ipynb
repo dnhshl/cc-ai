{
  "nbformat": 4,
  "nbformat_minor": 0,
  "metadata": {
    "colab": {
      "provenance": [],
      "toc_visible": true,
      "include_colab_link": true
    },
    "kernelspec": {
      "name": "python3",
      "display_name": "Python 3"
    },
    "language_info": {
      "name": "python"
    },
    "accelerator": "GPU",
    "gpuClass": "standard"
  },
  "cells": [
    {
      "cell_type": "markdown",
      "metadata": {
        "id": "view-in-github",
        "colab_type": "text"
      },
      "source": [
        "<a href=\"https://colab.research.google.com/github/dnhshl/cc-ai/blob/main/ganganalyse.ipynb\" target=\"_parent\"><img src=\"https://colab.research.google.com/assets/colab-badge.svg\" alt=\"Open In Colab\"/></a>"
      ]
    },
    {
      "cell_type": "markdown",
      "source": [
        "**Hochladen von Videos**\n",
        "\n",
        "\n",
        "*   Links auf das Ordnersymbol klicken, dann öffnet sich ein Reiter \"Dateien\"\n",
        "*   Mit einem Klick auf das erste Symbol in der Reihe (das Rechteck mit dem Pfeil drin), können Videos hochgeladen werden\n",
        "*   Nachdem das Video hochgeladen ist und der Namen unten im Code geändert wurde, kann über *Laufzeit* --> *Alle ausführen* der Code ausgeführt werden und im Anschluss das neue Video, welches links in den Reiter 'Dateien' erscheint heruntergeladen werden\n",
        "\n",
        "\n",
        "\n"
      ],
      "metadata": {
        "id": "0_9q5rMYne8y"
      }
    },
    {
      "cell_type": "markdown",
      "source": [
        "**Mediapipe und Bibliotheken installieren**"
      ],
      "metadata": {
        "id": "gjHtei1JrPUn"
      }
    },
    {
      "cell_type": "code",
      "execution_count": 1,
      "metadata": {
        "id": "2aUynzOdOFKB",
        "colab": {
          "base_uri": "https://localhost:8080/"
        },
        "outputId": "977ab141-84d5-4911-c249-0811288f15be"
      },
      "outputs": [
        {
          "output_type": "stream",
          "name": "stdout",
          "text": [
            "Looking in indexes: https://pypi.org/simple, https://us-python.pkg.dev/colab-wheels/public/simple/\n",
            "Collecting mediapipe\n",
            "  Downloading mediapipe-0.9.1.0-cp38-cp38-manylinux_2_17_x86_64.manylinux2014_x86_64.whl (33.0 MB)\n",
            "\u001b[2K     \u001b[90m━━━━━━━━━━━━━━━━━━━━━━━━━━━━━━━━━━━━━━━━\u001b[0m \u001b[32m33.0/33.0 MB\u001b[0m \u001b[31m17.6 MB/s\u001b[0m eta \u001b[36m0:00:00\u001b[0m\n",
            "\u001b[?25hRequirement already satisfied: attrs>=19.1.0 in /usr/local/lib/python3.8/dist-packages (from mediapipe) (22.2.0)\n",
            "Requirement already satisfied: protobuf<4,>=3.11 in /usr/local/lib/python3.8/dist-packages (from mediapipe) (3.19.6)\n",
            "Requirement already satisfied: absl-py in /usr/local/lib/python3.8/dist-packages (from mediapipe) (1.4.0)\n",
            "Requirement already satisfied: numpy in /usr/local/lib/python3.8/dist-packages (from mediapipe) (1.22.4)\n",
            "Requirement already satisfied: opencv-contrib-python in /usr/local/lib/python3.8/dist-packages (from mediapipe) (4.6.0.66)\n",
            "Requirement already satisfied: flatbuffers>=2.0 in /usr/local/lib/python3.8/dist-packages (from mediapipe) (23.1.21)\n",
            "Requirement already satisfied: matplotlib in /usr/local/lib/python3.8/dist-packages (from mediapipe) (3.5.3)\n",
            "Requirement already satisfied: packaging>=20.0 in /usr/local/lib/python3.8/dist-packages (from matplotlib->mediapipe) (23.0)\n",
            "Requirement already satisfied: pyparsing>=2.2.1 in /usr/local/lib/python3.8/dist-packages (from matplotlib->mediapipe) (3.0.9)\n",
            "Requirement already satisfied: pillow>=6.2.0 in /usr/local/lib/python3.8/dist-packages (from matplotlib->mediapipe) (8.4.0)\n",
            "Requirement already satisfied: cycler>=0.10 in /usr/local/lib/python3.8/dist-packages (from matplotlib->mediapipe) (0.11.0)\n",
            "Requirement already satisfied: python-dateutil>=2.7 in /usr/local/lib/python3.8/dist-packages (from matplotlib->mediapipe) (2.8.2)\n",
            "Requirement already satisfied: kiwisolver>=1.0.1 in /usr/local/lib/python3.8/dist-packages (from matplotlib->mediapipe) (1.4.4)\n",
            "Requirement already satisfied: fonttools>=4.22.0 in /usr/local/lib/python3.8/dist-packages (from matplotlib->mediapipe) (4.38.0)\n",
            "Requirement already satisfied: six>=1.5 in /usr/local/lib/python3.8/dist-packages (from python-dateutil>=2.7->matplotlib->mediapipe) (1.15.0)\n",
            "Installing collected packages: mediapipe\n",
            "Successfully installed mediapipe-0.9.1.0\n"
          ]
        }
      ],
      "source": [
        "!pip install mediapipe"
      ]
    },
    {
      "cell_type": "code",
      "source": [
        "import cv2\n",
        "import mediapipe as mp\n",
        "import numpy as np\n"
      ],
      "metadata": {
        "id": "BZYOJ0bn9lq4"
      },
      "execution_count": 2,
      "outputs": []
    },
    {
      "cell_type": "markdown",
      "source": [
        "**Funktion für die Berechnung des Gelenkwinkels**"
      ],
      "metadata": {
        "id": "5BeeV8rdrWqF"
      }
    },
    {
      "cell_type": "code",
      "source": [
        "def calculate_angle(a, b, c):\n",
        "    a, b, c = np.array([a, b, c])\n",
        "    radians = np.arctan2(c[1] - b[1], c[0] - b[0]) - np.arctan2(a[1] - b[1], a[0] - b[0])\n",
        "    angle = np.abs(radians * 180.0 / np.pi)\n",
        "    return angle if angle <= 180.0 else 360 - angle\n"
      ],
      "metadata": {
        "id": "rhHKh0UDgtG8"
      },
      "execution_count": 3,
      "outputs": []
    },
    {
      "cell_type": "code",
      "source": [
        "def process_video(video_in_filename, video_out_filename=\"output.mp4\", data_filename=\"Winkel.txt\"):\n",
        "  # input Video einlesen\n",
        "  video_in = cv2.VideoCapture(video_in_filename)\n",
        "\n",
        "  # Mediapipe pose detection vorbereiten\n",
        "  mp_drawing = mp.solutions.drawing_utils\n",
        "  mp_pose = mp.solutions.pose\n",
        "  pose = mp_pose.Pose(min_detection_confidence=0.7, min_tracking_confidence=0.7)\n",
        "\n",
        "  # output Video vorbereiten       \n",
        "  frame_width = int(video_in.get(cv2.CAP_PROP_FRAME_WIDTH))\n",
        "  frame_height = int(video_in.get(cv2.CAP_PROP_FRAME_HEIGHT))\n",
        "  size = (frame_width, frame_height)\n",
        "  frames_per_second = video_in.get(cv2.CAP_PROP_FPS)\n",
        "  fourcc = cv2.VideoWriter_fourcc(*'mp4v')\n",
        "  video_out = cv2.VideoWriter(video_out_filename, fourcc, frames_per_second, size, isColor=True)\n",
        "\n",
        "\n",
        "  with open(data_filename, 'w') as angle_file :\n",
        "      while True:\n",
        "          # lies das nächste Bild vom Input Video\n",
        "          ret, image = video_in.read()\n",
        "          # Abbruch am Ende des Videos\n",
        "          if not ret:\n",
        "              break\n",
        "\n",
        "          # Make detection\n",
        "          results = pose.process(image)\n",
        "\n",
        "          # Extract landmarks\n",
        "          # Der try-exept Konstrukt stellt sicher, dass das Video weiterbearbeitet\n",
        "          # wird, auch wenn keine Landmarks im Bild gefunden wurden. \n",
        "          try:\n",
        "              landmarks = results.pose_landmarks.landmark\n",
        "\n",
        "              # Get coordinates\n",
        "              hip = np.array([landmarks[mp_pose.PoseLandmark.LEFT_HIP.value].x, landmarks[mp_pose.PoseLandmark.LEFT_HIP.value].y])\n",
        "              knee = np.array([landmarks[mp_pose.PoseLandmark.LEFT_KNEE.value].x, landmarks[mp_pose.PoseLandmark.LEFT_KNEE.value].y])\n",
        "              ankle_l = np.array([landmarks[mp_pose.PoseLandmark.LEFT_ANKLE.value].x, landmarks[mp_pose.PoseLandmark.LEFT_ANKLE.value].y])\n",
        "\n",
        "              # Calculate angle\n",
        "              angle = round(calculate_angle(hip, knee, ankle_l), 2)\n",
        "              #print(f'Winkel im linken Knie: {angle}')\n",
        "              # hier muss auch ein Timecode oder eine Frame Nummer mitgeschrieben werden\n",
        "              angle_file.write(f'{angle}, hip, knee, ankle_l\\n')\n",
        "          except:\n",
        "              # Mache weiter, auch wenn ein Fehler aufgetreten ist.\n",
        "              pass\n",
        "\n",
        "          # Render detections\n",
        "          mp_drawing.draw_landmarks(\n",
        "              image, results.pose_landmarks, mp_pose.POSE_CONNECTIONS,\n",
        "              mp_drawing.DrawingSpec(color=(245, 117, 66), thickness=2, circle_radius=2), \n",
        "              mp_drawing.DrawingSpec(color=(245, 66, 230), thickness=2, circle_radius=2)\n",
        "          )\n",
        "\n",
        "          # Save image to output video\n",
        "          video_out.write(image)\n",
        "\n",
        "\n",
        "  video_in.release()\n",
        "  video_out.release()\n",
        "\n"
      ],
      "metadata": {
        "id": "VLHL6jijFL82"
      },
      "execution_count": 6,
      "outputs": []
    },
    {
      "cell_type": "markdown",
      "source": [
        "Um ein Video zu verarbeiten, muss nur die Funktion process_video aufgerufen werden\n",
        "\n",
        "\n",
        "\n",
        "\n"
      ],
      "metadata": {
        "id": "Qym0RWyTrrCa"
      }
    },
    {
      "cell_type": "code",
      "source": [
        "process_video('seite_pur.mp4', video_out_filename=\"result.mp4\", data_filename=\"angle.txt\")"
      ],
      "metadata": {
        "id": "JnB4OwtnAmNp"
      },
      "execution_count": 7,
      "outputs": []
    }
  ]
}