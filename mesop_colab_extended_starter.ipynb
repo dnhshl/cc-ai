{
  "nbformat": 4,
  "nbformat_minor": 0,
  "metadata": {
    "colab": {
      "provenance": [],
      "private_outputs": true,
      "include_colab_link": true
    },
    "kernelspec": {
      "name": "python3",
      "display_name": "Python 3"
    },
    "language_info": {
      "name": "python"
    }
  },
  "cells": [
    {
      "cell_type": "markdown",
      "metadata": {
        "id": "view-in-github",
        "colab_type": "text"
      },
      "source": [
        "<a href=\"https://colab.research.google.com/github/dnhshl/cc-ai/blob/main/mesop_colab_extended_starter.ipynb\" target=\"_parent\"><img src=\"https://colab.research.google.com/assets/colab-badge.svg\" alt=\"Open In Colab\"/></a>"
      ]
    },
    {
      "cell_type": "markdown",
      "source": [
        "# Getting Started"
      ],
      "metadata": {
        "id": "ZCtrRuMdPpJG"
      }
    },
    {
      "cell_type": "code",
      "source": [
        "!pip install mesop"
      ],
      "metadata": {
        "id": "buRfwUlqPons"
      },
      "execution_count": null,
      "outputs": []
    },
    {
      "cell_type": "code",
      "source": [
        "import mesop as me\n",
        "import mesop.labs as mel\n",
        "\n",
        "me.colab_run()"
      ],
      "metadata": {
        "id": "hnyh1SX_P1XV"
      },
      "execution_count": null,
      "outputs": []
    },
    {
      "cell_type": "markdown",
      "source": [
        "# Mesop Example Pages"
      ],
      "metadata": {
        "id": "jNb8UJbpPwNj"
      }
    },
    {
      "cell_type": "markdown",
      "source": [
        "## Hello World"
      ],
      "metadata": {
        "id": "EKtdsEFKP_te"
      }
    },
    {
      "cell_type": "code",
      "execution_count": null,
      "metadata": {
        "id": "4NGHpjd5PZld"
      },
      "outputs": [],
      "source": [
        "@me.page(path=\"/hello_world\")\n",
        "def hello_world():\n",
        "  me.button(\"Back to Main\", on_click=on_click_main)\n",
        "  me.text(\"Hello World!\")"
      ]
    },
    {
      "cell_type": "markdown",
      "source": [
        "## Simple Chat"
      ],
      "metadata": {
        "id": "_l1xYfyHQBS-"
      }
    },
    {
      "cell_type": "code",
      "source": [
        "@me.page(path=\"/chat\")\n",
        "def chat():\n",
        "  me.button(\"Back to Main\", on_click=on_click_main)\n",
        "  mel.chat(transform)\n",
        "\n",
        "def transform(prompt: str, history: list[mel.ChatMessage]) -> str:\n",
        "  return \"Hello \" + prompt"
      ],
      "metadata": {
        "id": "dhKgb-YfQDHJ"
      },
      "execution_count": null,
      "outputs": []
    },
    {
      "cell_type": "markdown",
      "source": [
        "## Hauptseite und Navigation"
      ],
      "metadata": {
        "id": "xM6B-2ZZEVmo"
      }
    },
    {
      "cell_type": "code",
      "source": [
        "# Hauptseite mit Buttons auf Unterseiten\n",
        "\n",
        "def main_page():\n",
        "  with me.box(style=me.Style(display=\"flex\", flex_direction=\"row\", justify_content=\"space-around\")):\n",
        "    me.button(\"Navigate to hello world\",\n",
        "              type=\"flat\",\n",
        "              color=\"primary\",\n",
        "              on_click=on_click_hello)\n",
        "    me.button(\"Navigate to chat\",\n",
        "              type=\"flat\",\n",
        "              color=\"primary\",\n",
        "              on_click=on_click_chat)\n",
        "\n",
        "\n",
        "def on_click_hello(e: me.ClickEvent):\n",
        "  me.navigate(\"/hello_world\")\n",
        "\n",
        "def on_click_chat(e: me.ClickEvent):\n",
        "  me.navigate(\"/chat\")\n",
        "\n",
        "def on_click_main(e: me.ClickEvent):\n",
        "  me.navigate(\"/\")\n"
      ],
      "metadata": {
        "id": "wE8ap-FsFJ7W"
      },
      "execution_count": null,
      "outputs": []
    },
    {
      "cell_type": "code",
      "source": [
        "\n",
        "@me.page(path=\"/\")\n",
        "def app():\n",
        "    with me.box(style=me.Style(\n",
        "        display=\"grid\",\n",
        "        grid_template_rows=\"auto 1fr auto\",\n",
        "        height=\"100%\"\n",
        "    )):\n",
        "        # Header\n",
        "        with me.box(style=me.Style(\n",
        "            background=\"#f0f0f0\",\n",
        "            padding=me.Padding.all(24)\n",
        "        )):\n",
        "            me.text(\"My First App\", type=\"headline-2\")\n",
        "\n",
        "        # Body\n",
        "        with me.box(style=me.Style(\n",
        "            padding=me.Padding.all(24),\n",
        "            overflow_y=\"auto\"\n",
        "        )):\n",
        "            main_page()\n",
        "\n",
        "\n",
        "me.colab_show(path=\"/\")"
      ],
      "metadata": {
        "id": "ZP7l_mMQDWoK"
      },
      "execution_count": null,
      "outputs": []
    }
  ]
}